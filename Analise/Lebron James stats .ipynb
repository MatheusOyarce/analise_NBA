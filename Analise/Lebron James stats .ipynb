{
 "cells": [
  {
   "cell_type": "code",
   "execution_count": null,
   "id": "5531013a",
   "metadata": {},
   "outputs": [],
   "source": [
    "# Utilizarei api que a nba disponibiliza com as stats\n",
    "!pip install nba_api"
   ]
  },
  {
   "cell_type": "code",
   "execution_count": 622,
   "id": "44914337",
   "metadata": {},
   "outputs": [],
   "source": [
    "# Importando bibliotecas\n",
    "import pandas as pd\n",
    "import numpy as np\n",
    "import matplotlib.pyplot as plt\n",
    "import seaborn as sns\n",
    "\n",
    "# Api NBA\n",
    "from nba_api.stats.static import players\n",
    "from nba_api.stats.static import teams\n",
    "from nba_api.stats.endpoints import playercareerstats\n",
    "\n",
    "pd.set_option('display.max_columns',250)"
   ]
  },
  {
   "cell_type": "code",
   "execution_count": 623,
   "id": "b16b335c",
   "metadata": {},
   "outputs": [
    {
     "name": "stdout",
     "output_type": "stream",
     "text": [
      "Total de jogadores: 4831\n"
     ]
    },
    {
     "data": {
      "text/html": [
       "<div>\n",
       "<style scoped>\n",
       "    .dataframe tbody tr th:only-of-type {\n",
       "        vertical-align: middle;\n",
       "    }\n",
       "\n",
       "    .dataframe tbody tr th {\n",
       "        vertical-align: top;\n",
       "    }\n",
       "\n",
       "    .dataframe thead th {\n",
       "        text-align: right;\n",
       "    }\n",
       "</style>\n",
       "<table border=\"1\" class=\"dataframe\">\n",
       "  <thead>\n",
       "    <tr style=\"text-align: right;\">\n",
       "      <th></th>\n",
       "      <th>id</th>\n",
       "      <th>full_name</th>\n",
       "      <th>first_name</th>\n",
       "      <th>last_name</th>\n",
       "      <th>is_active</th>\n",
       "    </tr>\n",
       "  </thead>\n",
       "  <tbody>\n",
       "    <tr>\n",
       "      <th>0</th>\n",
       "      <td>76001</td>\n",
       "      <td>Alaa Abdelnaby</td>\n",
       "      <td>Alaa</td>\n",
       "      <td>Abdelnaby</td>\n",
       "      <td>False</td>\n",
       "    </tr>\n",
       "    <tr>\n",
       "      <th>1</th>\n",
       "      <td>76002</td>\n",
       "      <td>Zaid Abdul-Aziz</td>\n",
       "      <td>Zaid</td>\n",
       "      <td>Abdul-Aziz</td>\n",
       "      <td>False</td>\n",
       "    </tr>\n",
       "    <tr>\n",
       "      <th>2</th>\n",
       "      <td>76003</td>\n",
       "      <td>Kareem Abdul-Jabbar</td>\n",
       "      <td>Kareem</td>\n",
       "      <td>Abdul-Jabbar</td>\n",
       "      <td>False</td>\n",
       "    </tr>\n",
       "    <tr>\n",
       "      <th>3</th>\n",
       "      <td>51</td>\n",
       "      <td>Mahmoud Abdul-Rauf</td>\n",
       "      <td>Mahmoud</td>\n",
       "      <td>Abdul-Rauf</td>\n",
       "      <td>False</td>\n",
       "    </tr>\n",
       "    <tr>\n",
       "      <th>4</th>\n",
       "      <td>1505</td>\n",
       "      <td>Tariq Abdul-Wahad</td>\n",
       "      <td>Tariq</td>\n",
       "      <td>Abdul-Wahad</td>\n",
       "      <td>False</td>\n",
       "    </tr>\n",
       "  </tbody>\n",
       "</table>\n",
       "</div>"
      ],
      "text/plain": [
       "      id            full_name first_name     last_name  is_active\n",
       "0  76001       Alaa Abdelnaby       Alaa     Abdelnaby      False\n",
       "1  76002      Zaid Abdul-Aziz       Zaid    Abdul-Aziz      False\n",
       "2  76003  Kareem Abdul-Jabbar     Kareem  Abdul-Jabbar      False\n",
       "3     51   Mahmoud Abdul-Rauf    Mahmoud    Abdul-Rauf      False\n",
       "4   1505    Tariq Abdul-Wahad      Tariq   Abdul-Wahad      False"
      ]
     },
     "execution_count": 623,
     "metadata": {},
     "output_type": "execute_result"
    }
   ],
   "source": [
    "# Criando DataFrame\n",
    "player_dict = players.get_players()\n",
    "players = pd.DataFrame (player_dict)\n",
    "print (\"Total de jogadores:\",players.shape[0])\n",
    "players.head()"
   ]
  },
  {
   "cell_type": "code",
   "execution_count": 624,
   "id": "16a08807",
   "metadata": {},
   "outputs": [
    {
     "data": {
      "text/html": [
       "<div>\n",
       "<style scoped>\n",
       "    .dataframe tbody tr th:only-of-type {\n",
       "        vertical-align: middle;\n",
       "    }\n",
       "\n",
       "    .dataframe tbody tr th {\n",
       "        vertical-align: top;\n",
       "    }\n",
       "\n",
       "    .dataframe thead th {\n",
       "        text-align: right;\n",
       "    }\n",
       "</style>\n",
       "<table border=\"1\" class=\"dataframe\">\n",
       "  <thead>\n",
       "    <tr style=\"text-align: right;\">\n",
       "      <th></th>\n",
       "      <th>id</th>\n",
       "      <th>full_name</th>\n",
       "      <th>first_name</th>\n",
       "      <th>last_name</th>\n",
       "      <th>is_active</th>\n",
       "    </tr>\n",
       "  </thead>\n",
       "  <tbody>\n",
       "    <tr>\n",
       "      <th>2083</th>\n",
       "      <td>2544</td>\n",
       "      <td>LeBron James</td>\n",
       "      <td>LeBron</td>\n",
       "      <td>James</td>\n",
       "      <td>True</td>\n",
       "    </tr>\n",
       "  </tbody>\n",
       "</table>\n",
       "</div>"
      ],
      "text/plain": [
       "        id     full_name first_name last_name  is_active\n",
       "2083  2544  LeBron James     LeBron     James       True"
      ]
     },
     "metadata": {},
     "output_type": "display_data"
    }
   ],
   "source": [
    "# Procurando o Lebron James\n",
    "lebronId = players.id[players.full_name == 'LeBron James'].to_list()[0]\n",
    "display(players[players.full_name == 'LeBron James'])"
   ]
  },
  {
   "cell_type": "code",
   "execution_count": 625,
   "id": "d5bc3c68",
   "metadata": {},
   "outputs": [
    {
     "data": {
      "text/html": [
       "<div>\n",
       "<style scoped>\n",
       "    .dataframe tbody tr th:only-of-type {\n",
       "        vertical-align: middle;\n",
       "    }\n",
       "\n",
       "    .dataframe tbody tr th {\n",
       "        vertical-align: top;\n",
       "    }\n",
       "\n",
       "    .dataframe thead th {\n",
       "        text-align: right;\n",
       "    }\n",
       "</style>\n",
       "<table border=\"1\" class=\"dataframe\">\n",
       "  <thead>\n",
       "    <tr style=\"text-align: right;\">\n",
       "      <th></th>\n",
       "      <th>PLAYER_ID</th>\n",
       "      <th>SEASON_ID</th>\n",
       "      <th>LEAGUE_ID</th>\n",
       "      <th>TEAM_ID</th>\n",
       "      <th>TEAM_ABBREVIATION</th>\n",
       "      <th>PLAYER_AGE</th>\n",
       "      <th>GP</th>\n",
       "      <th>GS</th>\n",
       "      <th>MIN</th>\n",
       "      <th>FGM</th>\n",
       "      <th>FGA</th>\n",
       "      <th>FG_PCT</th>\n",
       "      <th>FG3M</th>\n",
       "      <th>FG3A</th>\n",
       "      <th>FG3_PCT</th>\n",
       "      <th>FTM</th>\n",
       "      <th>FTA</th>\n",
       "      <th>FT_PCT</th>\n",
       "      <th>OREB</th>\n",
       "      <th>DREB</th>\n",
       "      <th>REB</th>\n",
       "      <th>AST</th>\n",
       "      <th>STL</th>\n",
       "      <th>BLK</th>\n",
       "      <th>TOV</th>\n",
       "      <th>PF</th>\n",
       "      <th>PTS</th>\n",
       "    </tr>\n",
       "  </thead>\n",
       "  <tbody>\n",
       "    <tr>\n",
       "      <th>0</th>\n",
       "      <td>2544</td>\n",
       "      <td>2003-04</td>\n",
       "      <td>00</td>\n",
       "      <td>1610612739</td>\n",
       "      <td>CLE</td>\n",
       "      <td>19.0</td>\n",
       "      <td>79</td>\n",
       "      <td>79</td>\n",
       "      <td>3120.0</td>\n",
       "      <td>622</td>\n",
       "      <td>1492</td>\n",
       "      <td>0.417</td>\n",
       "      <td>63</td>\n",
       "      <td>217</td>\n",
       "      <td>0.290</td>\n",
       "      <td>347</td>\n",
       "      <td>460</td>\n",
       "      <td>0.754</td>\n",
       "      <td>99</td>\n",
       "      <td>333</td>\n",
       "      <td>432</td>\n",
       "      <td>465</td>\n",
       "      <td>130</td>\n",
       "      <td>58</td>\n",
       "      <td>273</td>\n",
       "      <td>149</td>\n",
       "      <td>1654</td>\n",
       "    </tr>\n",
       "    <tr>\n",
       "      <th>1</th>\n",
       "      <td>2544</td>\n",
       "      <td>2004-05</td>\n",
       "      <td>00</td>\n",
       "      <td>1610612739</td>\n",
       "      <td>CLE</td>\n",
       "      <td>20.0</td>\n",
       "      <td>80</td>\n",
       "      <td>80</td>\n",
       "      <td>3388.0</td>\n",
       "      <td>795</td>\n",
       "      <td>1684</td>\n",
       "      <td>0.472</td>\n",
       "      <td>108</td>\n",
       "      <td>308</td>\n",
       "      <td>0.351</td>\n",
       "      <td>477</td>\n",
       "      <td>636</td>\n",
       "      <td>0.750</td>\n",
       "      <td>111</td>\n",
       "      <td>477</td>\n",
       "      <td>588</td>\n",
       "      <td>577</td>\n",
       "      <td>177</td>\n",
       "      <td>52</td>\n",
       "      <td>262</td>\n",
       "      <td>146</td>\n",
       "      <td>2175</td>\n",
       "    </tr>\n",
       "    <tr>\n",
       "      <th>2</th>\n",
       "      <td>2544</td>\n",
       "      <td>2005-06</td>\n",
       "      <td>00</td>\n",
       "      <td>1610612739</td>\n",
       "      <td>CLE</td>\n",
       "      <td>21.0</td>\n",
       "      <td>79</td>\n",
       "      <td>79</td>\n",
       "      <td>3361.0</td>\n",
       "      <td>875</td>\n",
       "      <td>1823</td>\n",
       "      <td>0.480</td>\n",
       "      <td>127</td>\n",
       "      <td>379</td>\n",
       "      <td>0.335</td>\n",
       "      <td>601</td>\n",
       "      <td>814</td>\n",
       "      <td>0.738</td>\n",
       "      <td>75</td>\n",
       "      <td>481</td>\n",
       "      <td>556</td>\n",
       "      <td>521</td>\n",
       "      <td>123</td>\n",
       "      <td>66</td>\n",
       "      <td>260</td>\n",
       "      <td>181</td>\n",
       "      <td>2478</td>\n",
       "    </tr>\n",
       "    <tr>\n",
       "      <th>3</th>\n",
       "      <td>2544</td>\n",
       "      <td>2006-07</td>\n",
       "      <td>00</td>\n",
       "      <td>1610612739</td>\n",
       "      <td>CLE</td>\n",
       "      <td>22.0</td>\n",
       "      <td>78</td>\n",
       "      <td>78</td>\n",
       "      <td>3190.0</td>\n",
       "      <td>772</td>\n",
       "      <td>1621</td>\n",
       "      <td>0.476</td>\n",
       "      <td>99</td>\n",
       "      <td>310</td>\n",
       "      <td>0.319</td>\n",
       "      <td>489</td>\n",
       "      <td>701</td>\n",
       "      <td>0.698</td>\n",
       "      <td>83</td>\n",
       "      <td>443</td>\n",
       "      <td>526</td>\n",
       "      <td>470</td>\n",
       "      <td>125</td>\n",
       "      <td>55</td>\n",
       "      <td>250</td>\n",
       "      <td>171</td>\n",
       "      <td>2132</td>\n",
       "    </tr>\n",
       "    <tr>\n",
       "      <th>4</th>\n",
       "      <td>2544</td>\n",
       "      <td>2007-08</td>\n",
       "      <td>00</td>\n",
       "      <td>1610612739</td>\n",
       "      <td>CLE</td>\n",
       "      <td>23.0</td>\n",
       "      <td>75</td>\n",
       "      <td>74</td>\n",
       "      <td>3027.0</td>\n",
       "      <td>794</td>\n",
       "      <td>1642</td>\n",
       "      <td>0.484</td>\n",
       "      <td>113</td>\n",
       "      <td>359</td>\n",
       "      <td>0.315</td>\n",
       "      <td>549</td>\n",
       "      <td>771</td>\n",
       "      <td>0.712</td>\n",
       "      <td>133</td>\n",
       "      <td>459</td>\n",
       "      <td>592</td>\n",
       "      <td>539</td>\n",
       "      <td>138</td>\n",
       "      <td>81</td>\n",
       "      <td>255</td>\n",
       "      <td>165</td>\n",
       "      <td>2250</td>\n",
       "    </tr>\n",
       "    <tr>\n",
       "      <th>5</th>\n",
       "      <td>2544</td>\n",
       "      <td>2008-09</td>\n",
       "      <td>00</td>\n",
       "      <td>1610612739</td>\n",
       "      <td>CLE</td>\n",
       "      <td>24.0</td>\n",
       "      <td>81</td>\n",
       "      <td>81</td>\n",
       "      <td>3054.0</td>\n",
       "      <td>789</td>\n",
       "      <td>1613</td>\n",
       "      <td>0.489</td>\n",
       "      <td>132</td>\n",
       "      <td>384</td>\n",
       "      <td>0.344</td>\n",
       "      <td>594</td>\n",
       "      <td>762</td>\n",
       "      <td>0.780</td>\n",
       "      <td>106</td>\n",
       "      <td>507</td>\n",
       "      <td>613</td>\n",
       "      <td>587</td>\n",
       "      <td>137</td>\n",
       "      <td>93</td>\n",
       "      <td>241</td>\n",
       "      <td>139</td>\n",
       "      <td>2304</td>\n",
       "    </tr>\n",
       "    <tr>\n",
       "      <th>6</th>\n",
       "      <td>2544</td>\n",
       "      <td>2009-10</td>\n",
       "      <td>00</td>\n",
       "      <td>1610612739</td>\n",
       "      <td>CLE</td>\n",
       "      <td>25.0</td>\n",
       "      <td>76</td>\n",
       "      <td>76</td>\n",
       "      <td>2966.0</td>\n",
       "      <td>768</td>\n",
       "      <td>1528</td>\n",
       "      <td>0.503</td>\n",
       "      <td>129</td>\n",
       "      <td>387</td>\n",
       "      <td>0.333</td>\n",
       "      <td>593</td>\n",
       "      <td>773</td>\n",
       "      <td>0.767</td>\n",
       "      <td>71</td>\n",
       "      <td>483</td>\n",
       "      <td>554</td>\n",
       "      <td>651</td>\n",
       "      <td>125</td>\n",
       "      <td>77</td>\n",
       "      <td>261</td>\n",
       "      <td>119</td>\n",
       "      <td>2258</td>\n",
       "    </tr>\n",
       "    <tr>\n",
       "      <th>7</th>\n",
       "      <td>2544</td>\n",
       "      <td>2010-11</td>\n",
       "      <td>00</td>\n",
       "      <td>1610612748</td>\n",
       "      <td>MIA</td>\n",
       "      <td>26.0</td>\n",
       "      <td>79</td>\n",
       "      <td>79</td>\n",
       "      <td>3063.0</td>\n",
       "      <td>758</td>\n",
       "      <td>1485</td>\n",
       "      <td>0.510</td>\n",
       "      <td>92</td>\n",
       "      <td>279</td>\n",
       "      <td>0.330</td>\n",
       "      <td>503</td>\n",
       "      <td>663</td>\n",
       "      <td>0.759</td>\n",
       "      <td>80</td>\n",
       "      <td>510</td>\n",
       "      <td>590</td>\n",
       "      <td>554</td>\n",
       "      <td>124</td>\n",
       "      <td>50</td>\n",
       "      <td>284</td>\n",
       "      <td>163</td>\n",
       "      <td>2111</td>\n",
       "    </tr>\n",
       "    <tr>\n",
       "      <th>8</th>\n",
       "      <td>2544</td>\n",
       "      <td>2011-12</td>\n",
       "      <td>00</td>\n",
       "      <td>1610612748</td>\n",
       "      <td>MIA</td>\n",
       "      <td>27.0</td>\n",
       "      <td>62</td>\n",
       "      <td>62</td>\n",
       "      <td>2326.0</td>\n",
       "      <td>621</td>\n",
       "      <td>1169</td>\n",
       "      <td>0.531</td>\n",
       "      <td>54</td>\n",
       "      <td>149</td>\n",
       "      <td>0.362</td>\n",
       "      <td>387</td>\n",
       "      <td>502</td>\n",
       "      <td>0.771</td>\n",
       "      <td>94</td>\n",
       "      <td>398</td>\n",
       "      <td>492</td>\n",
       "      <td>387</td>\n",
       "      <td>115</td>\n",
       "      <td>50</td>\n",
       "      <td>213</td>\n",
       "      <td>96</td>\n",
       "      <td>1683</td>\n",
       "    </tr>\n",
       "    <tr>\n",
       "      <th>9</th>\n",
       "      <td>2544</td>\n",
       "      <td>2012-13</td>\n",
       "      <td>00</td>\n",
       "      <td>1610612748</td>\n",
       "      <td>MIA</td>\n",
       "      <td>28.0</td>\n",
       "      <td>76</td>\n",
       "      <td>76</td>\n",
       "      <td>2877.0</td>\n",
       "      <td>765</td>\n",
       "      <td>1354</td>\n",
       "      <td>0.565</td>\n",
       "      <td>103</td>\n",
       "      <td>254</td>\n",
       "      <td>0.406</td>\n",
       "      <td>403</td>\n",
       "      <td>535</td>\n",
       "      <td>0.753</td>\n",
       "      <td>97</td>\n",
       "      <td>513</td>\n",
       "      <td>610</td>\n",
       "      <td>551</td>\n",
       "      <td>129</td>\n",
       "      <td>67</td>\n",
       "      <td>226</td>\n",
       "      <td>110</td>\n",
       "      <td>2036</td>\n",
       "    </tr>\n",
       "    <tr>\n",
       "      <th>10</th>\n",
       "      <td>2544</td>\n",
       "      <td>2013-14</td>\n",
       "      <td>00</td>\n",
       "      <td>1610612748</td>\n",
       "      <td>MIA</td>\n",
       "      <td>29.0</td>\n",
       "      <td>77</td>\n",
       "      <td>77</td>\n",
       "      <td>2902.0</td>\n",
       "      <td>767</td>\n",
       "      <td>1353</td>\n",
       "      <td>0.567</td>\n",
       "      <td>116</td>\n",
       "      <td>306</td>\n",
       "      <td>0.379</td>\n",
       "      <td>439</td>\n",
       "      <td>585</td>\n",
       "      <td>0.750</td>\n",
       "      <td>81</td>\n",
       "      <td>452</td>\n",
       "      <td>533</td>\n",
       "      <td>488</td>\n",
       "      <td>121</td>\n",
       "      <td>26</td>\n",
       "      <td>270</td>\n",
       "      <td>126</td>\n",
       "      <td>2089</td>\n",
       "    </tr>\n",
       "    <tr>\n",
       "      <th>11</th>\n",
       "      <td>2544</td>\n",
       "      <td>2014-15</td>\n",
       "      <td>00</td>\n",
       "      <td>1610612739</td>\n",
       "      <td>CLE</td>\n",
       "      <td>30.0</td>\n",
       "      <td>69</td>\n",
       "      <td>69</td>\n",
       "      <td>2493.0</td>\n",
       "      <td>624</td>\n",
       "      <td>1279</td>\n",
       "      <td>0.488</td>\n",
       "      <td>120</td>\n",
       "      <td>339</td>\n",
       "      <td>0.354</td>\n",
       "      <td>375</td>\n",
       "      <td>528</td>\n",
       "      <td>0.710</td>\n",
       "      <td>51</td>\n",
       "      <td>365</td>\n",
       "      <td>416</td>\n",
       "      <td>511</td>\n",
       "      <td>109</td>\n",
       "      <td>49</td>\n",
       "      <td>272</td>\n",
       "      <td>135</td>\n",
       "      <td>1743</td>\n",
       "    </tr>\n",
       "    <tr>\n",
       "      <th>12</th>\n",
       "      <td>2544</td>\n",
       "      <td>2015-16</td>\n",
       "      <td>00</td>\n",
       "      <td>1610612739</td>\n",
       "      <td>CLE</td>\n",
       "      <td>31.0</td>\n",
       "      <td>76</td>\n",
       "      <td>76</td>\n",
       "      <td>2709.0</td>\n",
       "      <td>737</td>\n",
       "      <td>1416</td>\n",
       "      <td>0.520</td>\n",
       "      <td>87</td>\n",
       "      <td>282</td>\n",
       "      <td>0.309</td>\n",
       "      <td>359</td>\n",
       "      <td>491</td>\n",
       "      <td>0.731</td>\n",
       "      <td>111</td>\n",
       "      <td>454</td>\n",
       "      <td>565</td>\n",
       "      <td>514</td>\n",
       "      <td>104</td>\n",
       "      <td>49</td>\n",
       "      <td>249</td>\n",
       "      <td>143</td>\n",
       "      <td>1920</td>\n",
       "    </tr>\n",
       "    <tr>\n",
       "      <th>13</th>\n",
       "      <td>2544</td>\n",
       "      <td>2016-17</td>\n",
       "      <td>00</td>\n",
       "      <td>1610612739</td>\n",
       "      <td>CLE</td>\n",
       "      <td>32.0</td>\n",
       "      <td>74</td>\n",
       "      <td>74</td>\n",
       "      <td>2795.0</td>\n",
       "      <td>736</td>\n",
       "      <td>1344</td>\n",
       "      <td>0.548</td>\n",
       "      <td>124</td>\n",
       "      <td>342</td>\n",
       "      <td>0.363</td>\n",
       "      <td>358</td>\n",
       "      <td>531</td>\n",
       "      <td>0.674</td>\n",
       "      <td>97</td>\n",
       "      <td>542</td>\n",
       "      <td>639</td>\n",
       "      <td>646</td>\n",
       "      <td>92</td>\n",
       "      <td>44</td>\n",
       "      <td>303</td>\n",
       "      <td>134</td>\n",
       "      <td>1954</td>\n",
       "    </tr>\n",
       "    <tr>\n",
       "      <th>14</th>\n",
       "      <td>2544</td>\n",
       "      <td>2017-18</td>\n",
       "      <td>00</td>\n",
       "      <td>1610612739</td>\n",
       "      <td>CLE</td>\n",
       "      <td>33.0</td>\n",
       "      <td>82</td>\n",
       "      <td>82</td>\n",
       "      <td>3026.0</td>\n",
       "      <td>857</td>\n",
       "      <td>1580</td>\n",
       "      <td>0.542</td>\n",
       "      <td>149</td>\n",
       "      <td>406</td>\n",
       "      <td>0.367</td>\n",
       "      <td>388</td>\n",
       "      <td>531</td>\n",
       "      <td>0.731</td>\n",
       "      <td>97</td>\n",
       "      <td>612</td>\n",
       "      <td>709</td>\n",
       "      <td>747</td>\n",
       "      <td>116</td>\n",
       "      <td>71</td>\n",
       "      <td>347</td>\n",
       "      <td>136</td>\n",
       "      <td>2251</td>\n",
       "    </tr>\n",
       "    <tr>\n",
       "      <th>15</th>\n",
       "      <td>2544</td>\n",
       "      <td>2018-19</td>\n",
       "      <td>00</td>\n",
       "      <td>1610612747</td>\n",
       "      <td>LAL</td>\n",
       "      <td>34.0</td>\n",
       "      <td>55</td>\n",
       "      <td>55</td>\n",
       "      <td>1937.0</td>\n",
       "      <td>558</td>\n",
       "      <td>1095</td>\n",
       "      <td>0.510</td>\n",
       "      <td>111</td>\n",
       "      <td>327</td>\n",
       "      <td>0.339</td>\n",
       "      <td>278</td>\n",
       "      <td>418</td>\n",
       "      <td>0.665</td>\n",
       "      <td>57</td>\n",
       "      <td>408</td>\n",
       "      <td>465</td>\n",
       "      <td>454</td>\n",
       "      <td>72</td>\n",
       "      <td>33</td>\n",
       "      <td>197</td>\n",
       "      <td>94</td>\n",
       "      <td>1505</td>\n",
       "    </tr>\n",
       "    <tr>\n",
       "      <th>16</th>\n",
       "      <td>2544</td>\n",
       "      <td>2019-20</td>\n",
       "      <td>00</td>\n",
       "      <td>1610612747</td>\n",
       "      <td>LAL</td>\n",
       "      <td>35.0</td>\n",
       "      <td>67</td>\n",
       "      <td>67</td>\n",
       "      <td>2316.0</td>\n",
       "      <td>643</td>\n",
       "      <td>1303</td>\n",
       "      <td>0.493</td>\n",
       "      <td>148</td>\n",
       "      <td>425</td>\n",
       "      <td>0.348</td>\n",
       "      <td>264</td>\n",
       "      <td>381</td>\n",
       "      <td>0.693</td>\n",
       "      <td>66</td>\n",
       "      <td>459</td>\n",
       "      <td>525</td>\n",
       "      <td>684</td>\n",
       "      <td>78</td>\n",
       "      <td>36</td>\n",
       "      <td>261</td>\n",
       "      <td>118</td>\n",
       "      <td>1698</td>\n",
       "    </tr>\n",
       "    <tr>\n",
       "      <th>17</th>\n",
       "      <td>2544</td>\n",
       "      <td>2020-21</td>\n",
       "      <td>00</td>\n",
       "      <td>1610612747</td>\n",
       "      <td>LAL</td>\n",
       "      <td>36.0</td>\n",
       "      <td>45</td>\n",
       "      <td>45</td>\n",
       "      <td>1504.0</td>\n",
       "      <td>422</td>\n",
       "      <td>823</td>\n",
       "      <td>0.513</td>\n",
       "      <td>104</td>\n",
       "      <td>285</td>\n",
       "      <td>0.365</td>\n",
       "      <td>178</td>\n",
       "      <td>255</td>\n",
       "      <td>0.698</td>\n",
       "      <td>29</td>\n",
       "      <td>317</td>\n",
       "      <td>346</td>\n",
       "      <td>350</td>\n",
       "      <td>48</td>\n",
       "      <td>25</td>\n",
       "      <td>168</td>\n",
       "      <td>70</td>\n",
       "      <td>1126</td>\n",
       "    </tr>\n",
       "    <tr>\n",
       "      <th>18</th>\n",
       "      <td>2544</td>\n",
       "      <td>2021-22</td>\n",
       "      <td>00</td>\n",
       "      <td>1610612747</td>\n",
       "      <td>LAL</td>\n",
       "      <td>37.0</td>\n",
       "      <td>56</td>\n",
       "      <td>56</td>\n",
       "      <td>2084.0</td>\n",
       "      <td>640</td>\n",
       "      <td>1221</td>\n",
       "      <td>0.524</td>\n",
       "      <td>161</td>\n",
       "      <td>448</td>\n",
       "      <td>0.359</td>\n",
       "      <td>254</td>\n",
       "      <td>336</td>\n",
       "      <td>0.756</td>\n",
       "      <td>63</td>\n",
       "      <td>396</td>\n",
       "      <td>459</td>\n",
       "      <td>349</td>\n",
       "      <td>73</td>\n",
       "      <td>59</td>\n",
       "      <td>196</td>\n",
       "      <td>121</td>\n",
       "      <td>1695</td>\n",
       "    </tr>\n",
       "    <tr>\n",
       "      <th>19</th>\n",
       "      <td>2544</td>\n",
       "      <td>2022-23</td>\n",
       "      <td>00</td>\n",
       "      <td>1610612747</td>\n",
       "      <td>LAL</td>\n",
       "      <td>38.0</td>\n",
       "      <td>45</td>\n",
       "      <td>45</td>\n",
       "      <td>1632.0</td>\n",
       "      <td>517</td>\n",
       "      <td>1018</td>\n",
       "      <td>0.508</td>\n",
       "      <td>97</td>\n",
       "      <td>313</td>\n",
       "      <td>0.310</td>\n",
       "      <td>218</td>\n",
       "      <td>286</td>\n",
       "      <td>0.762</td>\n",
       "      <td>51</td>\n",
       "      <td>328</td>\n",
       "      <td>379</td>\n",
       "      <td>315</td>\n",
       "      <td>43</td>\n",
       "      <td>25</td>\n",
       "      <td>142</td>\n",
       "      <td>73</td>\n",
       "      <td>1349</td>\n",
       "    </tr>\n",
       "  </tbody>\n",
       "</table>\n",
       "</div>"
      ],
      "text/plain": [
       "    PLAYER_ID SEASON_ID LEAGUE_ID     TEAM_ID TEAM_ABBREVIATION  PLAYER_AGE  \\\n",
       "0        2544   2003-04        00  1610612739               CLE        19.0   \n",
       "1        2544   2004-05        00  1610612739               CLE        20.0   \n",
       "2        2544   2005-06        00  1610612739               CLE        21.0   \n",
       "3        2544   2006-07        00  1610612739               CLE        22.0   \n",
       "4        2544   2007-08        00  1610612739               CLE        23.0   \n",
       "5        2544   2008-09        00  1610612739               CLE        24.0   \n",
       "6        2544   2009-10        00  1610612739               CLE        25.0   \n",
       "7        2544   2010-11        00  1610612748               MIA        26.0   \n",
       "8        2544   2011-12        00  1610612748               MIA        27.0   \n",
       "9        2544   2012-13        00  1610612748               MIA        28.0   \n",
       "10       2544   2013-14        00  1610612748               MIA        29.0   \n",
       "11       2544   2014-15        00  1610612739               CLE        30.0   \n",
       "12       2544   2015-16        00  1610612739               CLE        31.0   \n",
       "13       2544   2016-17        00  1610612739               CLE        32.0   \n",
       "14       2544   2017-18        00  1610612739               CLE        33.0   \n",
       "15       2544   2018-19        00  1610612747               LAL        34.0   \n",
       "16       2544   2019-20        00  1610612747               LAL        35.0   \n",
       "17       2544   2020-21        00  1610612747               LAL        36.0   \n",
       "18       2544   2021-22        00  1610612747               LAL        37.0   \n",
       "19       2544   2022-23        00  1610612747               LAL        38.0   \n",
       "\n",
       "    GP  GS     MIN  FGM   FGA  FG_PCT  FG3M  FG3A  FG3_PCT  FTM  FTA  FT_PCT  \\\n",
       "0   79  79  3120.0  622  1492   0.417    63   217    0.290  347  460   0.754   \n",
       "1   80  80  3388.0  795  1684   0.472   108   308    0.351  477  636   0.750   \n",
       "2   79  79  3361.0  875  1823   0.480   127   379    0.335  601  814   0.738   \n",
       "3   78  78  3190.0  772  1621   0.476    99   310    0.319  489  701   0.698   \n",
       "4   75  74  3027.0  794  1642   0.484   113   359    0.315  549  771   0.712   \n",
       "5   81  81  3054.0  789  1613   0.489   132   384    0.344  594  762   0.780   \n",
       "6   76  76  2966.0  768  1528   0.503   129   387    0.333  593  773   0.767   \n",
       "7   79  79  3063.0  758  1485   0.510    92   279    0.330  503  663   0.759   \n",
       "8   62  62  2326.0  621  1169   0.531    54   149    0.362  387  502   0.771   \n",
       "9   76  76  2877.0  765  1354   0.565   103   254    0.406  403  535   0.753   \n",
       "10  77  77  2902.0  767  1353   0.567   116   306    0.379  439  585   0.750   \n",
       "11  69  69  2493.0  624  1279   0.488   120   339    0.354  375  528   0.710   \n",
       "12  76  76  2709.0  737  1416   0.520    87   282    0.309  359  491   0.731   \n",
       "13  74  74  2795.0  736  1344   0.548   124   342    0.363  358  531   0.674   \n",
       "14  82  82  3026.0  857  1580   0.542   149   406    0.367  388  531   0.731   \n",
       "15  55  55  1937.0  558  1095   0.510   111   327    0.339  278  418   0.665   \n",
       "16  67  67  2316.0  643  1303   0.493   148   425    0.348  264  381   0.693   \n",
       "17  45  45  1504.0  422   823   0.513   104   285    0.365  178  255   0.698   \n",
       "18  56  56  2084.0  640  1221   0.524   161   448    0.359  254  336   0.756   \n",
       "19  45  45  1632.0  517  1018   0.508    97   313    0.310  218  286   0.762   \n",
       "\n",
       "    OREB  DREB  REB  AST  STL  BLK  TOV   PF   PTS  \n",
       "0     99   333  432  465  130   58  273  149  1654  \n",
       "1    111   477  588  577  177   52  262  146  2175  \n",
       "2     75   481  556  521  123   66  260  181  2478  \n",
       "3     83   443  526  470  125   55  250  171  2132  \n",
       "4    133   459  592  539  138   81  255  165  2250  \n",
       "5    106   507  613  587  137   93  241  139  2304  \n",
       "6     71   483  554  651  125   77  261  119  2258  \n",
       "7     80   510  590  554  124   50  284  163  2111  \n",
       "8     94   398  492  387  115   50  213   96  1683  \n",
       "9     97   513  610  551  129   67  226  110  2036  \n",
       "10    81   452  533  488  121   26  270  126  2089  \n",
       "11    51   365  416  511  109   49  272  135  1743  \n",
       "12   111   454  565  514  104   49  249  143  1920  \n",
       "13    97   542  639  646   92   44  303  134  1954  \n",
       "14    97   612  709  747  116   71  347  136  2251  \n",
       "15    57   408  465  454   72   33  197   94  1505  \n",
       "16    66   459  525  684   78   36  261  118  1698  \n",
       "17    29   317  346  350   48   25  168   70  1126  \n",
       "18    63   396  459  349   73   59  196  121  1695  \n",
       "19    51   328  379  315   43   25  142   73  1349  "
      ]
     },
     "execution_count": 625,
     "metadata": {},
     "output_type": "execute_result"
    }
   ],
   "source": [
    "# Buscando todos os status do Lebron\n",
    "lebronCarreira = playercareerstats.PlayerCareerStats(player_id = lebronId)\n",
    "lebronCarreira = lebronCarreira.get_data_frames()[0]\n",
    "lebronCarreira"
   ]
  },
  {
   "cell_type": "code",
   "execution_count": 626,
   "id": "87ca1d3c",
   "metadata": {},
   "outputs": [
    {
     "data": {
      "text/html": [
       "<div>\n",
       "<style scoped>\n",
       "    .dataframe tbody tr th:only-of-type {\n",
       "        vertical-align: middle;\n",
       "    }\n",
       "\n",
       "    .dataframe tbody tr th {\n",
       "        vertical-align: top;\n",
       "    }\n",
       "\n",
       "    .dataframe thead th {\n",
       "        text-align: right;\n",
       "    }\n",
       "</style>\n",
       "<table border=\"1\" class=\"dataframe\">\n",
       "  <thead>\n",
       "    <tr style=\"text-align: right;\">\n",
       "      <th></th>\n",
       "      <th>PLAYER_ID</th>\n",
       "      <th>SEASON_ID</th>\n",
       "      <th>LEAGUE_ID</th>\n",
       "      <th>TEAM_ID</th>\n",
       "      <th>TEAM_ABBREVIATION</th>\n",
       "      <th>PLAYER_AGE</th>\n",
       "      <th>GP</th>\n",
       "      <th>GS</th>\n",
       "      <th>MIN</th>\n",
       "      <th>FGM</th>\n",
       "      <th>FGA</th>\n",
       "      <th>FG_PCT</th>\n",
       "      <th>FG3M</th>\n",
       "      <th>FG3A</th>\n",
       "      <th>FG3_PCT</th>\n",
       "      <th>FTM</th>\n",
       "      <th>FTA</th>\n",
       "      <th>FT_PCT</th>\n",
       "      <th>OREB</th>\n",
       "      <th>DREB</th>\n",
       "      <th>REB</th>\n",
       "      <th>AST</th>\n",
       "      <th>STL</th>\n",
       "      <th>BLK</th>\n",
       "      <th>TOV</th>\n",
       "      <th>PF</th>\n",
       "      <th>PTS</th>\n",
       "      <th>SUM_PTS</th>\n",
       "    </tr>\n",
       "  </thead>\n",
       "  <tbody>\n",
       "    <tr>\n",
       "      <th>0</th>\n",
       "      <td>2544</td>\n",
       "      <td>2003-04</td>\n",
       "      <td>00</td>\n",
       "      <td>1610612739</td>\n",
       "      <td>CLE</td>\n",
       "      <td>19.0</td>\n",
       "      <td>79</td>\n",
       "      <td>79</td>\n",
       "      <td>3120.0</td>\n",
       "      <td>622</td>\n",
       "      <td>1492</td>\n",
       "      <td>0.417</td>\n",
       "      <td>63</td>\n",
       "      <td>217</td>\n",
       "      <td>0.290</td>\n",
       "      <td>347</td>\n",
       "      <td>460</td>\n",
       "      <td>0.754</td>\n",
       "      <td>99</td>\n",
       "      <td>333</td>\n",
       "      <td>432</td>\n",
       "      <td>465</td>\n",
       "      <td>130</td>\n",
       "      <td>58</td>\n",
       "      <td>273</td>\n",
       "      <td>149</td>\n",
       "      <td>1654</td>\n",
       "      <td>1654</td>\n",
       "    </tr>\n",
       "    <tr>\n",
       "      <th>1</th>\n",
       "      <td>2544</td>\n",
       "      <td>2004-05</td>\n",
       "      <td>00</td>\n",
       "      <td>1610612739</td>\n",
       "      <td>CLE</td>\n",
       "      <td>20.0</td>\n",
       "      <td>80</td>\n",
       "      <td>80</td>\n",
       "      <td>3388.0</td>\n",
       "      <td>795</td>\n",
       "      <td>1684</td>\n",
       "      <td>0.472</td>\n",
       "      <td>108</td>\n",
       "      <td>308</td>\n",
       "      <td>0.351</td>\n",
       "      <td>477</td>\n",
       "      <td>636</td>\n",
       "      <td>0.750</td>\n",
       "      <td>111</td>\n",
       "      <td>477</td>\n",
       "      <td>588</td>\n",
       "      <td>577</td>\n",
       "      <td>177</td>\n",
       "      <td>52</td>\n",
       "      <td>262</td>\n",
       "      <td>146</td>\n",
       "      <td>2175</td>\n",
       "      <td>3829</td>\n",
       "    </tr>\n",
       "    <tr>\n",
       "      <th>2</th>\n",
       "      <td>2544</td>\n",
       "      <td>2005-06</td>\n",
       "      <td>00</td>\n",
       "      <td>1610612739</td>\n",
       "      <td>CLE</td>\n",
       "      <td>21.0</td>\n",
       "      <td>79</td>\n",
       "      <td>79</td>\n",
       "      <td>3361.0</td>\n",
       "      <td>875</td>\n",
       "      <td>1823</td>\n",
       "      <td>0.480</td>\n",
       "      <td>127</td>\n",
       "      <td>379</td>\n",
       "      <td>0.335</td>\n",
       "      <td>601</td>\n",
       "      <td>814</td>\n",
       "      <td>0.738</td>\n",
       "      <td>75</td>\n",
       "      <td>481</td>\n",
       "      <td>556</td>\n",
       "      <td>521</td>\n",
       "      <td>123</td>\n",
       "      <td>66</td>\n",
       "      <td>260</td>\n",
       "      <td>181</td>\n",
       "      <td>2478</td>\n",
       "      <td>6307</td>\n",
       "    </tr>\n",
       "    <tr>\n",
       "      <th>3</th>\n",
       "      <td>2544</td>\n",
       "      <td>2006-07</td>\n",
       "      <td>00</td>\n",
       "      <td>1610612739</td>\n",
       "      <td>CLE</td>\n",
       "      <td>22.0</td>\n",
       "      <td>78</td>\n",
       "      <td>78</td>\n",
       "      <td>3190.0</td>\n",
       "      <td>772</td>\n",
       "      <td>1621</td>\n",
       "      <td>0.476</td>\n",
       "      <td>99</td>\n",
       "      <td>310</td>\n",
       "      <td>0.319</td>\n",
       "      <td>489</td>\n",
       "      <td>701</td>\n",
       "      <td>0.698</td>\n",
       "      <td>83</td>\n",
       "      <td>443</td>\n",
       "      <td>526</td>\n",
       "      <td>470</td>\n",
       "      <td>125</td>\n",
       "      <td>55</td>\n",
       "      <td>250</td>\n",
       "      <td>171</td>\n",
       "      <td>2132</td>\n",
       "      <td>8439</td>\n",
       "    </tr>\n",
       "    <tr>\n",
       "      <th>4</th>\n",
       "      <td>2544</td>\n",
       "      <td>2007-08</td>\n",
       "      <td>00</td>\n",
       "      <td>1610612739</td>\n",
       "      <td>CLE</td>\n",
       "      <td>23.0</td>\n",
       "      <td>75</td>\n",
       "      <td>74</td>\n",
       "      <td>3027.0</td>\n",
       "      <td>794</td>\n",
       "      <td>1642</td>\n",
       "      <td>0.484</td>\n",
       "      <td>113</td>\n",
       "      <td>359</td>\n",
       "      <td>0.315</td>\n",
       "      <td>549</td>\n",
       "      <td>771</td>\n",
       "      <td>0.712</td>\n",
       "      <td>133</td>\n",
       "      <td>459</td>\n",
       "      <td>592</td>\n",
       "      <td>539</td>\n",
       "      <td>138</td>\n",
       "      <td>81</td>\n",
       "      <td>255</td>\n",
       "      <td>165</td>\n",
       "      <td>2250</td>\n",
       "      <td>10689</td>\n",
       "    </tr>\n",
       "  </tbody>\n",
       "</table>\n",
       "</div>"
      ],
      "text/plain": [
       "   PLAYER_ID SEASON_ID LEAGUE_ID     TEAM_ID TEAM_ABBREVIATION  PLAYER_AGE  \\\n",
       "0       2544   2003-04        00  1610612739               CLE        19.0   \n",
       "1       2544   2004-05        00  1610612739               CLE        20.0   \n",
       "2       2544   2005-06        00  1610612739               CLE        21.0   \n",
       "3       2544   2006-07        00  1610612739               CLE        22.0   \n",
       "4       2544   2007-08        00  1610612739               CLE        23.0   \n",
       "\n",
       "   GP  GS     MIN  FGM   FGA  FG_PCT  FG3M  FG3A  FG3_PCT  FTM  FTA  FT_PCT  \\\n",
       "0  79  79  3120.0  622  1492   0.417    63   217    0.290  347  460   0.754   \n",
       "1  80  80  3388.0  795  1684   0.472   108   308    0.351  477  636   0.750   \n",
       "2  79  79  3361.0  875  1823   0.480   127   379    0.335  601  814   0.738   \n",
       "3  78  78  3190.0  772  1621   0.476    99   310    0.319  489  701   0.698   \n",
       "4  75  74  3027.0  794  1642   0.484   113   359    0.315  549  771   0.712   \n",
       "\n",
       "   OREB  DREB  REB  AST  STL  BLK  TOV   PF   PTS  SUM_PTS  \n",
       "0    99   333  432  465  130   58  273  149  1654     1654  \n",
       "1   111   477  588  577  177   52  262  146  2175     3829  \n",
       "2    75   481  556  521  123   66  260  181  2478     6307  \n",
       "3    83   443  526  470  125   55  250  171  2132     8439  \n",
       "4   133   459  592  539  138   81  255  165  2250    10689  "
      ]
     },
     "execution_count": 626,
     "metadata": {},
     "output_type": "execute_result"
    }
   ],
   "source": [
    "# Criando a coluna SUM_PTS que ira conter todo o acumulado de pontos por temporada\n",
    "lebronCarreira['SUM_PTS'] = lebronCarreira['PTS'].cumsum()\n",
    "lebronCarreira.head ()"
   ]
  },
  {
   "cell_type": "code",
   "execution_count": 719,
   "id": "56d967a0",
   "metadata": {},
   "outputs": [
    {
     "data": {
      "image/png": "[encoded data removed]",
      "text/plain": [
       "<Figure size 3000x1000 with 1 Axes>"
      ]
     },
     "metadata": {},
     "output_type": "display_data"
    }
   ],
   "source": [
    "# Plotando Gráfico\n",
    "sns.set_style (\"whitegrid\")\n",
    "plt.figure (figsize = (30,10))\n",
    "plt.rcParams.update({'font.size': 18})\n",
    "c = sns.barplot (data = lebronCarreira, x = 'SEASON_ID', y = 'SUM_PTS')\n",
    "plt.xlabel ('Temporada')\n",
    "plt.ylabel ('Pontos')\n",
    "plt.title ('Historico de Lebron James ao longo das temporadas', fontsize = 30)\n",
    "plt.savefig('historico_lebron',dpi=300)\n",
    "\n",
    "plt.show (c)"
   ]
  },
  {
   "cell_type": "markdown",
   "id": "1c743f90",
   "metadata": {},
   "source": [
    "# Buscando dados de Kareem Abdul-Jabbar"
   ]
  },
  {
   "cell_type": "code",
   "execution_count": 9,
   "id": "1dc9b014",
   "metadata": {},
   "outputs": [
    {
     "data": {
      "text/html": [
       "<div>\n",
       "<style scoped>\n",
       "    .dataframe tbody tr th:only-of-type {\n",
       "        vertical-align: middle;\n",
       "    }\n",
       "\n",
       "    .dataframe tbody tr th {\n",
       "        vertical-align: top;\n",
       "    }\n",
       "\n",
       "    .dataframe thead th {\n",
       "        text-align: right;\n",
       "    }\n",
       "</style>\n",
       "<table border=\"1\" class=\"dataframe\">\n",
       "  <thead>\n",
       "    <tr style=\"text-align: right;\">\n",
       "      <th></th>\n",
       "      <th>id</th>\n",
       "      <th>full_name</th>\n",
       "      <th>first_name</th>\n",
       "      <th>last_name</th>\n",
       "      <th>is_active</th>\n",
       "    </tr>\n",
       "  </thead>\n",
       "  <tbody>\n",
       "    <tr>\n",
       "      <th>2</th>\n",
       "      <td>76003</td>\n",
       "      <td>Kareem Abdul-Jabbar</td>\n",
       "      <td>Kareem</td>\n",
       "      <td>Abdul-Jabbar</td>\n",
       "      <td>False</td>\n",
       "    </tr>\n",
       "  </tbody>\n",
       "</table>\n",
       "</div>"
      ],
      "text/plain": [
       "      id            full_name first_name     last_name  is_active\n",
       "2  76003  Kareem Abdul-Jabbar     Kareem  Abdul-Jabbar      False"
      ]
     },
     "metadata": {},
     "output_type": "display_data"
    }
   ],
   "source": [
    "# Procurando Kareem na base\n",
    "kareemId = players.id [players.full_name == 'Kareem Abdul-Jabbar'].to_list()[0]\n",
    "display (players[players.full_name == 'Kareem Abdul-Jabbar'])"
   ]
  },
  {
   "cell_type": "code",
   "execution_count": 530,
   "id": "0ea87192",
   "metadata": {},
   "outputs": [
    {
     "data": {
      "text/html": [
       "<div>\n",
       "<style scoped>\n",
       "    .dataframe tbody tr th:only-of-type {\n",
       "        vertical-align: middle;\n",
       "    }\n",
       "\n",
       "    .dataframe tbody tr th {\n",
       "        vertical-align: top;\n",
       "    }\n",
       "\n",
       "    .dataframe thead th {\n",
       "        text-align: right;\n",
       "    }\n",
       "</style>\n",
       "<table border=\"1\" class=\"dataframe\">\n",
       "  <thead>\n",
       "    <tr style=\"text-align: right;\">\n",
       "      <th></th>\n",
       "      <th>PLAYER_ID</th>\n",
       "      <th>SEASON_ID</th>\n",
       "      <th>LEAGUE_ID</th>\n",
       "      <th>TEAM_ID</th>\n",
       "      <th>TEAM_ABBREVIATION</th>\n",
       "      <th>PLAYER_AGE</th>\n",
       "      <th>GP</th>\n",
       "      <th>GS</th>\n",
       "      <th>MIN</th>\n",
       "      <th>FGM</th>\n",
       "      <th>FGA</th>\n",
       "      <th>FG_PCT</th>\n",
       "      <th>FG3M</th>\n",
       "      <th>FG3A</th>\n",
       "      <th>FG3_PCT</th>\n",
       "      <th>FTM</th>\n",
       "      <th>FTA</th>\n",
       "      <th>FT_PCT</th>\n",
       "      <th>OREB</th>\n",
       "      <th>DREB</th>\n",
       "      <th>REB</th>\n",
       "      <th>AST</th>\n",
       "      <th>STL</th>\n",
       "      <th>BLK</th>\n",
       "      <th>TOV</th>\n",
       "      <th>PF</th>\n",
       "      <th>PTS</th>\n",
       "    </tr>\n",
       "  </thead>\n",
       "  <tbody>\n",
       "    <tr>\n",
       "      <th>0</th>\n",
       "      <td>76003</td>\n",
       "      <td>1969-70</td>\n",
       "      <td>00</td>\n",
       "      <td>1610612749</td>\n",
       "      <td>MIL</td>\n",
       "      <td>23.0</td>\n",
       "      <td>82</td>\n",
       "      <td>0</td>\n",
       "      <td>3534.0</td>\n",
       "      <td>938</td>\n",
       "      <td>1810</td>\n",
       "      <td>0.518</td>\n",
       "      <td>NaN</td>\n",
       "      <td>NaN</td>\n",
       "      <td>NaN</td>\n",
       "      <td>485</td>\n",
       "      <td>743</td>\n",
       "      <td>0.653</td>\n",
       "      <td>NaN</td>\n",
       "      <td>NaN</td>\n",
       "      <td>1190</td>\n",
       "      <td>337</td>\n",
       "      <td>NaN</td>\n",
       "      <td>NaN</td>\n",
       "      <td>NaN</td>\n",
       "      <td>283</td>\n",
       "      <td>2361</td>\n",
       "    </tr>\n",
       "    <tr>\n",
       "      <th>1</th>\n",
       "      <td>76003</td>\n",
       "      <td>1970-71</td>\n",
       "      <td>00</td>\n",
       "      <td>1610612749</td>\n",
       "      <td>MIL</td>\n",
       "      <td>24.0</td>\n",
       "      <td>82</td>\n",
       "      <td>82</td>\n",
       "      <td>3288.0</td>\n",
       "      <td>1063</td>\n",
       "      <td>1843</td>\n",
       "      <td>0.577</td>\n",
       "      <td>NaN</td>\n",
       "      <td>NaN</td>\n",
       "      <td>NaN</td>\n",
       "      <td>470</td>\n",
       "      <td>681</td>\n",
       "      <td>0.690</td>\n",
       "      <td>NaN</td>\n",
       "      <td>NaN</td>\n",
       "      <td>1311</td>\n",
       "      <td>272</td>\n",
       "      <td>NaN</td>\n",
       "      <td>NaN</td>\n",
       "      <td>NaN</td>\n",
       "      <td>264</td>\n",
       "      <td>2596</td>\n",
       "    </tr>\n",
       "    <tr>\n",
       "      <th>2</th>\n",
       "      <td>76003</td>\n",
       "      <td>1971-72</td>\n",
       "      <td>00</td>\n",
       "      <td>1610612749</td>\n",
       "      <td>MIL</td>\n",
       "      <td>25.0</td>\n",
       "      <td>81</td>\n",
       "      <td>81</td>\n",
       "      <td>3583.0</td>\n",
       "      <td>1159</td>\n",
       "      <td>2019</td>\n",
       "      <td>0.574</td>\n",
       "      <td>NaN</td>\n",
       "      <td>NaN</td>\n",
       "      <td>NaN</td>\n",
       "      <td>504</td>\n",
       "      <td>732</td>\n",
       "      <td>0.689</td>\n",
       "      <td>NaN</td>\n",
       "      <td>NaN</td>\n",
       "      <td>1346</td>\n",
       "      <td>370</td>\n",
       "      <td>NaN</td>\n",
       "      <td>NaN</td>\n",
       "      <td>NaN</td>\n",
       "      <td>235</td>\n",
       "      <td>2822</td>\n",
       "    </tr>\n",
       "    <tr>\n",
       "      <th>3</th>\n",
       "      <td>76003</td>\n",
       "      <td>1972-73</td>\n",
       "      <td>00</td>\n",
       "      <td>1610612749</td>\n",
       "      <td>MIL</td>\n",
       "      <td>26.0</td>\n",
       "      <td>76</td>\n",
       "      <td>76</td>\n",
       "      <td>3254.0</td>\n",
       "      <td>982</td>\n",
       "      <td>1772</td>\n",
       "      <td>0.554</td>\n",
       "      <td>NaN</td>\n",
       "      <td>NaN</td>\n",
       "      <td>NaN</td>\n",
       "      <td>328</td>\n",
       "      <td>460</td>\n",
       "      <td>0.713</td>\n",
       "      <td>NaN</td>\n",
       "      <td>NaN</td>\n",
       "      <td>1224</td>\n",
       "      <td>379</td>\n",
       "      <td>NaN</td>\n",
       "      <td>NaN</td>\n",
       "      <td>NaN</td>\n",
       "      <td>208</td>\n",
       "      <td>2292</td>\n",
       "    </tr>\n",
       "    <tr>\n",
       "      <th>4</th>\n",
       "      <td>76003</td>\n",
       "      <td>1973-74</td>\n",
       "      <td>00</td>\n",
       "      <td>1610612749</td>\n",
       "      <td>MIL</td>\n",
       "      <td>27.0</td>\n",
       "      <td>81</td>\n",
       "      <td>81</td>\n",
       "      <td>3548.0</td>\n",
       "      <td>948</td>\n",
       "      <td>1759</td>\n",
       "      <td>0.539</td>\n",
       "      <td>NaN</td>\n",
       "      <td>NaN</td>\n",
       "      <td>NaN</td>\n",
       "      <td>295</td>\n",
       "      <td>420</td>\n",
       "      <td>0.702</td>\n",
       "      <td>287.0</td>\n",
       "      <td>891.0</td>\n",
       "      <td>1178</td>\n",
       "      <td>386</td>\n",
       "      <td>112.0</td>\n",
       "      <td>283.0</td>\n",
       "      <td>NaN</td>\n",
       "      <td>238</td>\n",
       "      <td>2191</td>\n",
       "    </tr>\n",
       "    <tr>\n",
       "      <th>5</th>\n",
       "      <td>76003</td>\n",
       "      <td>1974-75</td>\n",
       "      <td>00</td>\n",
       "      <td>1610612749</td>\n",
       "      <td>MIL</td>\n",
       "      <td>28.0</td>\n",
       "      <td>65</td>\n",
       "      <td>64</td>\n",
       "      <td>2747.0</td>\n",
       "      <td>812</td>\n",
       "      <td>1584</td>\n",
       "      <td>0.513</td>\n",
       "      <td>NaN</td>\n",
       "      <td>NaN</td>\n",
       "      <td>NaN</td>\n",
       "      <td>325</td>\n",
       "      <td>426</td>\n",
       "      <td>0.763</td>\n",
       "      <td>194.0</td>\n",
       "      <td>718.0</td>\n",
       "      <td>912</td>\n",
       "      <td>264</td>\n",
       "      <td>65.0</td>\n",
       "      <td>212.0</td>\n",
       "      <td>NaN</td>\n",
       "      <td>205</td>\n",
       "      <td>1949</td>\n",
       "    </tr>\n",
       "    <tr>\n",
       "      <th>6</th>\n",
       "      <td>76003</td>\n",
       "      <td>1975-76</td>\n",
       "      <td>00</td>\n",
       "      <td>1610612747</td>\n",
       "      <td>LAL</td>\n",
       "      <td>29.0</td>\n",
       "      <td>82</td>\n",
       "      <td>82</td>\n",
       "      <td>3379.0</td>\n",
       "      <td>914</td>\n",
       "      <td>1728</td>\n",
       "      <td>0.529</td>\n",
       "      <td>NaN</td>\n",
       "      <td>NaN</td>\n",
       "      <td>NaN</td>\n",
       "      <td>447</td>\n",
       "      <td>636</td>\n",
       "      <td>0.703</td>\n",
       "      <td>272.0</td>\n",
       "      <td>1111.0</td>\n",
       "      <td>1383</td>\n",
       "      <td>413</td>\n",
       "      <td>119.0</td>\n",
       "      <td>338.0</td>\n",
       "      <td>NaN</td>\n",
       "      <td>292</td>\n",
       "      <td>2275</td>\n",
       "    </tr>\n",
       "    <tr>\n",
       "      <th>7</th>\n",
       "      <td>76003</td>\n",
       "      <td>1976-77</td>\n",
       "      <td>00</td>\n",
       "      <td>1610612747</td>\n",
       "      <td>LAL</td>\n",
       "      <td>30.0</td>\n",
       "      <td>82</td>\n",
       "      <td>82</td>\n",
       "      <td>3016.0</td>\n",
       "      <td>888</td>\n",
       "      <td>1533</td>\n",
       "      <td>0.579</td>\n",
       "      <td>NaN</td>\n",
       "      <td>NaN</td>\n",
       "      <td>NaN</td>\n",
       "      <td>376</td>\n",
       "      <td>536</td>\n",
       "      <td>0.701</td>\n",
       "      <td>266.0</td>\n",
       "      <td>824.0</td>\n",
       "      <td>1090</td>\n",
       "      <td>319</td>\n",
       "      <td>101.0</td>\n",
       "      <td>261.0</td>\n",
       "      <td>NaN</td>\n",
       "      <td>262</td>\n",
       "      <td>2152</td>\n",
       "    </tr>\n",
       "    <tr>\n",
       "      <th>8</th>\n",
       "      <td>76003</td>\n",
       "      <td>1977-78</td>\n",
       "      <td>00</td>\n",
       "      <td>1610612747</td>\n",
       "      <td>LAL</td>\n",
       "      <td>31.0</td>\n",
       "      <td>62</td>\n",
       "      <td>62</td>\n",
       "      <td>2265.0</td>\n",
       "      <td>663</td>\n",
       "      <td>1205</td>\n",
       "      <td>0.550</td>\n",
       "      <td>NaN</td>\n",
       "      <td>NaN</td>\n",
       "      <td>NaN</td>\n",
       "      <td>274</td>\n",
       "      <td>350</td>\n",
       "      <td>0.783</td>\n",
       "      <td>186.0</td>\n",
       "      <td>615.0</td>\n",
       "      <td>801</td>\n",
       "      <td>269</td>\n",
       "      <td>103.0</td>\n",
       "      <td>185.0</td>\n",
       "      <td>208.0</td>\n",
       "      <td>182</td>\n",
       "      <td>1600</td>\n",
       "    </tr>\n",
       "    <tr>\n",
       "      <th>9</th>\n",
       "      <td>76003</td>\n",
       "      <td>1978-79</td>\n",
       "      <td>00</td>\n",
       "      <td>1610612747</td>\n",
       "      <td>LAL</td>\n",
       "      <td>32.0</td>\n",
       "      <td>80</td>\n",
       "      <td>80</td>\n",
       "      <td>3157.0</td>\n",
       "      <td>777</td>\n",
       "      <td>1347</td>\n",
       "      <td>0.577</td>\n",
       "      <td>NaN</td>\n",
       "      <td>NaN</td>\n",
       "      <td>NaN</td>\n",
       "      <td>349</td>\n",
       "      <td>474</td>\n",
       "      <td>0.736</td>\n",
       "      <td>207.0</td>\n",
       "      <td>818.0</td>\n",
       "      <td>1025</td>\n",
       "      <td>431</td>\n",
       "      <td>76.0</td>\n",
       "      <td>316.0</td>\n",
       "      <td>282.0</td>\n",
       "      <td>230</td>\n",
       "      <td>1903</td>\n",
       "    </tr>\n",
       "    <tr>\n",
       "      <th>10</th>\n",
       "      <td>76003</td>\n",
       "      <td>1979-80</td>\n",
       "      <td>00</td>\n",
       "      <td>1610612747</td>\n",
       "      <td>LAL</td>\n",
       "      <td>33.0</td>\n",
       "      <td>82</td>\n",
       "      <td>81</td>\n",
       "      <td>3143.0</td>\n",
       "      <td>835</td>\n",
       "      <td>1383</td>\n",
       "      <td>0.604</td>\n",
       "      <td>0.0</td>\n",
       "      <td>1.0</td>\n",
       "      <td>0.000</td>\n",
       "      <td>364</td>\n",
       "      <td>476</td>\n",
       "      <td>0.765</td>\n",
       "      <td>190.0</td>\n",
       "      <td>696.0</td>\n",
       "      <td>886</td>\n",
       "      <td>371</td>\n",
       "      <td>81.0</td>\n",
       "      <td>280.0</td>\n",
       "      <td>297.0</td>\n",
       "      <td>216</td>\n",
       "      <td>2034</td>\n",
       "    </tr>\n",
       "    <tr>\n",
       "      <th>11</th>\n",
       "      <td>76003</td>\n",
       "      <td>1980-81</td>\n",
       "      <td>00</td>\n",
       "      <td>1610612747</td>\n",
       "      <td>LAL</td>\n",
       "      <td>34.0</td>\n",
       "      <td>80</td>\n",
       "      <td>80</td>\n",
       "      <td>2976.0</td>\n",
       "      <td>836</td>\n",
       "      <td>1457</td>\n",
       "      <td>0.574</td>\n",
       "      <td>0.0</td>\n",
       "      <td>1.0</td>\n",
       "      <td>0.000</td>\n",
       "      <td>423</td>\n",
       "      <td>552</td>\n",
       "      <td>0.766</td>\n",
       "      <td>197.0</td>\n",
       "      <td>624.0</td>\n",
       "      <td>821</td>\n",
       "      <td>272</td>\n",
       "      <td>59.0</td>\n",
       "      <td>228.0</td>\n",
       "      <td>249.0</td>\n",
       "      <td>244</td>\n",
       "      <td>2095</td>\n",
       "    </tr>\n",
       "    <tr>\n",
       "      <th>12</th>\n",
       "      <td>76003</td>\n",
       "      <td>1981-82</td>\n",
       "      <td>00</td>\n",
       "      <td>1610612747</td>\n",
       "      <td>LAL</td>\n",
       "      <td>35.0</td>\n",
       "      <td>76</td>\n",
       "      <td>76</td>\n",
       "      <td>2677.0</td>\n",
       "      <td>753</td>\n",
       "      <td>1301</td>\n",
       "      <td>0.579</td>\n",
       "      <td>0.0</td>\n",
       "      <td>3.0</td>\n",
       "      <td>0.000</td>\n",
       "      <td>312</td>\n",
       "      <td>442</td>\n",
       "      <td>0.706</td>\n",
       "      <td>172.0</td>\n",
       "      <td>487.0</td>\n",
       "      <td>659</td>\n",
       "      <td>225</td>\n",
       "      <td>63.0</td>\n",
       "      <td>207.0</td>\n",
       "      <td>230.0</td>\n",
       "      <td>224</td>\n",
       "      <td>1818</td>\n",
       "    </tr>\n",
       "    <tr>\n",
       "      <th>13</th>\n",
       "      <td>76003</td>\n",
       "      <td>1982-83</td>\n",
       "      <td>00</td>\n",
       "      <td>1610612747</td>\n",
       "      <td>LAL</td>\n",
       "      <td>36.0</td>\n",
       "      <td>79</td>\n",
       "      <td>79</td>\n",
       "      <td>2554.0</td>\n",
       "      <td>722</td>\n",
       "      <td>1228</td>\n",
       "      <td>0.588</td>\n",
       "      <td>0.0</td>\n",
       "      <td>2.0</td>\n",
       "      <td>0.000</td>\n",
       "      <td>278</td>\n",
       "      <td>371</td>\n",
       "      <td>0.749</td>\n",
       "      <td>167.0</td>\n",
       "      <td>425.0</td>\n",
       "      <td>592</td>\n",
       "      <td>200</td>\n",
       "      <td>61.0</td>\n",
       "      <td>170.0</td>\n",
       "      <td>200.0</td>\n",
       "      <td>220</td>\n",
       "      <td>1722</td>\n",
       "    </tr>\n",
       "    <tr>\n",
       "      <th>14</th>\n",
       "      <td>76003</td>\n",
       "      <td>1983-84</td>\n",
       "      <td>00</td>\n",
       "      <td>1610612747</td>\n",
       "      <td>LAL</td>\n",
       "      <td>37.0</td>\n",
       "      <td>80</td>\n",
       "      <td>80</td>\n",
       "      <td>2622.0</td>\n",
       "      <td>716</td>\n",
       "      <td>1238</td>\n",
       "      <td>0.578</td>\n",
       "      <td>0.0</td>\n",
       "      <td>1.0</td>\n",
       "      <td>0.000</td>\n",
       "      <td>285</td>\n",
       "      <td>394</td>\n",
       "      <td>0.723</td>\n",
       "      <td>169.0</td>\n",
       "      <td>418.0</td>\n",
       "      <td>587</td>\n",
       "      <td>211</td>\n",
       "      <td>55.0</td>\n",
       "      <td>143.0</td>\n",
       "      <td>221.0</td>\n",
       "      <td>211</td>\n",
       "      <td>1717</td>\n",
       "    </tr>\n",
       "    <tr>\n",
       "      <th>15</th>\n",
       "      <td>76003</td>\n",
       "      <td>1984-85</td>\n",
       "      <td>00</td>\n",
       "      <td>1610612747</td>\n",
       "      <td>LAL</td>\n",
       "      <td>38.0</td>\n",
       "      <td>79</td>\n",
       "      <td>79</td>\n",
       "      <td>2630.0</td>\n",
       "      <td>723</td>\n",
       "      <td>1207</td>\n",
       "      <td>0.599</td>\n",
       "      <td>0.0</td>\n",
       "      <td>1.0</td>\n",
       "      <td>0.000</td>\n",
       "      <td>289</td>\n",
       "      <td>395</td>\n",
       "      <td>0.732</td>\n",
       "      <td>162.0</td>\n",
       "      <td>460.0</td>\n",
       "      <td>622</td>\n",
       "      <td>249</td>\n",
       "      <td>63.0</td>\n",
       "      <td>162.0</td>\n",
       "      <td>197.0</td>\n",
       "      <td>238</td>\n",
       "      <td>1735</td>\n",
       "    </tr>\n",
       "    <tr>\n",
       "      <th>16</th>\n",
       "      <td>76003</td>\n",
       "      <td>1985-86</td>\n",
       "      <td>00</td>\n",
       "      <td>1610612747</td>\n",
       "      <td>LAL</td>\n",
       "      <td>39.0</td>\n",
       "      <td>79</td>\n",
       "      <td>79</td>\n",
       "      <td>2629.0</td>\n",
       "      <td>755</td>\n",
       "      <td>1338</td>\n",
       "      <td>0.564</td>\n",
       "      <td>0.0</td>\n",
       "      <td>2.0</td>\n",
       "      <td>0.000</td>\n",
       "      <td>336</td>\n",
       "      <td>439</td>\n",
       "      <td>0.765</td>\n",
       "      <td>133.0</td>\n",
       "      <td>345.0</td>\n",
       "      <td>478</td>\n",
       "      <td>280</td>\n",
       "      <td>67.0</td>\n",
       "      <td>130.0</td>\n",
       "      <td>203.0</td>\n",
       "      <td>248</td>\n",
       "      <td>1846</td>\n",
       "    </tr>\n",
       "    <tr>\n",
       "      <th>17</th>\n",
       "      <td>76003</td>\n",
       "      <td>1986-87</td>\n",
       "      <td>00</td>\n",
       "      <td>1610612747</td>\n",
       "      <td>LAL</td>\n",
       "      <td>40.0</td>\n",
       "      <td>78</td>\n",
       "      <td>78</td>\n",
       "      <td>2441.0</td>\n",
       "      <td>560</td>\n",
       "      <td>993</td>\n",
       "      <td>0.564</td>\n",
       "      <td>1.0</td>\n",
       "      <td>3.0</td>\n",
       "      <td>0.333</td>\n",
       "      <td>245</td>\n",
       "      <td>343</td>\n",
       "      <td>0.714</td>\n",
       "      <td>152.0</td>\n",
       "      <td>371.0</td>\n",
       "      <td>523</td>\n",
       "      <td>203</td>\n",
       "      <td>49.0</td>\n",
       "      <td>97.0</td>\n",
       "      <td>186.0</td>\n",
       "      <td>245</td>\n",
       "      <td>1366</td>\n",
       "    </tr>\n",
       "    <tr>\n",
       "      <th>18</th>\n",
       "      <td>76003</td>\n",
       "      <td>1987-88</td>\n",
       "      <td>00</td>\n",
       "      <td>1610612747</td>\n",
       "      <td>LAL</td>\n",
       "      <td>41.0</td>\n",
       "      <td>80</td>\n",
       "      <td>80</td>\n",
       "      <td>2308.0</td>\n",
       "      <td>480</td>\n",
       "      <td>903</td>\n",
       "      <td>0.532</td>\n",
       "      <td>0.0</td>\n",
       "      <td>1.0</td>\n",
       "      <td>0.000</td>\n",
       "      <td>205</td>\n",
       "      <td>269</td>\n",
       "      <td>0.762</td>\n",
       "      <td>118.0</td>\n",
       "      <td>360.0</td>\n",
       "      <td>478</td>\n",
       "      <td>135</td>\n",
       "      <td>48.0</td>\n",
       "      <td>92.0</td>\n",
       "      <td>159.0</td>\n",
       "      <td>216</td>\n",
       "      <td>1165</td>\n",
       "    </tr>\n",
       "    <tr>\n",
       "      <th>19</th>\n",
       "      <td>76003</td>\n",
       "      <td>1988-89</td>\n",
       "      <td>00</td>\n",
       "      <td>1610612747</td>\n",
       "      <td>LAL</td>\n",
       "      <td>42.0</td>\n",
       "      <td>74</td>\n",
       "      <td>74</td>\n",
       "      <td>1695.0</td>\n",
       "      <td>313</td>\n",
       "      <td>659</td>\n",
       "      <td>0.475</td>\n",
       "      <td>0.0</td>\n",
       "      <td>3.0</td>\n",
       "      <td>0.000</td>\n",
       "      <td>122</td>\n",
       "      <td>165</td>\n",
       "      <td>0.739</td>\n",
       "      <td>103.0</td>\n",
       "      <td>231.0</td>\n",
       "      <td>334</td>\n",
       "      <td>74</td>\n",
       "      <td>38.0</td>\n",
       "      <td>85.0</td>\n",
       "      <td>95.0</td>\n",
       "      <td>196</td>\n",
       "      <td>748</td>\n",
       "    </tr>\n",
       "  </tbody>\n",
       "</table>\n",
       "</div>"
      ],
      "text/plain": [
       "    PLAYER_ID SEASON_ID LEAGUE_ID     TEAM_ID TEAM_ABBREVIATION  PLAYER_AGE  \\\n",
       "0       76003   1969-70        00  1610612749               MIL        23.0   \n",
       "1       76003   1970-71        00  1610612749               MIL        24.0   \n",
       "2       76003   1971-72        00  1610612749               MIL        25.0   \n",
       "3       76003   1972-73        00  1610612749               MIL        26.0   \n",
       "4       76003   1973-74        00  1610612749               MIL        27.0   \n",
       "5       76003   1974-75        00  1610612749               MIL        28.0   \n",
       "6       76003   1975-76        00  1610612747               LAL        29.0   \n",
       "7       76003   1976-77        00  1610612747               LAL        30.0   \n",
       "8       76003   1977-78        00  1610612747               LAL        31.0   \n",
       "9       76003   1978-79        00  1610612747               LAL        32.0   \n",
       "10      76003   1979-80        00  1610612747               LAL        33.0   \n",
       "11      76003   1980-81        00  1610612747               LAL        34.0   \n",
       "12      76003   1981-82        00  1610612747               LAL        35.0   \n",
       "13      76003   1982-83        00  1610612747               LAL        36.0   \n",
       "14      76003   1983-84        00  1610612747               LAL        37.0   \n",
       "15      76003   1984-85        00  1610612747               LAL        38.0   \n",
       "16      76003   1985-86        00  1610612747               LAL        39.0   \n",
       "17      76003   1986-87        00  1610612747               LAL        40.0   \n",
       "18      76003   1987-88        00  1610612747               LAL        41.0   \n",
       "19      76003   1988-89        00  1610612747               LAL        42.0   \n",
       "\n",
       "    GP  GS     MIN   FGM   FGA  FG_PCT  FG3M  FG3A  FG3_PCT  FTM  FTA  FT_PCT  \\\n",
       "0   82   0  3534.0   938  1810   0.518   NaN   NaN      NaN  485  743   0.653   \n",
       "1   82  82  3288.0  1063  1843   0.577   NaN   NaN      NaN  470  681   0.690   \n",
       "2   81  81  3583.0  1159  2019   0.574   NaN   NaN      NaN  504  732   0.689   \n",
       "3   76  76  3254.0   982  1772   0.554   NaN   NaN      NaN  328  460   0.713   \n",
       "4   81  81  3548.0   948  1759   0.539   NaN   NaN      NaN  295  420   0.702   \n",
       "5   65  64  2747.0   812  1584   0.513   NaN   NaN      NaN  325  426   0.763   \n",
       "6   82  82  3379.0   914  1728   0.529   NaN   NaN      NaN  447  636   0.703   \n",
       "7   82  82  3016.0   888  1533   0.579   NaN   NaN      NaN  376  536   0.701   \n",
       "8   62  62  2265.0   663  1205   0.550   NaN   NaN      NaN  274  350   0.783   \n",
       "9   80  80  3157.0   777  1347   0.577   NaN   NaN      NaN  349  474   0.736   \n",
       "10  82  81  3143.0   835  1383   0.604   0.0   1.0    0.000  364  476   0.765   \n",
       "11  80  80  2976.0   836  1457   0.574   0.0   1.0    0.000  423  552   0.766   \n",
       "12  76  76  2677.0   753  1301   0.579   0.0   3.0    0.000  312  442   0.706   \n",
       "13  79  79  2554.0   722  1228   0.588   0.0   2.0    0.000  278  371   0.749   \n",
       "14  80  80  2622.0   716  1238   0.578   0.0   1.0    0.000  285  394   0.723   \n",
       "15  79  79  2630.0   723  1207   0.599   0.0   1.0    0.000  289  395   0.732   \n",
       "16  79  79  2629.0   755  1338   0.564   0.0   2.0    0.000  336  439   0.765   \n",
       "17  78  78  2441.0   560   993   0.564   1.0   3.0    0.333  245  343   0.714   \n",
       "18  80  80  2308.0   480   903   0.532   0.0   1.0    0.000  205  269   0.762   \n",
       "19  74  74  1695.0   313   659   0.475   0.0   3.0    0.000  122  165   0.739   \n",
       "\n",
       "     OREB    DREB   REB  AST    STL    BLK    TOV   PF   PTS  \n",
       "0     NaN     NaN  1190  337    NaN    NaN    NaN  283  2361  \n",
       "1     NaN     NaN  1311  272    NaN    NaN    NaN  264  2596  \n",
       "2     NaN     NaN  1346  370    NaN    NaN    NaN  235  2822  \n",
       "3     NaN     NaN  1224  379    NaN    NaN    NaN  208  2292  \n",
       "4   287.0   891.0  1178  386  112.0  283.0    NaN  238  2191  \n",
       "5   194.0   718.0   912  264   65.0  212.0    NaN  205  1949  \n",
       "6   272.0  1111.0  1383  413  119.0  338.0    NaN  292  2275  \n",
       "7   266.0   824.0  1090  319  101.0  261.0    NaN  262  2152  \n",
       "8   186.0   615.0   801  269  103.0  185.0  208.0  182  1600  \n",
       "9   207.0   818.0  1025  431   76.0  316.0  282.0  230  1903  \n",
       "10  190.0   696.0   886  371   81.0  280.0  297.0  216  2034  \n",
       "11  197.0   624.0   821  272   59.0  228.0  249.0  244  2095  \n",
       "12  172.0   487.0   659  225   63.0  207.0  230.0  224  1818  \n",
       "13  167.0   425.0   592  200   61.0  170.0  200.0  220  1722  \n",
       "14  169.0   418.0   587  211   55.0  143.0  221.0  211  1717  \n",
       "15  162.0   460.0   622  249   63.0  162.0  197.0  238  1735  \n",
       "16  133.0   345.0   478  280   67.0  130.0  203.0  248  1846  \n",
       "17  152.0   371.0   523  203   49.0   97.0  186.0  245  1366  \n",
       "18  118.0   360.0   478  135   48.0   92.0  159.0  216  1165  \n",
       "19  103.0   231.0   334   74   38.0   85.0   95.0  196   748  "
      ]
     },
     "execution_count": 530,
     "metadata": {},
     "output_type": "execute_result"
    }
   ],
   "source": [
    "# Buscando todos as stats de kareem\n",
    "kareemCarreira = playercareerstats.PlayerCareerStats (player_id = kareemId)\n",
    "kareemCarreira = kareemCarreira.get_data_frames ()[0] \n",
    "kareemCarreira"
   ]
  },
  {
   "cell_type": "code",
   "execution_count": 531,
   "id": "4c1ddecd",
   "metadata": {},
   "outputs": [
    {
     "data": {
      "text/html": [
       "<div>\n",
       "<style scoped>\n",
       "    .dataframe tbody tr th:only-of-type {\n",
       "        vertical-align: middle;\n",
       "    }\n",
       "\n",
       "    .dataframe tbody tr th {\n",
       "        vertical-align: top;\n",
       "    }\n",
       "\n",
       "    .dataframe thead th {\n",
       "        text-align: right;\n",
       "    }\n",
       "</style>\n",
       "<table border=\"1\" class=\"dataframe\">\n",
       "  <thead>\n",
       "    <tr style=\"text-align: right;\">\n",
       "      <th></th>\n",
       "      <th>PLAYER_ID</th>\n",
       "      <th>SEASON_ID</th>\n",
       "      <th>LEAGUE_ID</th>\n",
       "      <th>TEAM_ID</th>\n",
       "      <th>TEAM_ABBREVIATION</th>\n",
       "      <th>PLAYER_AGE</th>\n",
       "      <th>GP</th>\n",
       "      <th>GS</th>\n",
       "      <th>MIN</th>\n",
       "      <th>FGM</th>\n",
       "      <th>FGA</th>\n",
       "      <th>FG_PCT</th>\n",
       "      <th>FG3M</th>\n",
       "      <th>FG3A</th>\n",
       "      <th>FG3_PCT</th>\n",
       "      <th>FTM</th>\n",
       "      <th>FTA</th>\n",
       "      <th>FT_PCT</th>\n",
       "      <th>OREB</th>\n",
       "      <th>DREB</th>\n",
       "      <th>REB</th>\n",
       "      <th>AST</th>\n",
       "      <th>STL</th>\n",
       "      <th>BLK</th>\n",
       "      <th>TOV</th>\n",
       "      <th>PF</th>\n",
       "      <th>PTS</th>\n",
       "      <th>SUM_PTS</th>\n",
       "    </tr>\n",
       "  </thead>\n",
       "  <tbody>\n",
       "    <tr>\n",
       "      <th>0</th>\n",
       "      <td>76003</td>\n",
       "      <td>1969-70</td>\n",
       "      <td>00</td>\n",
       "      <td>1610612749</td>\n",
       "      <td>MIL</td>\n",
       "      <td>23.0</td>\n",
       "      <td>82</td>\n",
       "      <td>0</td>\n",
       "      <td>3534.0</td>\n",
       "      <td>938</td>\n",
       "      <td>1810</td>\n",
       "      <td>0.518</td>\n",
       "      <td>NaN</td>\n",
       "      <td>NaN</td>\n",
       "      <td>NaN</td>\n",
       "      <td>485</td>\n",
       "      <td>743</td>\n",
       "      <td>0.653</td>\n",
       "      <td>NaN</td>\n",
       "      <td>NaN</td>\n",
       "      <td>1190</td>\n",
       "      <td>337</td>\n",
       "      <td>NaN</td>\n",
       "      <td>NaN</td>\n",
       "      <td>NaN</td>\n",
       "      <td>283</td>\n",
       "      <td>2361</td>\n",
       "      <td>2361</td>\n",
       "    </tr>\n",
       "    <tr>\n",
       "      <th>1</th>\n",
       "      <td>76003</td>\n",
       "      <td>1970-71</td>\n",
       "      <td>00</td>\n",
       "      <td>1610612749</td>\n",
       "      <td>MIL</td>\n",
       "      <td>24.0</td>\n",
       "      <td>82</td>\n",
       "      <td>82</td>\n",
       "      <td>3288.0</td>\n",
       "      <td>1063</td>\n",
       "      <td>1843</td>\n",
       "      <td>0.577</td>\n",
       "      <td>NaN</td>\n",
       "      <td>NaN</td>\n",
       "      <td>NaN</td>\n",
       "      <td>470</td>\n",
       "      <td>681</td>\n",
       "      <td>0.690</td>\n",
       "      <td>NaN</td>\n",
       "      <td>NaN</td>\n",
       "      <td>1311</td>\n",
       "      <td>272</td>\n",
       "      <td>NaN</td>\n",
       "      <td>NaN</td>\n",
       "      <td>NaN</td>\n",
       "      <td>264</td>\n",
       "      <td>2596</td>\n",
       "      <td>4957</td>\n",
       "    </tr>\n",
       "    <tr>\n",
       "      <th>2</th>\n",
       "      <td>76003</td>\n",
       "      <td>1971-72</td>\n",
       "      <td>00</td>\n",
       "      <td>1610612749</td>\n",
       "      <td>MIL</td>\n",
       "      <td>25.0</td>\n",
       "      <td>81</td>\n",
       "      <td>81</td>\n",
       "      <td>3583.0</td>\n",
       "      <td>1159</td>\n",
       "      <td>2019</td>\n",
       "      <td>0.574</td>\n",
       "      <td>NaN</td>\n",
       "      <td>NaN</td>\n",
       "      <td>NaN</td>\n",
       "      <td>504</td>\n",
       "      <td>732</td>\n",
       "      <td>0.689</td>\n",
       "      <td>NaN</td>\n",
       "      <td>NaN</td>\n",
       "      <td>1346</td>\n",
       "      <td>370</td>\n",
       "      <td>NaN</td>\n",
       "      <td>NaN</td>\n",
       "      <td>NaN</td>\n",
       "      <td>235</td>\n",
       "      <td>2822</td>\n",
       "      <td>7779</td>\n",
       "    </tr>\n",
       "    <tr>\n",
       "      <th>3</th>\n",
       "      <td>76003</td>\n",
       "      <td>1972-73</td>\n",
       "      <td>00</td>\n",
       "      <td>1610612749</td>\n",
       "      <td>MIL</td>\n",
       "      <td>26.0</td>\n",
       "      <td>76</td>\n",
       "      <td>76</td>\n",
       "      <td>3254.0</td>\n",
       "      <td>982</td>\n",
       "      <td>1772</td>\n",
       "      <td>0.554</td>\n",
       "      <td>NaN</td>\n",
       "      <td>NaN</td>\n",
       "      <td>NaN</td>\n",
       "      <td>328</td>\n",
       "      <td>460</td>\n",
       "      <td>0.713</td>\n",
       "      <td>NaN</td>\n",
       "      <td>NaN</td>\n",
       "      <td>1224</td>\n",
       "      <td>379</td>\n",
       "      <td>NaN</td>\n",
       "      <td>NaN</td>\n",
       "      <td>NaN</td>\n",
       "      <td>208</td>\n",
       "      <td>2292</td>\n",
       "      <td>10071</td>\n",
       "    </tr>\n",
       "    <tr>\n",
       "      <th>4</th>\n",
       "      <td>76003</td>\n",
       "      <td>1973-74</td>\n",
       "      <td>00</td>\n",
       "      <td>1610612749</td>\n",
       "      <td>MIL</td>\n",
       "      <td>27.0</td>\n",
       "      <td>81</td>\n",
       "      <td>81</td>\n",
       "      <td>3548.0</td>\n",
       "      <td>948</td>\n",
       "      <td>1759</td>\n",
       "      <td>0.539</td>\n",
       "      <td>NaN</td>\n",
       "      <td>NaN</td>\n",
       "      <td>NaN</td>\n",
       "      <td>295</td>\n",
       "      <td>420</td>\n",
       "      <td>0.702</td>\n",
       "      <td>287.0</td>\n",
       "      <td>891.0</td>\n",
       "      <td>1178</td>\n",
       "      <td>386</td>\n",
       "      <td>112.0</td>\n",
       "      <td>283.0</td>\n",
       "      <td>NaN</td>\n",
       "      <td>238</td>\n",
       "      <td>2191</td>\n",
       "      <td>12262</td>\n",
       "    </tr>\n",
       "  </tbody>\n",
       "</table>\n",
       "</div>"
      ],
      "text/plain": [
       "   PLAYER_ID SEASON_ID LEAGUE_ID     TEAM_ID TEAM_ABBREVIATION  PLAYER_AGE  \\\n",
       "0      76003   1969-70        00  1610612749               MIL        23.0   \n",
       "1      76003   1970-71        00  1610612749               MIL        24.0   \n",
       "2      76003   1971-72        00  1610612749               MIL        25.0   \n",
       "3      76003   1972-73        00  1610612749               MIL        26.0   \n",
       "4      76003   1973-74        00  1610612749               MIL        27.0   \n",
       "\n",
       "   GP  GS     MIN   FGM   FGA  FG_PCT  FG3M  FG3A  FG3_PCT  FTM  FTA  FT_PCT  \\\n",
       "0  82   0  3534.0   938  1810   0.518   NaN   NaN      NaN  485  743   0.653   \n",
       "1  82  82  3288.0  1063  1843   0.577   NaN   NaN      NaN  470  681   0.690   \n",
       "2  81  81  3583.0  1159  2019   0.574   NaN   NaN      NaN  504  732   0.689   \n",
       "3  76  76  3254.0   982  1772   0.554   NaN   NaN      NaN  328  460   0.713   \n",
       "4  81  81  3548.0   948  1759   0.539   NaN   NaN      NaN  295  420   0.702   \n",
       "\n",
       "    OREB   DREB   REB  AST    STL    BLK  TOV   PF   PTS  SUM_PTS  \n",
       "0    NaN    NaN  1190  337    NaN    NaN  NaN  283  2361     2361  \n",
       "1    NaN    NaN  1311  272    NaN    NaN  NaN  264  2596     4957  \n",
       "2    NaN    NaN  1346  370    NaN    NaN  NaN  235  2822     7779  \n",
       "3    NaN    NaN  1224  379    NaN    NaN  NaN  208  2292    10071  \n",
       "4  287.0  891.0  1178  386  112.0  283.0  NaN  238  2191    12262  "
      ]
     },
     "execution_count": 531,
     "metadata": {},
     "output_type": "execute_result"
    }
   ],
   "source": [
    "# Criando a coluna SUM_PTS\n",
    "kareemCarreira ['SUM_PTS'] = kareemCarreira ['PTS'].cumsum()\n",
    "kareemCarreira.head()"
   ]
  },
  {
   "cell_type": "code",
   "execution_count": 722,
   "id": "58c99de8",
   "metadata": {},
   "outputs": [
    {
     "data": {
      "image/png": "[encoded data removed]",
      "text/plain": [
       "<Figure size 2000x800 with 1 Axes>"
      ]
     },
     "metadata": {},
     "output_type": "display_data"
    }
   ],
   "source": [
    "#Plotando Gráfico\n",
    "sns.set_style (\"dark\")\n",
    "plt.figure (figsize = (20,8))\n",
    "plt.rcParams.update({'font.size': 13})\n",
    "k = sns.barplot(data = kareemCarreira,x='SEASON_ID',y='SUM_PTS')\n",
    "plt.xlabel ('Temporada')\n",
    "plt.ylabel ('Pontos', fontsize = 15)\n",
    "plt.title ('Historico de Kareem ao longo das temporadas',fontsize = 20)\n",
    "plt.savefig('historico_kareem',dpi=300)\n",
    "\n",
    "plt.show(k)"
   ]
  },
  {
   "cell_type": "markdown",
   "id": "0e727cf1",
   "metadata": {},
   "source": [
    "# Comparativo de pontos por idade entre os dois"
   ]
  },
  {
   "cell_type": "code",
   "execution_count": 709,
   "id": "554c2fb2",
   "metadata": {},
   "outputs": [
    {
     "data": {
      "application/vnd.plotly.v1+json": {
       "config": {
        "plotlyServerURL": "https://plot.ly"
       },
       "data": [
        {
         "marker": {
          "color": "rgb(55, 83, 109)"
         },
         "name": "Kareem Abdul-Jabbar",
         "type": "bar",
         "x": [
          23,
          24,
          25,
          26,
          27,
          28,
          29,
          30,
          31,
          32,
          33,
          34,
          35,
          36,
          37,
          38,
          39,
          40,
          41,
          42
         ],
         "y": [
          2361,
          4957,
          7779,
          10071,
          12262,
          14211,
          16486,
          18638,
          20238,
          22141,
          24175,
          26270,
          28088,
          29810,
          31527,
          33262,
          35108,
          36474,
          37639,
          38387
         ]
        },
        {
         "marker": {
          "color": "rgb(26, 118, 255)"
         },
         "name": "Lebron James",
         "type": "bar",
         "x": [
          19,
          20,
          21,
          22,
          23,
          24,
          25,
          26,
          27,
          28,
          29,
          30,
          31,
          32,
          33,
          34,
          35,
          36,
          37,
          38
         ],
         "y": [
          1654,
          3829,
          6307,
          8439,
          10689,
          12993,
          15251,
          17362,
          19045,
          21081,
          23170,
          24913,
          26833,
          28787,
          31038,
          32543,
          34241,
          35367,
          37062,
          38411
         ]
        }
       ],
       "layout": {
        "bargap": 0.15,
        "bargroupgap": 0.1,
        "barmode": "group",
        "legend": {
         "bgcolor": "rgba(255, 255, 255, 0)",
         "bordercolor": "rgba(255, 255, 255, 0)",
         "x": 0,
         "y": 1
        },
        "template": {
         "data": {
          "bar": [
           {
            "error_x": {
             "color": "#2a3f5f"
            },
            "error_y": {
             "color": "#2a3f5f"
            },
            "marker": {
             "line": {
              "color": "#E5ECF6",
              "width": 0.5
             },
             "pattern": {
              "fillmode": "overlay",
              "size": 10,
              "solidity": 0.2
             }
            },
            "type": "bar"
           }
          ],
          "barpolar": [
           {
            "marker": {
             "line": {
              "color": "#E5ECF6",
              "width": 0.5
             },
             "pattern": {
              "fillmode": "overlay",
              "size": 10,
              "solidity": 0.2
             }
            },
            "type": "barpolar"
           }
          ],
          "carpet": [
           {
            "aaxis": {
             "endlinecolor": "#2a3f5f",
             "gridcolor": "white",
             "linecolor": "white",
             "minorgridcolor": "white",
             "startlinecolor": "#2a3f5f"
            },
            "baxis": {
             "endlinecolor": "#2a3f5f",
             "gridcolor": "white",
             "linecolor": "white",
             "minorgridcolor": "white",
             "startlinecolor": "#2a3f5f"
            },
            "type": "carpet"
           }
          ],
          "choropleth": [
           {
            "colorbar": {
             "outlinewidth": 0,
             "ticks": ""
            },
            "type": "choropleth"
           }
          ],
          "contour": [
           {
            "colorbar": {
             "outlinewidth": 0,
             "ticks": ""
            },
            "colorscale": [
             [
              0,
              "#0d0887"
             ],
             [
              0.1111111111111111,
              "#46039f"
             ],
             [
              0.2222222222222222,
              "#7201a8"
             ],
             [
              0.3333333333333333,
              "#9c179e"
             ],
             [
              0.4444444444444444,
              "#bd3786"
             ],
             [
              0.5555555555555556,
              "#d8576b"
             ],
             [
              0.6666666666666666,
              "#ed7953"
             ],
             [
              0.7777777777777778,
              "#fb9f3a"
             ],
             [
              0.8888888888888888,
              "#fdca26"
             ],
             [
              1,
              "#f0f921"
             ]
            ],
            "type": "contour"
           }
          ],
          "contourcarpet": [
           {
            "colorbar": {
             "outlinewidth": 0,
             "ticks": ""
            },
            "type": "contourcarpet"
           }
          ],
          "heatmap": [
           {
            "colorbar": {
             "outlinewidth": 0,
             "ticks": ""
            },
            "colorscale": [
             [
              0,
              "#0d0887"
             ],
             [
              0.1111111111111111,
              "#46039f"
             ],
             [
              0.2222222222222222,
              "#7201a8"
             ],
             [
              0.3333333333333333,
              "#9c179e"
             ],
             [
              0.4444444444444444,
              "#bd3786"
             ],
             [
              0.5555555555555556,
              "#d8576b"
             ],
             [
              0.6666666666666666,
              "#ed7953"
             ],
             [
              0.7777777777777778,
              "#fb9f3a"
             ],
             [
              0.8888888888888888,
              "#fdca26"
             ],
             [
              1,
              "#f0f921"
             ]
            ],
            "type": "heatmap"
           }
          ],
          "heatmapgl": [
           {
            "colorbar": {
             "outlinewidth": 0,
             "ticks": ""
            },
            "colorscale": [
             [
              0,
              "#0d0887"
             ],
             [
              0.1111111111111111,
              "#46039f"
             ],
             [
              0.2222222222222222,
              "#7201a8"
             ],
             [
              0.3333333333333333,
              "#9c179e"
             ],
             [
              0.4444444444444444,
              "#bd3786"
             ],
             [
              0.5555555555555556,
              "#d8576b"
             ],
             [
              0.6666666666666666,
              "#ed7953"
             ],
             [
              0.7777777777777778,
              "#fb9f3a"
             ],
             [
              0.8888888888888888,
              "#fdca26"
             ],
             [
              1,
              "#f0f921"
             ]
            ],
            "type": "heatmapgl"
           }
          ],
          "histogram": [
           {
            "marker": {
             "pattern": {
              "fillmode": "overlay",
              "size": 10,
              "solidity": 0.2
             }
            },
            "type": "histogram"
           }
          ],
          "histogram2d": [
           {
            "colorbar": {
             "outlinewidth": 0,
             "ticks": ""
            },
            "colorscale": [
             [
              0,
              "#0d0887"
             ],
             [
              0.1111111111111111,
              "#46039f"
             ],
             [
              0.2222222222222222,
              "#7201a8"
             ],
             [
              0.3333333333333333,
              "#9c179e"
             ],
             [
              0.4444444444444444,
              "#bd3786"
             ],
             [
              0.5555555555555556,
              "#d8576b"
             ],
             [
              0.6666666666666666,
              "#ed7953"
             ],
             [
              0.7777777777777778,
              "#fb9f3a"
             ],
             [
              0.8888888888888888,
              "#fdca26"
             ],
             [
              1,
              "#f0f921"
             ]
            ],
            "type": "histogram2d"
           }
          ],
          "histogram2dcontour": [
           {
            "colorbar": {
             "outlinewidth": 0,
             "ticks": ""
            },
            "colorscale": [
             [
              0,
              "#0d0887"
             ],
             [
              0.1111111111111111,
              "#46039f"
             ],
             [
              0.2222222222222222,
              "#7201a8"
             ],
             [
              0.3333333333333333,
              "#9c179e"
             ],
             [
              0.4444444444444444,
              "#bd3786"
             ],
             [
              0.5555555555555556,
              "#d8576b"
             ],
             [
              0.6666666666666666,
              "#ed7953"
             ],
             [
              0.7777777777777778,
              "#fb9f3a"
             ],
             [
              0.8888888888888888,
              "#fdca26"
             ],
             [
              1,
              "#f0f921"
             ]
            ],
            "type": "histogram2dcontour"
           }
          ],
          "mesh3d": [
           {
            "colorbar": {
             "outlinewidth": 0,
             "ticks": ""
            },
            "type": "mesh3d"
           }
          ],
          "parcoords": [
           {
            "line": {
             "colorbar": {
              "outlinewidth": 0,
              "ticks": ""
             }
            },
            "type": "parcoords"
           }
          ],
          "pie": [
           {
            "automargin": true,
            "type": "pie"
           }
          ],
          "scatter": [
           {
            "marker": {
             "colorbar": {
              "outlinewidth": 0,
              "ticks": ""
             }
            },
            "type": "scatter"
           }
          ],
          "scatter3d": [
           {
            "line": {
             "colorbar": {
              "outlinewidth": 0,
              "ticks": ""
             }
            },
            "marker": {
             "colorbar": {
              "outlinewidth": 0,
              "ticks": ""
             }
            },
            "type": "scatter3d"
           }
          ],
          "scattercarpet": [
           {
            "marker": {
             "colorbar": {
              "outlinewidth": 0,
              "ticks": ""
             }
            },
            "type": "scattercarpet"
           }
          ],
          "scattergeo": [
           {
            "marker": {
             "colorbar": {
              "outlinewidth": 0,
              "ticks": ""
             }
            },
            "type": "scattergeo"
           }
          ],
          "scattergl": [
           {
            "marker": {
             "colorbar": {
              "outlinewidth": 0,
              "ticks": ""
             }
            },
            "type": "scattergl"
           }
          ],
          "scattermapbox": [
           {
            "marker": {
             "colorbar": {
              "outlinewidth": 0,
              "ticks": ""
             }
            },
            "type": "scattermapbox"
           }
          ],
          "scatterpolar": [
           {
            "marker": {
             "colorbar": {
              "outlinewidth": 0,
              "ticks": ""
             }
            },
            "type": "scatterpolar"
           }
          ],
          "scatterpolargl": [
           {
            "marker": {
             "colorbar": {
              "outlinewidth": 0,
              "ticks": ""
             }
            },
            "type": "scatterpolargl"
           }
          ],
          "scatterternary": [
           {
            "marker": {
             "colorbar": {
              "outlinewidth": 0,
              "ticks": ""
             }
            },
            "type": "scatterternary"
           }
          ],
          "surface": [
           {
            "colorbar": {
             "outlinewidth": 0,
             "ticks": ""
            },
            "colorscale": [
             [
              0,
              "#0d0887"
             ],
             [
              0.1111111111111111,
              "#46039f"
             ],
             [
              0.2222222222222222,
              "#7201a8"
             ],
             [
              0.3333333333333333,
              "#9c179e"
             ],
             [
              0.4444444444444444,
              "#bd3786"
             ],
             [
              0.5555555555555556,
              "#d8576b"
             ],
             [
              0.6666666666666666,
              "#ed7953"
             ],
             [
              0.7777777777777778,
              "#fb9f3a"
             ],
             [
              0.8888888888888888,
              "#fdca26"
             ],
             [
              1,
              "#f0f921"
             ]
            ],
            "type": "surface"
           }
          ],
          "table": [
           {
            "cells": {
             "fill": {
              "color": "#EBF0F8"
             },
             "line": {
              "color": "white"
             }
            },
            "header": {
             "fill": {
              "color": "#C8D4E3"
             },
             "line": {
              "color": "white"
             }
            },
            "type": "table"
           }
          ]
         },
         "layout": {
          "annotationdefaults": {
           "arrowcolor": "#2a3f5f",
           "arrowhead": 0,
           "arrowwidth": 1
          },
          "autotypenumbers": "strict",
          "coloraxis": {
           "colorbar": {
            "outlinewidth": 0,
            "ticks": ""
           }
          },
          "colorscale": {
           "diverging": [
            [
             0,
             "#8e0152"
            ],
            [
             0.1,
             "#c51b7d"
            ],
            [
             0.2,
             "#de77ae"
            ],
            [
             0.3,
             "#f1b6da"
            ],
            [
             0.4,
             "#fde0ef"
            ],
            [
             0.5,
             "#f7f7f7"
            ],
            [
             0.6,
             "#e6f5d0"
            ],
            [
             0.7,
             "#b8e186"
            ],
            [
             0.8,
             "#7fbc41"
            ],
            [
             0.9,
             "#4d9221"
            ],
            [
             1,
             "#276419"
            ]
           ],
           "sequential": [
            [
             0,
             "#0d0887"
            ],
            [
             0.1111111111111111,
             "#46039f"
            ],
            [
             0.2222222222222222,
             "#7201a8"
            ],
            [
             0.3333333333333333,
             "#9c179e"
            ],
            [
             0.4444444444444444,
             "#bd3786"
            ],
            [
             0.5555555555555556,
             "#d8576b"
            ],
            [
             0.6666666666666666,
             "#ed7953"
            ],
            [
             0.7777777777777778,
             "#fb9f3a"
            ],
            [
             0.8888888888888888,
             "#fdca26"
            ],
            [
             1,
             "#f0f921"
            ]
           ],
           "sequentialminus": [
            [
             0,
             "#0d0887"
            ],
            [
             0.1111111111111111,
             "#46039f"
            ],
            [
             0.2222222222222222,
             "#7201a8"
            ],
            [
             0.3333333333333333,
             "#9c179e"
            ],
            [
             0.4444444444444444,
             "#bd3786"
            ],
            [
             0.5555555555555556,
             "#d8576b"
            ],
            [
             0.6666666666666666,
             "#ed7953"
            ],
            [
             0.7777777777777778,
             "#fb9f3a"
            ],
            [
             0.8888888888888888,
             "#fdca26"
            ],
            [
             1,
             "#f0f921"
            ]
           ]
          },
          "colorway": [
           "#636efa",
           "#EF553B",
           "#00cc96",
           "#ab63fa",
           "#FFA15A",
           "#19d3f3",
           "#FF6692",
           "#B6E880",
           "#FF97FF",
           "#FECB52"
          ],
          "font": {
           "color": "#2a3f5f"
          },
          "geo": {
           "bgcolor": "white",
           "lakecolor": "white",
           "landcolor": "#E5ECF6",
           "showlakes": true,
           "showland": true,
           "subunitcolor": "white"
          },
          "hoverlabel": {
           "align": "left"
          },
          "hovermode": "closest",
          "mapbox": {
           "style": "light"
          },
          "paper_bgcolor": "white",
          "plot_bgcolor": "#E5ECF6",
          "polar": {
           "angularaxis": {
            "gridcolor": "white",
            "linecolor": "white",
            "ticks": ""
           },
           "bgcolor": "#E5ECF6",
           "radialaxis": {
            "gridcolor": "white",
            "linecolor": "white",
            "ticks": ""
           }
          },
          "scene": {
           "xaxis": {
            "backgroundcolor": "#E5ECF6",
            "gridcolor": "white",
            "gridwidth": 2,
            "linecolor": "white",
            "showbackground": true,
            "ticks": "",
            "zerolinecolor": "white"
           },
           "yaxis": {
            "backgroundcolor": "#E5ECF6",
            "gridcolor": "white",
            "gridwidth": 2,
            "linecolor": "white",
            "showbackground": true,
            "ticks": "",
            "zerolinecolor": "white"
           },
           "zaxis": {
            "backgroundcolor": "#E5ECF6",
            "gridcolor": "white",
            "gridwidth": 2,
            "linecolor": "white",
            "showbackground": true,
            "ticks": "",
            "zerolinecolor": "white"
           }
          },
          "shapedefaults": {
           "line": {
            "color": "#2a3f5f"
           }
          },
          "ternary": {
           "aaxis": {
            "gridcolor": "white",
            "linecolor": "white",
            "ticks": ""
           },
           "baxis": {
            "gridcolor": "white",
            "linecolor": "white",
            "ticks": ""
           },
           "bgcolor": "#E5ECF6",
           "caxis": {
            "gridcolor": "white",
            "linecolor": "white",
            "ticks": ""
           }
          },
          "title": {
           "x": 0.05
          },
          "xaxis": {
           "automargin": true,
           "gridcolor": "white",
           "linecolor": "white",
           "ticks": "",
           "title": {
            "standoff": 15
           },
           "zerolinecolor": "white",
           "zerolinewidth": 2
          },
          "yaxis": {
           "automargin": true,
           "gridcolor": "white",
           "linecolor": "white",
           "ticks": "",
           "title": {
            "standoff": 15
           },
           "zerolinecolor": "white",
           "zerolinewidth": 2
          }
         }
        },
        "title": {
         "text": "Historico de quantidade de pontos por idade entre os jogadores"
        },
        "xaxis": {
         "tickfont": {
          "size": 14
         }
        },
        "yaxis": {
         "tickfont": {
          "size": 14
         },
         "title": {
          "font": {
           "size": 16
          },
          "text": "Pontos"
         }
        }
       }
      },
      "text/html": [
       "<div>                            <div id=\"4ad2a13d-c66b-408e-ab38-f0439dd74614\" class=\"plotly-graph-div\" style=\"height:525px; width:100%;\"></div>            <script type=\"text/javascript\">                require([\"plotly\"], function(Plotly) {                    window.PLOTLYENV=window.PLOTLYENV || {};                                    if (document.getElementById(\"4ad2a13d-c66b-408e-ab38-f0439dd74614\")) {                    Plotly.newPlot(                        \"4ad2a13d-c66b-408e-ab38-f0439dd74614\",                        [{\"marker\":{\"color\":\"rgb(55, 83, 109)\"},\"name\":\"Kareem Abdul-Jabbar\",\"x\":[23.0,24.0,25.0,26.0,27.0,28.0,29.0,30.0,31.0,32.0,33.0,34.0,35.0,36.0,37.0,38.0,39.0,40.0,41.0,42.0],\"y\":[2361,4957,7779,10071,12262,14211,16486,18638,20238,22141,24175,26270,28088,29810,31527,33262,35108,36474,37639,38387],\"type\":\"bar\"},{\"marker\":{\"color\":\"rgb(26, 118, 255)\"},\"name\":\"Lebron James\",\"x\":[19.0,20.0,21.0,22.0,23.0,24.0,25.0,26.0,27.0,28.0,29.0,30.0,31.0,32.0,33.0,34.0,35.0,36.0,37.0,38.0],\"y\":[1654,3829,6307,8439,10689,12993,15251,17362,19045,21081,23170,24913,26833,28787,31038,32543,34241,35367,37062,38411],\"type\":\"bar\"}],                        {\"template\":{\"data\":{\"bar\":[{\"error_x\":{\"color\":\"#2a3f5f\"},\"error_y\":{\"color\":\"#2a3f5f\"},\"marker\":{\"line\":{\"color\":\"#E5ECF6\",\"width\":0.5},\"pattern\":{\"fillmode\":\"overlay\",\"size\":10,\"solidity\":0.2}},\"type\":\"bar\"}],\"barpolar\":[{\"marker\":{\"line\":{\"color\":\"#E5ECF6\",\"width\":0.5},\"pattern\":{\"fillmode\":\"overlay\",\"size\":10,\"solidity\":0.2}},\"type\":\"barpolar\"}],\"carpet\":[{\"aaxis\":{\"endlinecolor\":\"#2a3f5f\",\"gridcolor\":\"white\",\"linecolor\":\"white\",\"minorgridcolor\":\"white\",\"startlinecolor\":\"#2a3f5f\"},\"baxis\":{\"endlinecolor\":\"#2a3f5f\",\"gridcolor\":\"white\",\"linecolor\":\"white\",\"minorgridcolor\":\"white\",\"startlinecolor\":\"#2a3f5f\"},\"type\":\"carpet\"}],\"choropleth\":[{\"colorbar\":{\"outlinewidth\":0,\"ticks\":\"\"},\"type\":\"choropleth\"}],\"contour\":[{\"colorbar\":{\"outlinewidth\":0,\"ticks\":\"\"},\"colorscale\":[[0.0,\"#0d0887\"],[0.1111111111111111,\"#46039f\"],[0.2222222222222222,\"#7201a8\"],[0.3333333333333333,\"#9c179e\"],[0.4444444444444444,\"#bd3786\"],[0.5555555555555556,\"#d8576b\"],[0.6666666666666666,\"#ed7953\"],[0.7777777777777778,\"#fb9f3a\"],[0.8888888888888888,\"#fdca26\"],[1.0,\"#f0f921\"]],\"type\":\"contour\"}],\"contourcarpet\":[{\"colorbar\":{\"outlinewidth\":0,\"ticks\":\"\"},\"type\":\"contourcarpet\"}],\"heatmap\":[{\"colorbar\":{\"outlinewidth\":0,\"ticks\":\"\"},\"colorscale\":[[0.0,\"#0d0887\"],[0.1111111111111111,\"#46039f\"],[0.2222222222222222,\"#7201a8\"],[0.3333333333333333,\"#9c179e\"],[0.4444444444444444,\"#bd3786\"],[0.5555555555555556,\"#d8576b\"],[0.6666666666666666,\"#ed7953\"],[0.7777777777777778,\"#fb9f3a\"],[0.8888888888888888,\"#fdca26\"],[1.0,\"#f0f921\"]],\"type\":\"heatmap\"}],\"heatmapgl\":[{\"colorbar\":{\"outlinewidth\":0,\"ticks\":\"\"},\"colorscale\":[[0.0,\"#0d0887\"],[0.1111111111111111,\"#46039f\"],[0.2222222222222222,\"#7201a8\"],[0.3333333333333333,\"#9c179e\"],[0.4444444444444444,\"#bd3786\"],[0.5555555555555556,\"#d8576b\"],[0.6666666666666666,\"#ed7953\"],[0.7777777777777778,\"#fb9f3a\"],[0.8888888888888888,\"#fdca26\"],[1.0,\"#f0f921\"]],\"type\":\"heatmapgl\"}],\"histogram\":[{\"marker\":{\"pattern\":{\"fillmode\":\"overlay\",\"size\":10,\"solidity\":0.2}},\"type\":\"histogram\"}],\"histogram2d\":[{\"colorbar\":{\"outlinewidth\":0,\"ticks\":\"\"},\"colorscale\":[[0.0,\"#0d0887\"],[0.1111111111111111,\"#46039f\"],[0.2222222222222222,\"#7201a8\"],[0.3333333333333333,\"#9c179e\"],[0.4444444444444444,\"#bd3786\"],[0.5555555555555556,\"#d8576b\"],[0.6666666666666666,\"#ed7953\"],[0.7777777777777778,\"#fb9f3a\"],[0.8888888888888888,\"#fdca26\"],[1.0,\"#f0f921\"]],\"type\":\"histogram2d\"}],\"histogram2dcontour\":[{\"colorbar\":{\"outlinewidth\":0,\"ticks\":\"\"},\"colorscale\":[[0.0,\"#0d0887\"],[0.1111111111111111,\"#46039f\"],[0.2222222222222222,\"#7201a8\"],[0.3333333333333333,\"#9c179e\"],[0.4444444444444444,\"#bd3786\"],[0.5555555555555556,\"#d8576b\"],[0.6666666666666666,\"#ed7953\"],[0.7777777777777778,\"#fb9f3a\"],[0.8888888888888888,\"#fdca26\"],[1.0,\"#f0f921\"]],\"type\":\"histogram2dcontour\"}],\"mesh3d\":[{\"colorbar\":{\"outlinewidth\":0,\"ticks\":\"\"},\"type\":\"mesh3d\"}],\"parcoords\":[{\"line\":{\"colorbar\":{\"outlinewidth\":0,\"ticks\":\"\"}},\"type\":\"parcoords\"}],\"pie\":[{\"automargin\":true,\"type\":\"pie\"}],\"scatter\":[{\"marker\":{\"colorbar\":{\"outlinewidth\":0,\"ticks\":\"\"}},\"type\":\"scatter\"}],\"scatter3d\":[{\"line\":{\"colorbar\":{\"outlinewidth\":0,\"ticks\":\"\"}},\"marker\":{\"colorbar\":{\"outlinewidth\":0,\"ticks\":\"\"}},\"type\":\"scatter3d\"}],\"scattercarpet\":[{\"marker\":{\"colorbar\":{\"outlinewidth\":0,\"ticks\":\"\"}},\"type\":\"scattercarpet\"}],\"scattergeo\":[{\"marker\":{\"colorbar\":{\"outlinewidth\":0,\"ticks\":\"\"}},\"type\":\"scattergeo\"}],\"scattergl\":[{\"marker\":{\"colorbar\":{\"outlinewidth\":0,\"ticks\":\"\"}},\"type\":\"scattergl\"}],\"scattermapbox\":[{\"marker\":{\"colorbar\":{\"outlinewidth\":0,\"ticks\":\"\"}},\"type\":\"scattermapbox\"}],\"scatterpolar\":[{\"marker\":{\"colorbar\":{\"outlinewidth\":0,\"ticks\":\"\"}},\"type\":\"scatterpolar\"}],\"scatterpolargl\":[{\"marker\":{\"colorbar\":{\"outlinewidth\":0,\"ticks\":\"\"}},\"type\":\"scatterpolargl\"}],\"scatterternary\":[{\"marker\":{\"colorbar\":{\"outlinewidth\":0,\"ticks\":\"\"}},\"type\":\"scatterternary\"}],\"surface\":[{\"colorbar\":{\"outlinewidth\":0,\"ticks\":\"\"},\"colorscale\":[[0.0,\"#0d0887\"],[0.1111111111111111,\"#46039f\"],[0.2222222222222222,\"#7201a8\"],[0.3333333333333333,\"#9c179e\"],[0.4444444444444444,\"#bd3786\"],[0.5555555555555556,\"#d8576b\"],[0.6666666666666666,\"#ed7953\"],[0.7777777777777778,\"#fb9f3a\"],[0.8888888888888888,\"#fdca26\"],[1.0,\"#f0f921\"]],\"type\":\"surface\"}],\"table\":[{\"cells\":{\"fill\":{\"color\":\"#EBF0F8\"},\"line\":{\"color\":\"white\"}},\"header\":{\"fill\":{\"color\":\"#C8D4E3\"},\"line\":{\"color\":\"white\"}},\"type\":\"table\"}]},\"layout\":{\"annotationdefaults\":{\"arrowcolor\":\"#2a3f5f\",\"arrowhead\":0,\"arrowwidth\":1},\"autotypenumbers\":\"strict\",\"coloraxis\":{\"colorbar\":{\"outlinewidth\":0,\"ticks\":\"\"}},\"colorscale\":{\"diverging\":[[0,\"#8e0152\"],[0.1,\"#c51b7d\"],[0.2,\"#de77ae\"],[0.3,\"#f1b6da\"],[0.4,\"#fde0ef\"],[0.5,\"#f7f7f7\"],[0.6,\"#e6f5d0\"],[0.7,\"#b8e186\"],[0.8,\"#7fbc41\"],[0.9,\"#4d9221\"],[1,\"#276419\"]],\"sequential\":[[0.0,\"#0d0887\"],[0.1111111111111111,\"#46039f\"],[0.2222222222222222,\"#7201a8\"],[0.3333333333333333,\"#9c179e\"],[0.4444444444444444,\"#bd3786\"],[0.5555555555555556,\"#d8576b\"],[0.6666666666666666,\"#ed7953\"],[0.7777777777777778,\"#fb9f3a\"],[0.8888888888888888,\"#fdca26\"],[1.0,\"#f0f921\"]],\"sequentialminus\":[[0.0,\"#0d0887\"],[0.1111111111111111,\"#46039f\"],[0.2222222222222222,\"#7201a8\"],[0.3333333333333333,\"#9c179e\"],[0.4444444444444444,\"#bd3786\"],[0.5555555555555556,\"#d8576b\"],[0.6666666666666666,\"#ed7953\"],[0.7777777777777778,\"#fb9f3a\"],[0.8888888888888888,\"#fdca26\"],[1.0,\"#f0f921\"]]},\"colorway\":[\"#636efa\",\"#EF553B\",\"#00cc96\",\"#ab63fa\",\"#FFA15A\",\"#19d3f3\",\"#FF6692\",\"#B6E880\",\"#FF97FF\",\"#FECB52\"],\"font\":{\"color\":\"#2a3f5f\"},\"geo\":{\"bgcolor\":\"white\",\"lakecolor\":\"white\",\"landcolor\":\"#E5ECF6\",\"showlakes\":true,\"showland\":true,\"subunitcolor\":\"white\"},\"hoverlabel\":{\"align\":\"left\"},\"hovermode\":\"closest\",\"mapbox\":{\"style\":\"light\"},\"paper_bgcolor\":\"white\",\"plot_bgcolor\":\"#E5ECF6\",\"polar\":{\"angularaxis\":{\"gridcolor\":\"white\",\"linecolor\":\"white\",\"ticks\":\"\"},\"bgcolor\":\"#E5ECF6\",\"radialaxis\":{\"gridcolor\":\"white\",\"linecolor\":\"white\",\"ticks\":\"\"}},\"scene\":{\"xaxis\":{\"backgroundcolor\":\"#E5ECF6\",\"gridcolor\":\"white\",\"gridwidth\":2,\"linecolor\":\"white\",\"showbackground\":true,\"ticks\":\"\",\"zerolinecolor\":\"white\"},\"yaxis\":{\"backgroundcolor\":\"#E5ECF6\",\"gridcolor\":\"white\",\"gridwidth\":2,\"linecolor\":\"white\",\"showbackground\":true,\"ticks\":\"\",\"zerolinecolor\":\"white\"},\"zaxis\":{\"backgroundcolor\":\"#E5ECF6\",\"gridcolor\":\"white\",\"gridwidth\":2,\"linecolor\":\"white\",\"showbackground\":true,\"ticks\":\"\",\"zerolinecolor\":\"white\"}},\"shapedefaults\":{\"line\":{\"color\":\"#2a3f5f\"}},\"ternary\":{\"aaxis\":{\"gridcolor\":\"white\",\"linecolor\":\"white\",\"ticks\":\"\"},\"baxis\":{\"gridcolor\":\"white\",\"linecolor\":\"white\",\"ticks\":\"\"},\"bgcolor\":\"#E5ECF6\",\"caxis\":{\"gridcolor\":\"white\",\"linecolor\":\"white\",\"ticks\":\"\"}},\"title\":{\"x\":0.05},\"xaxis\":{\"automargin\":true,\"gridcolor\":\"white\",\"linecolor\":\"white\",\"ticks\":\"\",\"title\":{\"standoff\":15},\"zerolinecolor\":\"white\",\"zerolinewidth\":2},\"yaxis\":{\"automargin\":true,\"gridcolor\":\"white\",\"linecolor\":\"white\",\"ticks\":\"\",\"title\":{\"standoff\":15},\"zerolinecolor\":\"white\",\"zerolinewidth\":2}}},\"xaxis\":{\"tickfont\":{\"size\":14}},\"yaxis\":{\"title\":{\"text\":\"Pontos\",\"font\":{\"size\":16}},\"tickfont\":{\"size\":14}},\"legend\":{\"x\":0,\"y\":1.0,\"bgcolor\":\"rgba(255, 255, 255, 0)\",\"bordercolor\":\"rgba(255, 255, 255, 0)\"},\"title\":{\"text\":\"Historico de quantidade de pontos por idade entre os jogadores\"},\"barmode\":\"group\",\"bargap\":0.15,\"bargroupgap\":0.1},                        {\"responsive\": true}                    ).then(function(){\n",
       "                            \n",
       "var gd = document.getElementById('4ad2a13d-c66b-408e-ab38-f0439dd74614');\n",
       "var x = new MutationObserver(function (mutations, observer) {{\n",
       "        var display = window.getComputedStyle(gd).display;\n",
       "        if (!display || display === 'none') {{\n",
       "            console.log([gd, 'removed!']);\n",
       "            Plotly.purge(gd);\n",
       "            observer.disconnect();\n",
       "        }}\n",
       "}});\n",
       "\n",
       "// Listen for the removal of the full notebook cells\n",
       "var notebookContainer = gd.closest('#notebook-container');\n",
       "if (notebookContainer) {{\n",
       "    x.observe(notebookContainer, {childList: true});\n",
       "}}\n",
       "\n",
       "// Listen for the clearing of the current output cell\n",
       "var outputEl = gd.closest('.output');\n",
       "if (outputEl) {{\n",
       "    x.observe(outputEl, {childList: true});\n",
       "}}\n",
       "\n",
       "                        })                };                });            </script>        </div>"
      ]
     },
     "metadata": {},
     "output_type": "display_data"
    },
    {
     "data": {
      "text/plain": [
       "<Figure size 640x480 with 0 Axes>"
      ]
     },
     "metadata": {},
     "output_type": "display_data"
    }
   ],
   "source": [
    "import  plotly.graph_objects  as  go \n",
    "\n",
    "fig = go.Figure ()\n",
    "\n",
    "# Dados de Kareem\n",
    "fig.add_trace (go.Bar(\n",
    "    x = kareemCarreira.PLAYER_AGE,\n",
    "    y = kareemCarreira.SUM_PTS,\n",
    "    name = 'Kareem Abdul-Jabbar',\n",
    "    marker_color='rgb(55, 83, 109)'\n",
    "))\n",
    "\n",
    "# Dados de Lebron\n",
    "fig.add_trace (go.Bar(\n",
    "    x = lebronCarreira.PLAYER_AGE,\n",
    "    y = lebronCarreira.SUM_PTS,\n",
    "    name = 'Lebron James',\n",
    "    marker_color='rgb(26, 118, 255)'\n",
    "))\n",
    "\n",
    "fig.update_layout(\n",
    "    title='Historico de quantidade de pontos por idade entre os jogadores',\n",
    "    xaxis_tickfont_size=14,\n",
    "    yaxis=dict(\n",
    "        title='Pontos',\n",
    "        titlefont_size=16,\n",
    "        tickfont_size=14,\n",
    "    ),\n",
    "    legend=dict(\n",
    "        x=0,\n",
    "        y=1.0,\n",
    "        bgcolor='rgba(255, 255, 255, 0)',\n",
    "        bordercolor='rgba(255, 255, 255, 0)'\n",
    "    ),\n",
    "    barmode='group',\n",
    "    bargap=0.15, # adjacent location coordinates.\n",
    "    bargroupgap=0.1 # same location coordinate.\n",
    ")\n",
    "fig.show()"
   ]
  },
  {
   "cell_type": "markdown",
   "id": "51c9b97c",
   "metadata": {},
   "source": [
    "# Predições"
   ]
  },
  {
   "cell_type": "code",
   "execution_count": 14,
   "id": "7e4dfb30",
   "metadata": {},
   "outputs": [],
   "source": [
    "# Importando bibliotecas\n",
    "from sklearn.linear_model import LinearRegression\n",
    "from sklearn.model_selection import train_test_split"
   ]
  },
  {
   "cell_type": "code",
   "execution_count": 213,
   "id": "b742075a",
   "metadata": {},
   "outputs": [
    {
     "data": {
      "text/html": [
       "<div>\n",
       "<style scoped>\n",
       "    .dataframe tbody tr th:only-of-type {\n",
       "        vertical-align: middle;\n",
       "    }\n",
       "\n",
       "    .dataframe tbody tr th {\n",
       "        vertical-align: top;\n",
       "    }\n",
       "\n",
       "    .dataframe thead th {\n",
       "        text-align: right;\n",
       "    }\n",
       "</style>\n",
       "<table border=\"1\" class=\"dataframe\">\n",
       "  <thead>\n",
       "    <tr style=\"text-align: right;\">\n",
       "      <th></th>\n",
       "      <th>PLAYER_AGE</th>\n",
       "      <th>SUM_PTS</th>\n",
       "    </tr>\n",
       "  </thead>\n",
       "  <tbody>\n",
       "    <tr>\n",
       "      <th>0</th>\n",
       "      <td>19.0</td>\n",
       "      <td>1654</td>\n",
       "    </tr>\n",
       "    <tr>\n",
       "      <th>1</th>\n",
       "      <td>20.0</td>\n",
       "      <td>3829</td>\n",
       "    </tr>\n",
       "    <tr>\n",
       "      <th>2</th>\n",
       "      <td>21.0</td>\n",
       "      <td>6307</td>\n",
       "    </tr>\n",
       "    <tr>\n",
       "      <th>3</th>\n",
       "      <td>22.0</td>\n",
       "      <td>8439</td>\n",
       "    </tr>\n",
       "    <tr>\n",
       "      <th>4</th>\n",
       "      <td>23.0</td>\n",
       "      <td>10689</td>\n",
       "    </tr>\n",
       "    <tr>\n",
       "      <th>5</th>\n",
       "      <td>24.0</td>\n",
       "      <td>12993</td>\n",
       "    </tr>\n",
       "    <tr>\n",
       "      <th>6</th>\n",
       "      <td>25.0</td>\n",
       "      <td>15251</td>\n",
       "    </tr>\n",
       "    <tr>\n",
       "      <th>7</th>\n",
       "      <td>26.0</td>\n",
       "      <td>17362</td>\n",
       "    </tr>\n",
       "    <tr>\n",
       "      <th>8</th>\n",
       "      <td>27.0</td>\n",
       "      <td>19045</td>\n",
       "    </tr>\n",
       "    <tr>\n",
       "      <th>9</th>\n",
       "      <td>28.0</td>\n",
       "      <td>21081</td>\n",
       "    </tr>\n",
       "    <tr>\n",
       "      <th>10</th>\n",
       "      <td>29.0</td>\n",
       "      <td>23170</td>\n",
       "    </tr>\n",
       "    <tr>\n",
       "      <th>11</th>\n",
       "      <td>30.0</td>\n",
       "      <td>24913</td>\n",
       "    </tr>\n",
       "    <tr>\n",
       "      <th>12</th>\n",
       "      <td>31.0</td>\n",
       "      <td>26833</td>\n",
       "    </tr>\n",
       "    <tr>\n",
       "      <th>13</th>\n",
       "      <td>32.0</td>\n",
       "      <td>28787</td>\n",
       "    </tr>\n",
       "    <tr>\n",
       "      <th>14</th>\n",
       "      <td>33.0</td>\n",
       "      <td>31038</td>\n",
       "    </tr>\n",
       "    <tr>\n",
       "      <th>15</th>\n",
       "      <td>34.0</td>\n",
       "      <td>32543</td>\n",
       "    </tr>\n",
       "    <tr>\n",
       "      <th>16</th>\n",
       "      <td>35.0</td>\n",
       "      <td>34241</td>\n",
       "    </tr>\n",
       "    <tr>\n",
       "      <th>17</th>\n",
       "      <td>36.0</td>\n",
       "      <td>35367</td>\n",
       "    </tr>\n",
       "    <tr>\n",
       "      <th>18</th>\n",
       "      <td>37.0</td>\n",
       "      <td>37062</td>\n",
       "    </tr>\n",
       "    <tr>\n",
       "      <th>19</th>\n",
       "      <td>38.0</td>\n",
       "      <td>38390</td>\n",
       "    </tr>\n",
       "  </tbody>\n",
       "</table>\n",
       "</div>"
      ],
      "text/plain": [
       "    PLAYER_AGE  SUM_PTS\n",
       "0         19.0     1654\n",
       "1         20.0     3829\n",
       "2         21.0     6307\n",
       "3         22.0     8439\n",
       "4         23.0    10689\n",
       "5         24.0    12993\n",
       "6         25.0    15251\n",
       "7         26.0    17362\n",
       "8         27.0    19045\n",
       "9         28.0    21081\n",
       "10        29.0    23170\n",
       "11        30.0    24913\n",
       "12        31.0    26833\n",
       "13        32.0    28787\n",
       "14        33.0    31038\n",
       "15        34.0    32543\n",
       "16        35.0    34241\n",
       "17        36.0    35367\n",
       "18        37.0    37062\n",
       "19        38.0    38390"
      ]
     },
     "execution_count": 213,
     "metadata": {},
     "output_type": "execute_result"
    }
   ],
   "source": [
    "# Criando um novo frame contendo apenas os dados de idade e pontos para usar no modelo\n",
    "data = lebronCarreira.SUM_PTS\n",
    "data.index = lebronCarreira.PLAYER_AGE\n",
    "data = data.reset_index()\n",
    "data"
   ]
  },
  {
   "cell_type": "code",
   "execution_count": 214,
   "id": "43001f09",
   "metadata": {},
   "outputs": [
    {
     "data": {
      "text/plain": [
       "PLAYER_AGE    int64\n",
       "SUM_PTS       int64\n",
       "dtype: object"
      ]
     },
     "execution_count": 214,
     "metadata": {},
     "output_type": "execute_result"
    }
   ],
   "source": [
    "# Formatando os dados da coluna que contem a idade para int\n",
    "data['PLAYER_AGE'] = data['PLAYER_AGE'].astype(int)\n",
    "data.dtypes"
   ]
  },
  {
   "cell_type": "code",
   "execution_count": 250,
   "id": "4d85eb41",
   "metadata": {},
   "outputs": [],
   "source": [
    "# divide os dados em conjuntos de treinamento e teste\n",
    "train_data, test_data = train_test_split(data, test_size=0.2, random_state=42)"
   ]
  },
  {
   "cell_type": "code",
   "execution_count": 251,
   "id": "d2d0f1e5",
   "metadata": {},
   "outputs": [],
   "source": [
    "# escolhe um modelo de regressão\n",
    "reg_model = LinearRegression()"
   ]
  },
  {
   "cell_type": "code",
   "execution_count": null,
   "id": "fd39baed",
   "metadata": {},
   "outputs": [],
   "source": [
    "# treina o modelo\n",
    "X_train = train_data['PLAYER_AGE'].values.reshape(-1, 1)\n",
    "y_train = train_data['SUM_PTS'].values.reshape(-1, 1)\n",
    "reg_model.fit(X_train, y_train)"
   ]
  },
  {
   "cell_type": "code",
   "execution_count": 253,
   "id": "30821c42",
   "metadata": {},
   "outputs": [],
   "source": [
    "# faz a previsão para a idade de 42 anos\n",
    "# Criando um array com as idade\n",
    "age_42 = np.array([42]).reshape(-1, 1) \n",
    "predicted_score = reg_model.predict(age_42)[0][0]"
   ]
  },
  {
   "cell_type": "code",
   "execution_count": 269,
   "id": "a8207ac1",
   "metadata": {},
   "outputs": [],
   "source": [
    "# cria um conjunto de valores de idade para fazer previsões\n",
    "ages = np.arange(data['PLAYER_AGE'].min(), 43).reshape(-1, 1)\n",
    "\n",
    "# faz previsões para cada idade no conjunto de valores de idade\n",
    "predicted = reg_model.predict(ages)"
   ]
  },
  {
   "cell_type": "code",
   "execution_count": 717,
   "id": "c4504b07",
   "metadata": {},
   "outputs": [
    {
     "data": {
      "image/png": "[encoded data removed]",
      "text/plain": [
       "<Figure size 640x480 with 1 Axes>"
      ]
     },
     "metadata": {},
     "output_type": "display_data"
    }
   ],
   "source": [
    "# cria um gráfico com os dados observados e os dados previstos\n",
    "plt.plot(data['PLAYER_AGE'], data['SUM_PTS'], 'o', label='Dados observados')\n",
    "plt.plot(ages, predicted, label='Dados previstos')\n",
    "plt.style.use('default')\n",
    "\n",
    "plt.xlabel('Idade')\n",
    "plt.ylabel('Pontuação')\n",
    "plt.legend()\n",
    "plt.savefig('predicao_com_sklearn.png',dpi=300)\n",
    "plt.show()"
   ]
  },
  {
   "cell_type": "code",
   "execution_count": 631,
   "id": "a5d35b8d",
   "metadata": {},
   "outputs": [
    {
     "name": "stdout",
     "output_type": "stream",
     "text": [
      "Pontuação prevista que Lebron ira alcaçar aos 42 anos: 47437.20\n",
      "Erro médio absoluto: 1089.78\n",
      "Coeficiente de determinação: 0.99\n"
     ]
    }
   ],
   "source": [
    "# Avaliando a precisão do modelo\n",
    "X_test = test_data['PLAYER_AGE'].values.reshape(-1, 1)\n",
    "y_test = test_data['SUM_PTS'].values.reshape(-1, 1)\n",
    "predicted_scores = reg_model.predict(X_test)\n",
    "mae = np.mean(np.abs(predicted_scores - y_test)) # Oque foi predito - oque foi testado\n",
    "r2 = reg_model.score(X_test, y_test)\n",
    "\n",
    "print(f'Pontuação prevista que Lebron ira alcaçar aos 42 anos: {predicted_score:.2f}') # Pontuação predito aos 42 anos\n",
    "print(f'Erro médio absoluto: {mae:.2f}') # diferença entre as previsões e os valores reais em uma determinada série temporal\n",
    "print(f'Coeficiente de determinação: {r2:.2f}') #O coeficiente de determinação, também conhecido como R², é uma medida estatística que indica o quão bem um modelo de regressão linear se ajusta aos dados"
   ]
  },
  {
   "cell_type": "markdown",
   "id": "cca0ef88",
   "metadata": {},
   "source": [
    "# Modelo de crescimento"
   ]
  },
  {
   "cell_type": "raw",
   "id": "1499618f",
   "metadata": {},
   "source": [
    " Usarei o Fbprophet mas ao inves de ver por idade, verei por temporada\n",
    " Entao o objeto sera: \n",
    " 1. Na temporada em que ele completar 42 anos de idade, quantos pontos ele tera feito na carreira?\n",
    " "
   ]
  },
  {
   "cell_type": "code",
   "execution_count": null,
   "id": "ea4d8769",
   "metadata": {},
   "outputs": [],
   "source": [
    "# Metodo mais facil de se intalar o fbprophet sem erros\n",
    "!conda install -c conda-forge fbprophet -y"
   ]
  },
  {
   "cell_type": "code",
   "execution_count": 316,
   "id": "0488f108",
   "metadata": {},
   "outputs": [],
   "source": [
    "# Importando\n",
    "from prophet import Prophet"
   ]
  },
  {
   "cell_type": "code",
   "execution_count": 431,
   "id": "474d09d5",
   "metadata": {},
   "outputs": [
    {
     "data": {
      "text/plain": [
       "SEASON_ID\n",
       "2003-04     1654\n",
       "2004-05     3829\n",
       "2005-06     6307\n",
       "2006-07     8439\n",
       "2007-08    10689\n",
       "Name: SUM_PTS, dtype: int64"
      ]
     },
     "execution_count": 431,
     "metadata": {},
     "output_type": "execute_result"
    }
   ],
   "source": [
    "# Atribuindo \n",
    "lebron = lebronCarreira.SUM_PTS\n",
    "lebron.index = lebronCarreira.SEASON_ID\n",
    "lebron.head()"
   ]
  },
  {
   "cell_type": "code",
   "execution_count": 546,
   "id": "31ae2985",
   "metadata": {},
   "outputs": [
    {
     "data": {
      "text/html": [
       "<div>\n",
       "<style scoped>\n",
       "    .dataframe tbody tr th:only-of-type {\n",
       "        vertical-align: middle;\n",
       "    }\n",
       "\n",
       "    .dataframe tbody tr th {\n",
       "        vertical-align: top;\n",
       "    }\n",
       "\n",
       "    .dataframe thead th {\n",
       "        text-align: right;\n",
       "    }\n",
       "</style>\n",
       "<table border=\"1\" class=\"dataframe\">\n",
       "  <thead>\n",
       "    <tr style=\"text-align: right;\">\n",
       "      <th></th>\n",
       "      <th>level_0</th>\n",
       "      <th>index</th>\n",
       "      <th>ds</th>\n",
       "      <th>y</th>\n",
       "    </tr>\n",
       "  </thead>\n",
       "  <tbody>\n",
       "    <tr>\n",
       "      <th>0</th>\n",
       "      <td>0</td>\n",
       "      <td>0</td>\n",
       "      <td>2004-01-01</td>\n",
       "      <td>1654</td>\n",
       "    </tr>\n",
       "    <tr>\n",
       "      <th>1</th>\n",
       "      <td>1</td>\n",
       "      <td>1</td>\n",
       "      <td>2005-01-01</td>\n",
       "      <td>3829</td>\n",
       "    </tr>\n",
       "    <tr>\n",
       "      <th>2</th>\n",
       "      <td>2</td>\n",
       "      <td>2</td>\n",
       "      <td>2006-01-01</td>\n",
       "      <td>6307</td>\n",
       "    </tr>\n",
       "    <tr>\n",
       "      <th>3</th>\n",
       "      <td>3</td>\n",
       "      <td>3</td>\n",
       "      <td>2007-01-01</td>\n",
       "      <td>8439</td>\n",
       "    </tr>\n",
       "    <tr>\n",
       "      <th>4</th>\n",
       "      <td>4</td>\n",
       "      <td>4</td>\n",
       "      <td>2008-01-01</td>\n",
       "      <td>10689</td>\n",
       "    </tr>\n",
       "  </tbody>\n",
       "</table>\n",
       "</div>"
      ],
      "text/plain": [
       "   level_0  index         ds      y\n",
       "0        0      0 2004-01-01   1654\n",
       "1        1      1 2005-01-01   3829\n",
       "2        2      2 2006-01-01   6307\n",
       "3        3      3 2007-01-01   8439\n",
       "4        4      4 2008-01-01  10689"
      ]
     },
     "execution_count": 546,
     "metadata": {},
     "output_type": "execute_result"
    }
   ],
   "source": [
    "from datetime import datetime\n",
    "# Padronizando a coluna de acordo com as regras do modelo e formatando a coluna ds para datetime\n",
    "lebron = lebron.reset_index().rename(columns={'SEASON_ID': 'ds', 'SUM_PTS': 'y'})\n",
    "lebron['ds'] = pd.to_datetime(lebron['ds'], format='%Y-%y')\n",
    "lebron.head()"
   ]
  },
  {
   "cell_type": "code",
   "execution_count": 656,
   "id": "d99c1494",
   "metadata": {},
   "outputs": [],
   "source": [
    "# Dividindo em treino e teste\n",
    "train = lebron[lebron['ds'] <= '2023-01-01']\n",
    "test = lebron[lebron['ds'] >= '2023-01-01']"
   ]
  },
  {
   "cell_type": "code",
   "execution_count": null,
   "id": "207e3a16",
   "metadata": {},
   "outputs": [],
   "source": [
    "# Definindo modelo\n",
    "model = Prophet()\n",
    "model.fit(train)"
   ]
  },
  {
   "cell_type": "code",
   "execution_count": 664,
   "id": "6d46aa0d",
   "metadata": {},
   "outputs": [],
   "source": [
    "# Dados Futuros\n",
    "future_dates = pd.date_range (start='2004-01-01', end='2028-01-01', freq='A')\n",
    "future_df = pd.DataFrame ({'ds':future_dates})"
   ]
  },
  {
   "cell_type": "code",
   "execution_count": 665,
   "id": "16633cd4",
   "metadata": {},
   "outputs": [],
   "source": [
    "# fazendo a previsão dos pontos totais marcados na carreira do Lebron James\n",
    "forecast = model.predict (future_df)"
   ]
  },
  {
   "cell_type": "code",
   "execution_count": 721,
   "id": "20e5e00b",
   "metadata": {},
   "outputs": [
    {
     "data": {
      "application/vnd.plotly.v1+json": {
       "config": {
        "plotlyServerURL": "https://plot.ly"
       },
       "data": [
        {
         "line": {
          "width": 4
         },
         "marker": {
          "color": "rgb(255, 0, 0)"
         },
         "mode": "lines+markers",
         "name": "Observados - Treino",
         "type": "scatter",
         "x": [
          "2004-01-01T00:00:00",
          "2005-01-01T00:00:00",
          "2006-01-01T00:00:00",
          "2007-01-01T00:00:00",
          "2008-01-01T00:00:00",
          "2009-01-01T00:00:00",
          "2010-01-01T00:00:00",
          "2011-01-01T00:00:00",
          "2012-01-01T00:00:00",
          "2013-01-01T00:00:00",
          "2014-01-01T00:00:00",
          "2015-01-01T00:00:00",
          "2016-01-01T00:00:00",
          "2017-01-01T00:00:00",
          "2018-01-01T00:00:00",
          "2019-01-01T00:00:00",
          "2020-01-01T00:00:00",
          "2021-01-01T00:00:00",
          "2022-01-01T00:00:00",
          "2023-01-01T00:00:00"
         ],
         "y": [
          1654,
          3829,
          6307,
          8439,
          10689,
          12993,
          15251,
          17362,
          19045,
          21081,
          23170,
          24913,
          26833,
          28787,
          31038,
          32543,
          34241,
          35367,
          37062,
          38390
         ]
        },
        {
         "line": {
          "width": 4
         },
         "marker": {
          "color": "rgb(26, 118, 255)"
         },
         "mode": "lines",
         "name": "Preditos",
         "type": "scatter",
         "x": [
          "2004-12-31T00:00:00",
          "2005-12-31T00:00:00",
          "2006-12-31T00:00:00",
          "2007-12-31T00:00:00",
          "2008-12-31T00:00:00",
          "2009-12-31T00:00:00",
          "2010-12-31T00:00:00",
          "2011-12-31T00:00:00",
          "2012-12-31T00:00:00",
          "2013-12-31T00:00:00",
          "2014-12-31T00:00:00",
          "2015-12-31T00:00:00",
          "2016-12-31T00:00:00",
          "2017-12-31T00:00:00",
          "2018-12-31T00:00:00",
          "2019-12-31T00:00:00",
          "2020-12-31T00:00:00",
          "2021-12-31T00:00:00",
          "2022-12-31T00:00:00",
          "2023-12-31T00:00:00",
          "2024-12-31T00:00:00",
          "2025-12-31T00:00:00",
          "2026-12-31T00:00:00",
          "2027-12-31T00:00:00"
         ],
         "y": [
          3704.515495586764,
          5689.778097035261,
          7589.523721130838,
          9408.611089702845,
          12766.815308528106,
          14689.171129465874,
          16372.206549886247,
          17851.704256857996,
          20869.051087664746,
          22514.381973946718,
          24074.195866807644,
          25604.894475406836,
          28674.708604497846,
          30372.372394380123,
          31734.30277201232,
          32738.448729753116,
          35278.71729356181,
          36448.27903741499,
          37532.323803864245,
          38535.71031445993,
          41075.97887832325,
          42245.540622186636,
          43329.585388632935,
          44332.971899197204
         ]
        }
       ],
       "layout": {
        "template": {
         "data": {
          "bar": [
           {
            "error_x": {
             "color": "rgb(36,36,36)"
            },
            "error_y": {
             "color": "rgb(36,36,36)"
            },
            "marker": {
             "line": {
              "color": "white",
              "width": 0.5
             },
             "pattern": {
              "fillmode": "overlay",
              "size": 10,
              "solidity": 0.2
             }
            },
            "type": "bar"
           }
          ],
          "barpolar": [
           {
            "marker": {
             "line": {
              "color": "white",
              "width": 0.5
             },
             "pattern": {
              "fillmode": "overlay",
              "size": 10,
              "solidity": 0.2
             }
            },
            "type": "barpolar"
           }
          ],
          "carpet": [
           {
            "aaxis": {
             "endlinecolor": "rgb(36,36,36)",
             "gridcolor": "white",
             "linecolor": "white",
             "minorgridcolor": "white",
             "startlinecolor": "rgb(36,36,36)"
            },
            "baxis": {
             "endlinecolor": "rgb(36,36,36)",
             "gridcolor": "white",
             "linecolor": "white",
             "minorgridcolor": "white",
             "startlinecolor": "rgb(36,36,36)"
            },
            "type": "carpet"
           }
          ],
          "choropleth": [
           {
            "colorbar": {
             "outlinewidth": 1,
             "tickcolor": "rgb(36,36,36)",
             "ticks": "outside"
            },
            "type": "choropleth"
           }
          ],
          "contour": [
           {
            "colorbar": {
             "outlinewidth": 1,
             "tickcolor": "rgb(36,36,36)",
             "ticks": "outside"
            },
            "colorscale": [
             [
              0,
              "#440154"
             ],
             [
              0.1111111111111111,
              "#482878"
             ],
             [
              0.2222222222222222,
              "#3e4989"
             ],
             [
              0.3333333333333333,
              "#31688e"
             ],
             [
              0.4444444444444444,
              "#26828e"
             ],
             [
              0.5555555555555556,
              "#1f9e89"
             ],
             [
              0.6666666666666666,
              "#35b779"
             ],
             [
              0.7777777777777778,
              "#6ece58"
             ],
             [
              0.8888888888888888,
              "#b5de2b"
             ],
             [
              1,
              "#fde725"
             ]
            ],
            "type": "contour"
           }
          ],
          "contourcarpet": [
           {
            "colorbar": {
             "outlinewidth": 1,
             "tickcolor": "rgb(36,36,36)",
             "ticks": "outside"
            },
            "type": "contourcarpet"
           }
          ],
          "heatmap": [
           {
            "colorbar": {
             "outlinewidth": 1,
             "tickcolor": "rgb(36,36,36)",
             "ticks": "outside"
            },
            "colorscale": [
             [
              0,
              "#440154"
             ],
             [
              0.1111111111111111,
              "#482878"
             ],
             [
              0.2222222222222222,
              "#3e4989"
             ],
             [
              0.3333333333333333,
              "#31688e"
             ],
             [
              0.4444444444444444,
              "#26828e"
             ],
             [
              0.5555555555555556,
              "#1f9e89"
             ],
             [
              0.6666666666666666,
              "#35b779"
             ],
             [
              0.7777777777777778,
              "#6ece58"
             ],
             [
              0.8888888888888888,
              "#b5de2b"
             ],
             [
              1,
              "#fde725"
             ]
            ],
            "type": "heatmap"
           }
          ],
          "heatmapgl": [
           {
            "colorbar": {
             "outlinewidth": 1,
             "tickcolor": "rgb(36,36,36)",
             "ticks": "outside"
            },
            "colorscale": [
             [
              0,
              "#440154"
             ],
             [
              0.1111111111111111,
              "#482878"
             ],
             [
              0.2222222222222222,
              "#3e4989"
             ],
             [
              0.3333333333333333,
              "#31688e"
             ],
             [
              0.4444444444444444,
              "#26828e"
             ],
             [
              0.5555555555555556,
              "#1f9e89"
             ],
             [
              0.6666666666666666,
              "#35b779"
             ],
             [
              0.7777777777777778,
              "#6ece58"
             ],
             [
              0.8888888888888888,
              "#b5de2b"
             ],
             [
              1,
              "#fde725"
             ]
            ],
            "type": "heatmapgl"
           }
          ],
          "histogram": [
           {
            "marker": {
             "line": {
              "color": "white",
              "width": 0.6
             }
            },
            "type": "histogram"
           }
          ],
          "histogram2d": [
           {
            "colorbar": {
             "outlinewidth": 1,
             "tickcolor": "rgb(36,36,36)",
             "ticks": "outside"
            },
            "colorscale": [
             [
              0,
              "#440154"
             ],
             [
              0.1111111111111111,
              "#482878"
             ],
             [
              0.2222222222222222,
              "#3e4989"
             ],
             [
              0.3333333333333333,
              "#31688e"
             ],
             [
              0.4444444444444444,
              "#26828e"
             ],
             [
              0.5555555555555556,
              "#1f9e89"
             ],
             [
              0.6666666666666666,
              "#35b779"
             ],
             [
              0.7777777777777778,
              "#6ece58"
             ],
             [
              0.8888888888888888,
              "#b5de2b"
             ],
             [
              1,
              "#fde725"
             ]
            ],
            "type": "histogram2d"
           }
          ],
          "histogram2dcontour": [
           {
            "colorbar": {
             "outlinewidth": 1,
             "tickcolor": "rgb(36,36,36)",
             "ticks": "outside"
            },
            "colorscale": [
             [
              0,
              "#440154"
             ],
             [
              0.1111111111111111,
              "#482878"
             ],
             [
              0.2222222222222222,
              "#3e4989"
             ],
             [
              0.3333333333333333,
              "#31688e"
             ],
             [
              0.4444444444444444,
              "#26828e"
             ],
             [
              0.5555555555555556,
              "#1f9e89"
             ],
             [
              0.6666666666666666,
              "#35b779"
             ],
             [
              0.7777777777777778,
              "#6ece58"
             ],
             [
              0.8888888888888888,
              "#b5de2b"
             ],
             [
              1,
              "#fde725"
             ]
            ],
            "type": "histogram2dcontour"
           }
          ],
          "mesh3d": [
           {
            "colorbar": {
             "outlinewidth": 1,
             "tickcolor": "rgb(36,36,36)",
             "ticks": "outside"
            },
            "type": "mesh3d"
           }
          ],
          "parcoords": [
           {
            "line": {
             "colorbar": {
              "outlinewidth": 1,
              "tickcolor": "rgb(36,36,36)",
              "ticks": "outside"
             }
            },
            "type": "parcoords"
           }
          ],
          "pie": [
           {
            "automargin": true,
            "type": "pie"
           }
          ],
          "scatter": [
           {
            "marker": {
             "colorbar": {
              "outlinewidth": 1,
              "tickcolor": "rgb(36,36,36)",
              "ticks": "outside"
             }
            },
            "type": "scatter"
           }
          ],
          "scatter3d": [
           {
            "line": {
             "colorbar": {
              "outlinewidth": 1,
              "tickcolor": "rgb(36,36,36)",
              "ticks": "outside"
             }
            },
            "marker": {
             "colorbar": {
              "outlinewidth": 1,
              "tickcolor": "rgb(36,36,36)",
              "ticks": "outside"
             }
            },
            "type": "scatter3d"
           }
          ],
          "scattercarpet": [
           {
            "marker": {
             "colorbar": {
              "outlinewidth": 1,
              "tickcolor": "rgb(36,36,36)",
              "ticks": "outside"
             }
            },
            "type": "scattercarpet"
           }
          ],
          "scattergeo": [
           {
            "marker": {
             "colorbar": {
              "outlinewidth": 1,
              "tickcolor": "rgb(36,36,36)",
              "ticks": "outside"
             }
            },
            "type": "scattergeo"
           }
          ],
          "scattergl": [
           {
            "marker": {
             "colorbar": {
              "outlinewidth": 1,
              "tickcolor": "rgb(36,36,36)",
              "ticks": "outside"
             }
            },
            "type": "scattergl"
           }
          ],
          "scattermapbox": [
           {
            "marker": {
             "colorbar": {
              "outlinewidth": 1,
              "tickcolor": "rgb(36,36,36)",
              "ticks": "outside"
             }
            },
            "type": "scattermapbox"
           }
          ],
          "scatterpolar": [
           {
            "marker": {
             "colorbar": {
              "outlinewidth": 1,
              "tickcolor": "rgb(36,36,36)",
              "ticks": "outside"
             }
            },
            "type": "scatterpolar"
           }
          ],
          "scatterpolargl": [
           {
            "marker": {
             "colorbar": {
              "outlinewidth": 1,
              "tickcolor": "rgb(36,36,36)",
              "ticks": "outside"
             }
            },
            "type": "scatterpolargl"
           }
          ],
          "scatterternary": [
           {
            "marker": {
             "colorbar": {
              "outlinewidth": 1,
              "tickcolor": "rgb(36,36,36)",
              "ticks": "outside"
             }
            },
            "type": "scatterternary"
           }
          ],
          "surface": [
           {
            "colorbar": {
             "outlinewidth": 1,
             "tickcolor": "rgb(36,36,36)",
             "ticks": "outside"
            },
            "colorscale": [
             [
              0,
              "#440154"
             ],
             [
              0.1111111111111111,
              "#482878"
             ],
             [
              0.2222222222222222,
              "#3e4989"
             ],
             [
              0.3333333333333333,
              "#31688e"
             ],
             [
              0.4444444444444444,
              "#26828e"
             ],
             [
              0.5555555555555556,
              "#1f9e89"
             ],
             [
              0.6666666666666666,
              "#35b779"
             ],
             [
              0.7777777777777778,
              "#6ece58"
             ],
             [
              0.8888888888888888,
              "#b5de2b"
             ],
             [
              1,
              "#fde725"
             ]
            ],
            "type": "surface"
           }
          ],
          "table": [
           {
            "cells": {
             "fill": {
              "color": "rgb(237,237,237)"
             },
             "line": {
              "color": "white"
             }
            },
            "header": {
             "fill": {
              "color": "rgb(217,217,217)"
             },
             "line": {
              "color": "white"
             }
            },
            "type": "table"
           }
          ]
         },
         "layout": {
          "annotationdefaults": {
           "arrowhead": 0,
           "arrowwidth": 1
          },
          "autotypenumbers": "strict",
          "coloraxis": {
           "colorbar": {
            "outlinewidth": 1,
            "tickcolor": "rgb(36,36,36)",
            "ticks": "outside"
           }
          },
          "colorscale": {
           "diverging": [
            [
             0,
             "rgb(103,0,31)"
            ],
            [
             0.1,
             "rgb(178,24,43)"
            ],
            [
             0.2,
             "rgb(214,96,77)"
            ],
            [
             0.3,
             "rgb(244,165,130)"
            ],
            [
             0.4,
             "rgb(253,219,199)"
            ],
            [
             0.5,
             "rgb(247,247,247)"
            ],
            [
             0.6,
             "rgb(209,229,240)"
            ],
            [
             0.7,
             "rgb(146,197,222)"
            ],
            [
             0.8,
             "rgb(67,147,195)"
            ],
            [
             0.9,
             "rgb(33,102,172)"
            ],
            [
             1,
             "rgb(5,48,97)"
            ]
           ],
           "sequential": [
            [
             0,
             "#440154"
            ],
            [
             0.1111111111111111,
             "#482878"
            ],
            [
             0.2222222222222222,
             "#3e4989"
            ],
            [
             0.3333333333333333,
             "#31688e"
            ],
            [
             0.4444444444444444,
             "#26828e"
            ],
            [
             0.5555555555555556,
             "#1f9e89"
            ],
            [
             0.6666666666666666,
             "#35b779"
            ],
            [
             0.7777777777777778,
             "#6ece58"
            ],
            [
             0.8888888888888888,
             "#b5de2b"
            ],
            [
             1,
             "#fde725"
            ]
           ],
           "sequentialminus": [
            [
             0,
             "#440154"
            ],
            [
             0.1111111111111111,
             "#482878"
            ],
            [
             0.2222222222222222,
             "#3e4989"
            ],
            [
             0.3333333333333333,
             "#31688e"
            ],
            [
             0.4444444444444444,
             "#26828e"
            ],
            [
             0.5555555555555556,
             "#1f9e89"
            ],
            [
             0.6666666666666666,
             "#35b779"
            ],
            [
             0.7777777777777778,
             "#6ece58"
            ],
            [
             0.8888888888888888,
             "#b5de2b"
            ],
            [
             1,
             "#fde725"
            ]
           ]
          },
          "colorway": [
           "#1F77B4",
           "#FF7F0E",
           "#2CA02C",
           "#D62728",
           "#9467BD",
           "#8C564B",
           "#E377C2",
           "#7F7F7F",
           "#BCBD22",
           "#17BECF"
          ],
          "font": {
           "color": "rgb(36,36,36)"
          },
          "geo": {
           "bgcolor": "white",
           "lakecolor": "white",
           "landcolor": "white",
           "showlakes": true,
           "showland": true,
           "subunitcolor": "white"
          },
          "hoverlabel": {
           "align": "left"
          },
          "hovermode": "closest",
          "mapbox": {
           "style": "light"
          },
          "paper_bgcolor": "white",
          "plot_bgcolor": "white",
          "polar": {
           "angularaxis": {
            "gridcolor": "rgb(232,232,232)",
            "linecolor": "rgb(36,36,36)",
            "showgrid": false,
            "showline": true,
            "ticks": "outside"
           },
           "bgcolor": "white",
           "radialaxis": {
            "gridcolor": "rgb(232,232,232)",
            "linecolor": "rgb(36,36,36)",
            "showgrid": false,
            "showline": true,
            "ticks": "outside"
           }
          },
          "scene": {
           "xaxis": {
            "backgroundcolor": "white",
            "gridcolor": "rgb(232,232,232)",
            "gridwidth": 2,
            "linecolor": "rgb(36,36,36)",
            "showbackground": true,
            "showgrid": false,
            "showline": true,
            "ticks": "outside",
            "zeroline": false,
            "zerolinecolor": "rgb(36,36,36)"
           },
           "yaxis": {
            "backgroundcolor": "white",
            "gridcolor": "rgb(232,232,232)",
            "gridwidth": 2,
            "linecolor": "rgb(36,36,36)",
            "showbackground": true,
            "showgrid": false,
            "showline": true,
            "ticks": "outside",
            "zeroline": false,
            "zerolinecolor": "rgb(36,36,36)"
           },
           "zaxis": {
            "backgroundcolor": "white",
            "gridcolor": "rgb(232,232,232)",
            "gridwidth": 2,
            "linecolor": "rgb(36,36,36)",
            "showbackground": true,
            "showgrid": false,
            "showline": true,
            "ticks": "outside",
            "zeroline": false,
            "zerolinecolor": "rgb(36,36,36)"
           }
          },
          "shapedefaults": {
           "fillcolor": "black",
           "line": {
            "width": 0
           },
           "opacity": 0.3
          },
          "ternary": {
           "aaxis": {
            "gridcolor": "rgb(232,232,232)",
            "linecolor": "rgb(36,36,36)",
            "showgrid": false,
            "showline": true,
            "ticks": "outside"
           },
           "baxis": {
            "gridcolor": "rgb(232,232,232)",
            "linecolor": "rgb(36,36,36)",
            "showgrid": false,
            "showline": true,
            "ticks": "outside"
           },
           "bgcolor": "white",
           "caxis": {
            "gridcolor": "rgb(232,232,232)",
            "linecolor": "rgb(36,36,36)",
            "showgrid": false,
            "showline": true,
            "ticks": "outside"
           }
          },
          "title": {
           "x": 0.05
          },
          "xaxis": {
           "automargin": true,
           "gridcolor": "rgb(232,232,232)",
           "linecolor": "rgb(36,36,36)",
           "showgrid": false,
           "showline": true,
           "ticks": "outside",
           "title": {
            "standoff": 15
           },
           "zeroline": false,
           "zerolinecolor": "rgb(36,36,36)"
          },
          "yaxis": {
           "automargin": true,
           "gridcolor": "rgb(232,232,232)",
           "linecolor": "rgb(36,36,36)",
           "showgrid": false,
           "showline": true,
           "ticks": "outside",
           "title": {
            "standoff": 15
           },
           "zeroline": false,
           "zerolinecolor": "rgb(36,36,36)"
          }
         }
        },
        "title": {
         "font": {
          "size": 18
         },
         "text": "Previsão dos pontos totais marcados na carreira do Lebron James até os 42 anos",
         "x": 0.5,
         "y": 0.9
        }
       }
      },
      "text/html": [
       "<div>                            <div id=\"ae4d151f-4509-43da-af5a-f4f95166217e\" class=\"plotly-graph-div\" style=\"height:525px; width:100%;\"></div>            <script type=\"text/javascript\">                require([\"plotly\"], function(Plotly) {                    window.PLOTLYENV=window.PLOTLYENV || {};                                    if (document.getElementById(\"ae4d151f-4509-43da-af5a-f4f95166217e\")) {                    Plotly.newPlot(                        \"ae4d151f-4509-43da-af5a-f4f95166217e\",                        [{\"marker\":{\"color\":\"rgb(255, 0, 0)\"},\"mode\":\"lines+markers\",\"name\":\"Observados - Treino\",\"x\":[\"2004-01-01T00:00:00\",\"2005-01-01T00:00:00\",\"2006-01-01T00:00:00\",\"2007-01-01T00:00:00\",\"2008-01-01T00:00:00\",\"2009-01-01T00:00:00\",\"2010-01-01T00:00:00\",\"2011-01-01T00:00:00\",\"2012-01-01T00:00:00\",\"2013-01-01T00:00:00\",\"2014-01-01T00:00:00\",\"2015-01-01T00:00:00\",\"2016-01-01T00:00:00\",\"2017-01-01T00:00:00\",\"2018-01-01T00:00:00\",\"2019-01-01T00:00:00\",\"2020-01-01T00:00:00\",\"2021-01-01T00:00:00\",\"2022-01-01T00:00:00\",\"2023-01-01T00:00:00\"],\"y\":[1654,3829,6307,8439,10689,12993,15251,17362,19045,21081,23170,24913,26833,28787,31038,32543,34241,35367,37062,38390],\"type\":\"scatter\",\"line\":{\"width\":4}},{\"marker\":{\"color\":\"rgb(26, 118, 255)\"},\"mode\":\"lines\",\"name\":\"Preditos\",\"x\":[\"2004-12-31T00:00:00\",\"2005-12-31T00:00:00\",\"2006-12-31T00:00:00\",\"2007-12-31T00:00:00\",\"2008-12-31T00:00:00\",\"2009-12-31T00:00:00\",\"2010-12-31T00:00:00\",\"2011-12-31T00:00:00\",\"2012-12-31T00:00:00\",\"2013-12-31T00:00:00\",\"2014-12-31T00:00:00\",\"2015-12-31T00:00:00\",\"2016-12-31T00:00:00\",\"2017-12-31T00:00:00\",\"2018-12-31T00:00:00\",\"2019-12-31T00:00:00\",\"2020-12-31T00:00:00\",\"2021-12-31T00:00:00\",\"2022-12-31T00:00:00\",\"2023-12-31T00:00:00\",\"2024-12-31T00:00:00\",\"2025-12-31T00:00:00\",\"2026-12-31T00:00:00\",\"2027-12-31T00:00:00\"],\"y\":[3704.515495586764,5689.778097035261,7589.523721130838,9408.611089702845,12766.815308528106,14689.171129465874,16372.206549886247,17851.704256857996,20869.051087664746,22514.381973946718,24074.195866807644,25604.894475406836,28674.708604497846,30372.372394380123,31734.30277201232,32738.448729753116,35278.71729356181,36448.27903741499,37532.323803864245,38535.71031445993,41075.97887832325,42245.540622186636,43329.585388632935,44332.971899197204],\"type\":\"scatter\",\"line\":{\"width\":4}}],                        {\"template\":{\"data\":{\"barpolar\":[{\"marker\":{\"line\":{\"color\":\"white\",\"width\":0.5},\"pattern\":{\"fillmode\":\"overlay\",\"size\":10,\"solidity\":0.2}},\"type\":\"barpolar\"}],\"bar\":[{\"error_x\":{\"color\":\"rgb(36,36,36)\"},\"error_y\":{\"color\":\"rgb(36,36,36)\"},\"marker\":{\"line\":{\"color\":\"white\",\"width\":0.5},\"pattern\":{\"fillmode\":\"overlay\",\"size\":10,\"solidity\":0.2}},\"type\":\"bar\"}],\"carpet\":[{\"aaxis\":{\"endlinecolor\":\"rgb(36,36,36)\",\"gridcolor\":\"white\",\"linecolor\":\"white\",\"minorgridcolor\":\"white\",\"startlinecolor\":\"rgb(36,36,36)\"},\"baxis\":{\"endlinecolor\":\"rgb(36,36,36)\",\"gridcolor\":\"white\",\"linecolor\":\"white\",\"minorgridcolor\":\"white\",\"startlinecolor\":\"rgb(36,36,36)\"},\"type\":\"carpet\"}],\"choropleth\":[{\"colorbar\":{\"outlinewidth\":1,\"tickcolor\":\"rgb(36,36,36)\",\"ticks\":\"outside\"},\"type\":\"choropleth\"}],\"contourcarpet\":[{\"colorbar\":{\"outlinewidth\":1,\"tickcolor\":\"rgb(36,36,36)\",\"ticks\":\"outside\"},\"type\":\"contourcarpet\"}],\"contour\":[{\"colorbar\":{\"outlinewidth\":1,\"tickcolor\":\"rgb(36,36,36)\",\"ticks\":\"outside\"},\"colorscale\":[[0.0,\"#440154\"],[0.1111111111111111,\"#482878\"],[0.2222222222222222,\"#3e4989\"],[0.3333333333333333,\"#31688e\"],[0.4444444444444444,\"#26828e\"],[0.5555555555555556,\"#1f9e89\"],[0.6666666666666666,\"#35b779\"],[0.7777777777777778,\"#6ece58\"],[0.8888888888888888,\"#b5de2b\"],[1.0,\"#fde725\"]],\"type\":\"contour\"}],\"heatmapgl\":[{\"colorbar\":{\"outlinewidth\":1,\"tickcolor\":\"rgb(36,36,36)\",\"ticks\":\"outside\"},\"colorscale\":[[0.0,\"#440154\"],[0.1111111111111111,\"#482878\"],[0.2222222222222222,\"#3e4989\"],[0.3333333333333333,\"#31688e\"],[0.4444444444444444,\"#26828e\"],[0.5555555555555556,\"#1f9e89\"],[0.6666666666666666,\"#35b779\"],[0.7777777777777778,\"#6ece58\"],[0.8888888888888888,\"#b5de2b\"],[1.0,\"#fde725\"]],\"type\":\"heatmapgl\"}],\"heatmap\":[{\"colorbar\":{\"outlinewidth\":1,\"tickcolor\":\"rgb(36,36,36)\",\"ticks\":\"outside\"},\"colorscale\":[[0.0,\"#440154\"],[0.1111111111111111,\"#482878\"],[0.2222222222222222,\"#3e4989\"],[0.3333333333333333,\"#31688e\"],[0.4444444444444444,\"#26828e\"],[0.5555555555555556,\"#1f9e89\"],[0.6666666666666666,\"#35b779\"],[0.7777777777777778,\"#6ece58\"],[0.8888888888888888,\"#b5de2b\"],[1.0,\"#fde725\"]],\"type\":\"heatmap\"}],\"histogram2dcontour\":[{\"colorbar\":{\"outlinewidth\":1,\"tickcolor\":\"rgb(36,36,36)\",\"ticks\":\"outside\"},\"colorscale\":[[0.0,\"#440154\"],[0.1111111111111111,\"#482878\"],[0.2222222222222222,\"#3e4989\"],[0.3333333333333333,\"#31688e\"],[0.4444444444444444,\"#26828e\"],[0.5555555555555556,\"#1f9e89\"],[0.6666666666666666,\"#35b779\"],[0.7777777777777778,\"#6ece58\"],[0.8888888888888888,\"#b5de2b\"],[1.0,\"#fde725\"]],\"type\":\"histogram2dcontour\"}],\"histogram2d\":[{\"colorbar\":{\"outlinewidth\":1,\"tickcolor\":\"rgb(36,36,36)\",\"ticks\":\"outside\"},\"colorscale\":[[0.0,\"#440154\"],[0.1111111111111111,\"#482878\"],[0.2222222222222222,\"#3e4989\"],[0.3333333333333333,\"#31688e\"],[0.4444444444444444,\"#26828e\"],[0.5555555555555556,\"#1f9e89\"],[0.6666666666666666,\"#35b779\"],[0.7777777777777778,\"#6ece58\"],[0.8888888888888888,\"#b5de2b\"],[1.0,\"#fde725\"]],\"type\":\"histogram2d\"}],\"histogram\":[{\"marker\":{\"line\":{\"color\":\"white\",\"width\":0.6}},\"type\":\"histogram\"}],\"mesh3d\":[{\"colorbar\":{\"outlinewidth\":1,\"tickcolor\":\"rgb(36,36,36)\",\"ticks\":\"outside\"},\"type\":\"mesh3d\"}],\"parcoords\":[{\"line\":{\"colorbar\":{\"outlinewidth\":1,\"tickcolor\":\"rgb(36,36,36)\",\"ticks\":\"outside\"}},\"type\":\"parcoords\"}],\"pie\":[{\"automargin\":true,\"type\":\"pie\"}],\"scatter3d\":[{\"line\":{\"colorbar\":{\"outlinewidth\":1,\"tickcolor\":\"rgb(36,36,36)\",\"ticks\":\"outside\"}},\"marker\":{\"colorbar\":{\"outlinewidth\":1,\"tickcolor\":\"rgb(36,36,36)\",\"ticks\":\"outside\"}},\"type\":\"scatter3d\"}],\"scattercarpet\":[{\"marker\":{\"colorbar\":{\"outlinewidth\":1,\"tickcolor\":\"rgb(36,36,36)\",\"ticks\":\"outside\"}},\"type\":\"scattercarpet\"}],\"scattergeo\":[{\"marker\":{\"colorbar\":{\"outlinewidth\":1,\"tickcolor\":\"rgb(36,36,36)\",\"ticks\":\"outside\"}},\"type\":\"scattergeo\"}],\"scattergl\":[{\"marker\":{\"colorbar\":{\"outlinewidth\":1,\"tickcolor\":\"rgb(36,36,36)\",\"ticks\":\"outside\"}},\"type\":\"scattergl\"}],\"scattermapbox\":[{\"marker\":{\"colorbar\":{\"outlinewidth\":1,\"tickcolor\":\"rgb(36,36,36)\",\"ticks\":\"outside\"}},\"type\":\"scattermapbox\"}],\"scatterpolargl\":[{\"marker\":{\"colorbar\":{\"outlinewidth\":1,\"tickcolor\":\"rgb(36,36,36)\",\"ticks\":\"outside\"}},\"type\":\"scatterpolargl\"}],\"scatterpolar\":[{\"marker\":{\"colorbar\":{\"outlinewidth\":1,\"tickcolor\":\"rgb(36,36,36)\",\"ticks\":\"outside\"}},\"type\":\"scatterpolar\"}],\"scatter\":[{\"marker\":{\"colorbar\":{\"outlinewidth\":1,\"tickcolor\":\"rgb(36,36,36)\",\"ticks\":\"outside\"}},\"type\":\"scatter\"}],\"scatterternary\":[{\"marker\":{\"colorbar\":{\"outlinewidth\":1,\"tickcolor\":\"rgb(36,36,36)\",\"ticks\":\"outside\"}},\"type\":\"scatterternary\"}],\"surface\":[{\"colorbar\":{\"outlinewidth\":1,\"tickcolor\":\"rgb(36,36,36)\",\"ticks\":\"outside\"},\"colorscale\":[[0.0,\"#440154\"],[0.1111111111111111,\"#482878\"],[0.2222222222222222,\"#3e4989\"],[0.3333333333333333,\"#31688e\"],[0.4444444444444444,\"#26828e\"],[0.5555555555555556,\"#1f9e89\"],[0.6666666666666666,\"#35b779\"],[0.7777777777777778,\"#6ece58\"],[0.8888888888888888,\"#b5de2b\"],[1.0,\"#fde725\"]],\"type\":\"surface\"}],\"table\":[{\"cells\":{\"fill\":{\"color\":\"rgb(237,237,237)\"},\"line\":{\"color\":\"white\"}},\"header\":{\"fill\":{\"color\":\"rgb(217,217,217)\"},\"line\":{\"color\":\"white\"}},\"type\":\"table\"}]},\"layout\":{\"annotationdefaults\":{\"arrowhead\":0,\"arrowwidth\":1},\"autotypenumbers\":\"strict\",\"coloraxis\":{\"colorbar\":{\"outlinewidth\":1,\"tickcolor\":\"rgb(36,36,36)\",\"ticks\":\"outside\"}},\"colorscale\":{\"diverging\":[[0.0,\"rgb(103,0,31)\"],[0.1,\"rgb(178,24,43)\"],[0.2,\"rgb(214,96,77)\"],[0.3,\"rgb(244,165,130)\"],[0.4,\"rgb(253,219,199)\"],[0.5,\"rgb(247,247,247)\"],[0.6,\"rgb(209,229,240)\"],[0.7,\"rgb(146,197,222)\"],[0.8,\"rgb(67,147,195)\"],[0.9,\"rgb(33,102,172)\"],[1.0,\"rgb(5,48,97)\"]],\"sequential\":[[0.0,\"#440154\"],[0.1111111111111111,\"#482878\"],[0.2222222222222222,\"#3e4989\"],[0.3333333333333333,\"#31688e\"],[0.4444444444444444,\"#26828e\"],[0.5555555555555556,\"#1f9e89\"],[0.6666666666666666,\"#35b779\"],[0.7777777777777778,\"#6ece58\"],[0.8888888888888888,\"#b5de2b\"],[1.0,\"#fde725\"]],\"sequentialminus\":[[0.0,\"#440154\"],[0.1111111111111111,\"#482878\"],[0.2222222222222222,\"#3e4989\"],[0.3333333333333333,\"#31688e\"],[0.4444444444444444,\"#26828e\"],[0.5555555555555556,\"#1f9e89\"],[0.6666666666666666,\"#35b779\"],[0.7777777777777778,\"#6ece58\"],[0.8888888888888888,\"#b5de2b\"],[1.0,\"#fde725\"]]},\"colorway\":[\"#1F77B4\",\"#FF7F0E\",\"#2CA02C\",\"#D62728\",\"#9467BD\",\"#8C564B\",\"#E377C2\",\"#7F7F7F\",\"#BCBD22\",\"#17BECF\"],\"font\":{\"color\":\"rgb(36,36,36)\"},\"geo\":{\"bgcolor\":\"white\",\"lakecolor\":\"white\",\"landcolor\":\"white\",\"showlakes\":true,\"showland\":true,\"subunitcolor\":\"white\"},\"hoverlabel\":{\"align\":\"left\"},\"hovermode\":\"closest\",\"mapbox\":{\"style\":\"light\"},\"paper_bgcolor\":\"white\",\"plot_bgcolor\":\"white\",\"polar\":{\"angularaxis\":{\"gridcolor\":\"rgb(232,232,232)\",\"linecolor\":\"rgb(36,36,36)\",\"showgrid\":false,\"showline\":true,\"ticks\":\"outside\"},\"bgcolor\":\"white\",\"radialaxis\":{\"gridcolor\":\"rgb(232,232,232)\",\"linecolor\":\"rgb(36,36,36)\",\"showgrid\":false,\"showline\":true,\"ticks\":\"outside\"}},\"scene\":{\"xaxis\":{\"backgroundcolor\":\"white\",\"gridcolor\":\"rgb(232,232,232)\",\"gridwidth\":2,\"linecolor\":\"rgb(36,36,36)\",\"showbackground\":true,\"showgrid\":false,\"showline\":true,\"ticks\":\"outside\",\"zeroline\":false,\"zerolinecolor\":\"rgb(36,36,36)\"},\"yaxis\":{\"backgroundcolor\":\"white\",\"gridcolor\":\"rgb(232,232,232)\",\"gridwidth\":2,\"linecolor\":\"rgb(36,36,36)\",\"showbackground\":true,\"showgrid\":false,\"showline\":true,\"ticks\":\"outside\",\"zeroline\":false,\"zerolinecolor\":\"rgb(36,36,36)\"},\"zaxis\":{\"backgroundcolor\":\"white\",\"gridcolor\":\"rgb(232,232,232)\",\"gridwidth\":2,\"linecolor\":\"rgb(36,36,36)\",\"showbackground\":true,\"showgrid\":false,\"showline\":true,\"ticks\":\"outside\",\"zeroline\":false,\"zerolinecolor\":\"rgb(36,36,36)\"}},\"shapedefaults\":{\"fillcolor\":\"black\",\"line\":{\"width\":0},\"opacity\":0.3},\"ternary\":{\"aaxis\":{\"gridcolor\":\"rgb(232,232,232)\",\"linecolor\":\"rgb(36,36,36)\",\"showgrid\":false,\"showline\":true,\"ticks\":\"outside\"},\"baxis\":{\"gridcolor\":\"rgb(232,232,232)\",\"linecolor\":\"rgb(36,36,36)\",\"showgrid\":false,\"showline\":true,\"ticks\":\"outside\"},\"bgcolor\":\"white\",\"caxis\":{\"gridcolor\":\"rgb(232,232,232)\",\"linecolor\":\"rgb(36,36,36)\",\"showgrid\":false,\"showline\":true,\"ticks\":\"outside\"}},\"title\":{\"x\":0.05},\"xaxis\":{\"automargin\":true,\"gridcolor\":\"rgb(232,232,232)\",\"linecolor\":\"rgb(36,36,36)\",\"showgrid\":false,\"showline\":true,\"ticks\":\"outside\",\"title\":{\"standoff\":15},\"zeroline\":false,\"zerolinecolor\":\"rgb(36,36,36)\"},\"yaxis\":{\"automargin\":true,\"gridcolor\":\"rgb(232,232,232)\",\"linecolor\":\"rgb(36,36,36)\",\"showgrid\":false,\"showline\":true,\"ticks\":\"outside\",\"title\":{\"standoff\":15},\"zeroline\":false,\"zerolinecolor\":\"rgb(36,36,36)\"}}},\"title\":{\"font\":{\"size\":18},\"text\":\"Previs\\u00e3o dos pontos totais marcados na carreira do Lebron James at\\u00e9 os 42 anos\",\"x\":0.5,\"y\":0.9}},                        {\"responsive\": true}                    ).then(function(){\n",
       "                            \n",
       "var gd = document.getElementById('ae4d151f-4509-43da-af5a-f4f95166217e');\n",
       "var x = new MutationObserver(function (mutations, observer) {{\n",
       "        var display = window.getComputedStyle(gd).display;\n",
       "        if (!display || display === 'none') {{\n",
       "            console.log([gd, 'removed!']);\n",
       "            Plotly.purge(gd);\n",
       "            observer.disconnect();\n",
       "        }}\n",
       "}});\n",
       "\n",
       "// Listen for the removal of the full notebook cells\n",
       "var notebookContainer = gd.closest('#notebook-container');\n",
       "if (notebookContainer) {{\n",
       "    x.observe(notebookContainer, {childList: true});\n",
       "}}\n",
       "\n",
       "// Listen for the clearing of the current output cell\n",
       "var outputEl = gd.closest('.output');\n",
       "if (outputEl) {{\n",
       "    x.observe(outputEl, {childList: true});\n",
       "}}\n",
       "\n",
       "                        })                };                });            </script>        </div>"
      ]
     },
     "metadata": {},
     "output_type": "display_data"
    }
   ],
   "source": [
    "# Plotando Gráfico\n",
    "fig = go.Figure ()\n",
    "\n",
    "fig.add_trace (go.Scatter(\n",
    "    x = train.ds,\n",
    "    y = train.y,\n",
    "    marker_color='rgb(255, 0, 0)',\n",
    "    mode='lines+markers',\n",
    "    name = 'Observados - Treino'\n",
    "))\n",
    "\n",
    "fig.add_trace (go.Scatter(\n",
    "    x = forecast.ds,\n",
    "    y = forecast.yhat,\n",
    "    mode='lines',\n",
    "    marker_color= 'rgb(26, 118, 255)',\n",
    "    name = 'Preditos'\n",
    "))\n",
    "\n",
    "fig.update_layout (title={\n",
    "    'text': \"Previsão dos pontos totais marcados na carreira do Lebron James até os 42 anos\",\n",
    "    'font': {'size': 18},\n",
    "    'x': 0.5,\n",
    "    'y': 0.9\n",
    "},\n",
    "  template=\"simple_white\"\n",
    ")\n",
    "\n",
    "fig.update_traces(line=dict(width=4))\n",
    "\n",
    "fig.show()"
   ]
  },
  {
   "cell_type": "code",
   "execution_count": 693,
   "id": "94d74126",
   "metadata": {},
   "outputs": [
    {
     "data": {
      "text/html": [
       "<div>\n",
       "<style scoped>\n",
       "    .dataframe tbody tr th:only-of-type {\n",
       "        vertical-align: middle;\n",
       "    }\n",
       "\n",
       "    .dataframe tbody tr th {\n",
       "        vertical-align: top;\n",
       "    }\n",
       "\n",
       "    .dataframe thead th {\n",
       "        text-align: right;\n",
       "    }\n",
       "</style>\n",
       "<table border=\"1\" class=\"dataframe\">\n",
       "  <thead>\n",
       "    <tr style=\"text-align: right;\">\n",
       "      <th></th>\n",
       "      <th>ds</th>\n",
       "      <th>trend</th>\n",
       "      <th>yhat_lower</th>\n",
       "      <th>yhat_upper</th>\n",
       "      <th>trend_lower</th>\n",
       "      <th>trend_upper</th>\n",
       "      <th>additive_terms</th>\n",
       "      <th>additive_terms_lower</th>\n",
       "      <th>additive_terms_upper</th>\n",
       "      <th>yearly</th>\n",
       "      <th>yearly_lower</th>\n",
       "      <th>yearly_upper</th>\n",
       "      <th>multiplicative_terms</th>\n",
       "      <th>multiplicative_terms_lower</th>\n",
       "      <th>multiplicative_terms_upper</th>\n",
       "      <th>yhat</th>\n",
       "    </tr>\n",
       "  </thead>\n",
       "  <tbody>\n",
       "    <tr>\n",
       "      <th>19</th>\n",
       "      <td>2023-12-31</td>\n",
       "      <td>33558.276151</td>\n",
       "      <td>38410.961393</td>\n",
       "      <td>38656.394454</td>\n",
       "      <td>33515.064804</td>\n",
       "      <td>33596.775771</td>\n",
       "      <td>4977.434164</td>\n",
       "      <td>4977.434164</td>\n",
       "      <td>4977.434164</td>\n",
       "      <td>4977.434164</td>\n",
       "      <td>4977.434164</td>\n",
       "      <td>4977.434164</td>\n",
       "      <td>0.0</td>\n",
       "      <td>0.0</td>\n",
       "      <td>0.0</td>\n",
       "      <td>38535.710314</td>\n",
       "    </tr>\n",
       "    <tr>\n",
       "      <th>20</th>\n",
       "      <td>2024-12-31</td>\n",
       "      <td>35010.567554</td>\n",
       "      <td>40885.815148</td>\n",
       "      <td>41244.782427</td>\n",
       "      <td>34867.067397</td>\n",
       "      <td>35138.291228</td>\n",
       "      <td>6065.411325</td>\n",
       "      <td>6065.411325</td>\n",
       "      <td>6065.411325</td>\n",
       "      <td>6065.411325</td>\n",
       "      <td>6065.411325</td>\n",
       "      <td>6065.411325</td>\n",
       "      <td>0.0</td>\n",
       "      <td>0.0</td>\n",
       "      <td>0.0</td>\n",
       "      <td>41075.978878</td>\n",
       "    </tr>\n",
       "    <tr>\n",
       "      <th>21</th>\n",
       "      <td>2025-12-31</td>\n",
       "      <td>36458.890948</td>\n",
       "      <td>41948.478286</td>\n",
       "      <td>42521.965317</td>\n",
       "      <td>36179.693165</td>\n",
       "      <td>36731.452433</td>\n",
       "      <td>5786.649675</td>\n",
       "      <td>5786.649675</td>\n",
       "      <td>5786.649675</td>\n",
       "      <td>5786.649675</td>\n",
       "      <td>5786.649675</td>\n",
       "      <td>5786.649675</td>\n",
       "      <td>0.0</td>\n",
       "      <td>0.0</td>\n",
       "      <td>0.0</td>\n",
       "      <td>42245.540622</td>\n",
       "    </tr>\n",
       "    <tr>\n",
       "      <th>22</th>\n",
       "      <td>2026-12-31</td>\n",
       "      <td>37907.214341</td>\n",
       "      <td>42871.215353</td>\n",
       "      <td>43777.277224</td>\n",
       "      <td>37460.766678</td>\n",
       "      <td>38354.109966</td>\n",
       "      <td>5422.371047</td>\n",
       "      <td>5422.371047</td>\n",
       "      <td>5422.371047</td>\n",
       "      <td>5422.371047</td>\n",
       "      <td>5422.371047</td>\n",
       "      <td>5422.371047</td>\n",
       "      <td>0.0</td>\n",
       "      <td>0.0</td>\n",
       "      <td>0.0</td>\n",
       "      <td>43329.585389</td>\n",
       "    </tr>\n",
       "    <tr>\n",
       "      <th>23</th>\n",
       "      <td>2027-12-31</td>\n",
       "      <td>39355.537735</td>\n",
       "      <td>43655.930846</td>\n",
       "      <td>44936.227194</td>\n",
       "      <td>38726.680998</td>\n",
       "      <td>39984.471094</td>\n",
       "      <td>4977.434164</td>\n",
       "      <td>4977.434164</td>\n",
       "      <td>4977.434164</td>\n",
       "      <td>4977.434164</td>\n",
       "      <td>4977.434164</td>\n",
       "      <td>4977.434164</td>\n",
       "      <td>0.0</td>\n",
       "      <td>0.0</td>\n",
       "      <td>0.0</td>\n",
       "      <td>44332.971899</td>\n",
       "    </tr>\n",
       "  </tbody>\n",
       "</table>\n",
       "</div>"
      ],
      "text/plain": [
       "           ds         trend    yhat_lower    yhat_upper   trend_lower  \\\n",
       "19 2023-12-31  33558.276151  38410.961393  38656.394454  33515.064804   \n",
       "20 2024-12-31  35010.567554  40885.815148  41244.782427  34867.067397   \n",
       "21 2025-12-31  36458.890948  41948.478286  42521.965317  36179.693165   \n",
       "22 2026-12-31  37907.214341  42871.215353  43777.277224  37460.766678   \n",
       "23 2027-12-31  39355.537735  43655.930846  44936.227194  38726.680998   \n",
       "\n",
       "     trend_upper  additive_terms  additive_terms_lower  additive_terms_upper  \\\n",
       "19  33596.775771     4977.434164           4977.434164           4977.434164   \n",
       "20  35138.291228     6065.411325           6065.411325           6065.411325   \n",
       "21  36731.452433     5786.649675           5786.649675           5786.649675   \n",
       "22  38354.109966     5422.371047           5422.371047           5422.371047   \n",
       "23  39984.471094     4977.434164           4977.434164           4977.434164   \n",
       "\n",
       "         yearly  yearly_lower  yearly_upper  multiplicative_terms  \\\n",
       "19  4977.434164   4977.434164   4977.434164                   0.0   \n",
       "20  6065.411325   6065.411325   6065.411325                   0.0   \n",
       "21  5786.649675   5786.649675   5786.649675                   0.0   \n",
       "22  5422.371047   5422.371047   5422.371047                   0.0   \n",
       "23  4977.434164   4977.434164   4977.434164                   0.0   \n",
       "\n",
       "    multiplicative_terms_lower  multiplicative_terms_upper          yhat  \n",
       "19                         0.0                         0.0  38535.710314  \n",
       "20                         0.0                         0.0  41075.978878  \n",
       "21                         0.0                         0.0  42245.540622  \n",
       "22                         0.0                         0.0  43329.585389  \n",
       "23                         0.0                         0.0  44332.971899  "
      ]
     },
     "execution_count": 693,
     "metadata": {},
     "output_type": "execute_result"
    }
   ],
   "source": [
    "forecast.tail()"
   ]
  },
  {
   "cell_type": "raw",
   "id": "a023a831",
   "metadata": {},
   "source": [
    "Explicando as colunas:\n",
    "\n",
    "trend: é a tendência geral da série temporal, representada por uma linha reta que indica a direção geral dos dados.\n",
    "\n",
    "yhat_lower e yhat_upper: são os limites inferiores e superiores da previsão, respectivamente, que indicam a faixa de incerteza para a previsão.\n",
    "\n",
    "trend_lower e trend_upper: são os limites inferiores e superiores para a tendência.\n",
    "\n",
    "additive_terms: são os efeitos adicionais que não são explicados pela tendência geral da série temporal, como feriados, sazonalidade ou outros efeitos sazonais.\n",
    "\n",
    "additive_terms_lower e additive_terms_upper: são os limites inferiores e superiores para o efeito aditivo.\n",
    "\n",
    "yearly, yearly_lower e yearly_upper: representam a variação anual da série temporal, incluindo as sazonalidades anuais. O componente yearly é a soma de todos os efeitos sazonais anuais, enquanto yearly_lower e yearly_upper são os limites inferiores e superiores, respectivamente.\n",
    "\n",
    "multiplicative_terms, multiplicative_terms_lower e multiplicative_terms_upper: são os componentes multiplicativos que afetam a série temporal.\n",
    "\n",
    "yhat: é a previsão geral da série temporal, que é a soma da tendência e dos efeitos adicionais, incluindo os efeitos sazonais e multiplicativos."
   ]
  },
  {
   "cell_type": "markdown",
   "id": "f666ab0a",
   "metadata": {},
   "source": [
    "## Criando um novo comparativo, agora usando os dados preditos de Lebron James vs Dados de Kareem Abdul-Jabbar"
   ]
  },
  {
   "cell_type": "code",
   "execution_count": 696,
   "id": "5fbc523b",
   "metadata": {},
   "outputs": [
    {
     "name": "stderr",
     "output_type": "stream",
     "text": [
      "/var/folders/0b/zzlpl1l13m91pfjlzdcztzg80000gn/T/ipykernel_883/2445629851.py:3: SettingWithCopyWarning:\n",
      "\n",
      "\n",
      "A value is trying to be set on a copy of a slice from a DataFrame.\n",
      "Try using .loc[row_indexer,col_indexer] = value instead\n",
      "\n",
      "See the caveats in the documentation: https://pandas.pydata.org/pandas-docs/stable/user_guide/indexing.html#returning-a-view-versus-a-copy\n",
      "\n",
      "/var/folders/0b/zzlpl1l13m91pfjlzdcztzg80000gn/T/ipykernel_883/2445629851.py:4: SettingWithCopyWarning:\n",
      "\n",
      "\n",
      "A value is trying to be set on a copy of a slice from a DataFrame.\n",
      "Try using .loc[row_indexer,col_indexer] = value instead\n",
      "\n",
      "See the caveats in the documentation: https://pandas.pydata.org/pandas-docs/stable/user_guide/indexing.html#returning-a-view-versus-a-copy\n",
      "\n"
     ]
    },
    {
     "data": {
      "text/html": [
       "<div>\n",
       "<style scoped>\n",
       "    .dataframe tbody tr th:only-of-type {\n",
       "        vertical-align: middle;\n",
       "    }\n",
       "\n",
       "    .dataframe tbody tr th {\n",
       "        vertical-align: top;\n",
       "    }\n",
       "\n",
       "    .dataframe thead th {\n",
       "        text-align: right;\n",
       "    }\n",
       "</style>\n",
       "<table border=\"1\" class=\"dataframe\">\n",
       "  <thead>\n",
       "    <tr style=\"text-align: right;\">\n",
       "      <th></th>\n",
       "      <th>ds</th>\n",
       "      <th>yhat</th>\n",
       "      <th>age</th>\n",
       "    </tr>\n",
       "  </thead>\n",
       "  <tbody>\n",
       "    <tr>\n",
       "      <th>0</th>\n",
       "      <td>2004-12-31</td>\n",
       "      <td>3704</td>\n",
       "      <td>19</td>\n",
       "    </tr>\n",
       "    <tr>\n",
       "      <th>1</th>\n",
       "      <td>2005-12-31</td>\n",
       "      <td>5689</td>\n",
       "      <td>20</td>\n",
       "    </tr>\n",
       "    <tr>\n",
       "      <th>2</th>\n",
       "      <td>2006-12-31</td>\n",
       "      <td>7589</td>\n",
       "      <td>21</td>\n",
       "    </tr>\n",
       "    <tr>\n",
       "      <th>3</th>\n",
       "      <td>2007-12-31</td>\n",
       "      <td>9408</td>\n",
       "      <td>22</td>\n",
       "    </tr>\n",
       "    <tr>\n",
       "      <th>4</th>\n",
       "      <td>2008-12-31</td>\n",
       "      <td>12766</td>\n",
       "      <td>23</td>\n",
       "    </tr>\n",
       "    <tr>\n",
       "      <th>5</th>\n",
       "      <td>2009-12-31</td>\n",
       "      <td>14689</td>\n",
       "      <td>24</td>\n",
       "    </tr>\n",
       "    <tr>\n",
       "      <th>6</th>\n",
       "      <td>2010-12-31</td>\n",
       "      <td>16372</td>\n",
       "      <td>25</td>\n",
       "    </tr>\n",
       "    <tr>\n",
       "      <th>7</th>\n",
       "      <td>2011-12-31</td>\n",
       "      <td>17851</td>\n",
       "      <td>26</td>\n",
       "    </tr>\n",
       "    <tr>\n",
       "      <th>8</th>\n",
       "      <td>2012-12-31</td>\n",
       "      <td>20869</td>\n",
       "      <td>27</td>\n",
       "    </tr>\n",
       "    <tr>\n",
       "      <th>9</th>\n",
       "      <td>2013-12-31</td>\n",
       "      <td>22514</td>\n",
       "      <td>28</td>\n",
       "    </tr>\n",
       "    <tr>\n",
       "      <th>10</th>\n",
       "      <td>2014-12-31</td>\n",
       "      <td>24074</td>\n",
       "      <td>29</td>\n",
       "    </tr>\n",
       "    <tr>\n",
       "      <th>11</th>\n",
       "      <td>2015-12-31</td>\n",
       "      <td>25604</td>\n",
       "      <td>30</td>\n",
       "    </tr>\n",
       "    <tr>\n",
       "      <th>12</th>\n",
       "      <td>2016-12-31</td>\n",
       "      <td>28674</td>\n",
       "      <td>31</td>\n",
       "    </tr>\n",
       "    <tr>\n",
       "      <th>13</th>\n",
       "      <td>2017-12-31</td>\n",
       "      <td>30372</td>\n",
       "      <td>32</td>\n",
       "    </tr>\n",
       "    <tr>\n",
       "      <th>14</th>\n",
       "      <td>2018-12-31</td>\n",
       "      <td>31734</td>\n",
       "      <td>33</td>\n",
       "    </tr>\n",
       "    <tr>\n",
       "      <th>15</th>\n",
       "      <td>2019-12-31</td>\n",
       "      <td>32738</td>\n",
       "      <td>34</td>\n",
       "    </tr>\n",
       "    <tr>\n",
       "      <th>16</th>\n",
       "      <td>2020-12-31</td>\n",
       "      <td>35278</td>\n",
       "      <td>35</td>\n",
       "    </tr>\n",
       "    <tr>\n",
       "      <th>17</th>\n",
       "      <td>2021-12-31</td>\n",
       "      <td>36448</td>\n",
       "      <td>36</td>\n",
       "    </tr>\n",
       "    <tr>\n",
       "      <th>18</th>\n",
       "      <td>2022-12-31</td>\n",
       "      <td>37532</td>\n",
       "      <td>37</td>\n",
       "    </tr>\n",
       "    <tr>\n",
       "      <th>19</th>\n",
       "      <td>2023-12-31</td>\n",
       "      <td>38535</td>\n",
       "      <td>38</td>\n",
       "    </tr>\n",
       "    <tr>\n",
       "      <th>20</th>\n",
       "      <td>2024-12-31</td>\n",
       "      <td>41075</td>\n",
       "      <td>39</td>\n",
       "    </tr>\n",
       "    <tr>\n",
       "      <th>21</th>\n",
       "      <td>2025-12-31</td>\n",
       "      <td>42245</td>\n",
       "      <td>40</td>\n",
       "    </tr>\n",
       "    <tr>\n",
       "      <th>22</th>\n",
       "      <td>2026-12-31</td>\n",
       "      <td>43329</td>\n",
       "      <td>41</td>\n",
       "    </tr>\n",
       "    <tr>\n",
       "      <th>23</th>\n",
       "      <td>2027-12-31</td>\n",
       "      <td>44332</td>\n",
       "      <td>42</td>\n",
       "    </tr>\n",
       "  </tbody>\n",
       "</table>\n",
       "</div>"
      ],
      "text/plain": [
       "           ds   yhat  age\n",
       "0  2004-12-31   3704   19\n",
       "1  2005-12-31   5689   20\n",
       "2  2006-12-31   7589   21\n",
       "3  2007-12-31   9408   22\n",
       "4  2008-12-31  12766   23\n",
       "5  2009-12-31  14689   24\n",
       "6  2010-12-31  16372   25\n",
       "7  2011-12-31  17851   26\n",
       "8  2012-12-31  20869   27\n",
       "9  2013-12-31  22514   28\n",
       "10 2014-12-31  24074   29\n",
       "11 2015-12-31  25604   30\n",
       "12 2016-12-31  28674   31\n",
       "13 2017-12-31  30372   32\n",
       "14 2018-12-31  31734   33\n",
       "15 2019-12-31  32738   34\n",
       "16 2020-12-31  35278   35\n",
       "17 2021-12-31  36448   36\n",
       "18 2022-12-31  37532   37\n",
       "19 2023-12-31  38535   38\n",
       "20 2024-12-31  41075   39\n",
       "21 2025-12-31  42245   40\n",
       "22 2026-12-31  43329   41\n",
       "23 2027-12-31  44332   42"
      ]
     },
     "execution_count": 696,
     "metadata": {},
     "output_type": "execute_result"
    }
   ],
   "source": [
    "idades = list(range(19, 43)) # Criando um range para criar uma coluna de idade\n",
    "lebron_predito = forecast[['ds','yhat']]\n",
    "lebron_predito ['yhat'] = lebron_predito['yhat'].astype(int) # Passando o valor de float para int\n",
    "lebron_predito ['age'] = idades # Criando coluna idade e passando a lista de 19 a 43\n",
    "lebron_predito"
   ]
  },
  {
   "cell_type": "code",
   "execution_count": 720,
   "id": "1686db9e",
   "metadata": {},
   "outputs": [
    {
     "data": {
      "application/vnd.plotly.v1+json": {
       "config": {
        "plotlyServerURL": "https://plot.ly"
       },
       "data": [
        {
         "marker": {
          "color": "rgb(55, 83, 109)"
         },
         "name": "Kareem Abdul-Jabbar",
         "type": "bar",
         "x": [
          23,
          24,
          25,
          26,
          27,
          28,
          29,
          30,
          31,
          32,
          33,
          34,
          35,
          36,
          37,
          38,
          39,
          40,
          41,
          42
         ],
         "y": [
          2361,
          4957,
          7779,
          10071,
          12262,
          14211,
          16486,
          18638,
          20238,
          22141,
          24175,
          26270,
          28088,
          29810,
          31527,
          33262,
          35108,
          36474,
          37639,
          38387
         ]
        },
        {
         "marker": {
          "color": "rgb(26, 118, 255)"
         },
         "name": "Lebron James",
         "type": "bar",
         "x": [
          19,
          20,
          21,
          22,
          23,
          24,
          25,
          26,
          27,
          28,
          29,
          30,
          31,
          32,
          33,
          34,
          35,
          36,
          37,
          38,
          39,
          40,
          41,
          42
         ],
         "y": [
          3704,
          5689,
          7589,
          9408,
          12766,
          14689,
          16372,
          17851,
          20869,
          22514,
          24074,
          25604,
          28674,
          30372,
          31734,
          32738,
          35278,
          36448,
          37532,
          38535,
          41075,
          42245,
          43329,
          44332
         ]
        }
       ],
       "layout": {
        "bargap": 0.15,
        "bargroupgap": 0.1,
        "barmode": "group",
        "legend": {
         "bgcolor": "rgba(255, 255, 255, 0)",
         "bordercolor": "rgba(255, 255, 255, 0)",
         "x": 0,
         "y": 1
        },
        "template": {
         "data": {
          "bar": [
           {
            "error_x": {
             "color": "#2a3f5f"
            },
            "error_y": {
             "color": "#2a3f5f"
            },
            "marker": {
             "line": {
              "color": "#E5ECF6",
              "width": 0.5
             },
             "pattern": {
              "fillmode": "overlay",
              "size": 10,
              "solidity": 0.2
             }
            },
            "type": "bar"
           }
          ],
          "barpolar": [
           {
            "marker": {
             "line": {
              "color": "#E5ECF6",
              "width": 0.5
             },
             "pattern": {
              "fillmode": "overlay",
              "size": 10,
              "solidity": 0.2
             }
            },
            "type": "barpolar"
           }
          ],
          "carpet": [
           {
            "aaxis": {
             "endlinecolor": "#2a3f5f",
             "gridcolor": "white",
             "linecolor": "white",
             "minorgridcolor": "white",
             "startlinecolor": "#2a3f5f"
            },
            "baxis": {
             "endlinecolor": "#2a3f5f",
             "gridcolor": "white",
             "linecolor": "white",
             "minorgridcolor": "white",
             "startlinecolor": "#2a3f5f"
            },
            "type": "carpet"
           }
          ],
          "choropleth": [
           {
            "colorbar": {
             "outlinewidth": 0,
             "ticks": ""
            },
            "type": "choropleth"
           }
          ],
          "contour": [
           {
            "colorbar": {
             "outlinewidth": 0,
             "ticks": ""
            },
            "colorscale": [
             [
              0,
              "#0d0887"
             ],
             [
              0.1111111111111111,
              "#46039f"
             ],
             [
              0.2222222222222222,
              "#7201a8"
             ],
             [
              0.3333333333333333,
              "#9c179e"
             ],
             [
              0.4444444444444444,
              "#bd3786"
             ],
             [
              0.5555555555555556,
              "#d8576b"
             ],
             [
              0.6666666666666666,
              "#ed7953"
             ],
             [
              0.7777777777777778,
              "#fb9f3a"
             ],
             [
              0.8888888888888888,
              "#fdca26"
             ],
             [
              1,
              "#f0f921"
             ]
            ],
            "type": "contour"
           }
          ],
          "contourcarpet": [
           {
            "colorbar": {
             "outlinewidth": 0,
             "ticks": ""
            },
            "type": "contourcarpet"
           }
          ],
          "heatmap": [
           {
            "colorbar": {
             "outlinewidth": 0,
             "ticks": ""
            },
            "colorscale": [
             [
              0,
              "#0d0887"
             ],
             [
              0.1111111111111111,
              "#46039f"
             ],
             [
              0.2222222222222222,
              "#7201a8"
             ],
             [
              0.3333333333333333,
              "#9c179e"
             ],
             [
              0.4444444444444444,
              "#bd3786"
             ],
             [
              0.5555555555555556,
              "#d8576b"
             ],
             [
              0.6666666666666666,
              "#ed7953"
             ],
             [
              0.7777777777777778,
              "#fb9f3a"
             ],
             [
              0.8888888888888888,
              "#fdca26"
             ],
             [
              1,
              "#f0f921"
             ]
            ],
            "type": "heatmap"
           }
          ],
          "heatmapgl": [
           {
            "colorbar": {
             "outlinewidth": 0,
             "ticks": ""
            },
            "colorscale": [
             [
              0,
              "#0d0887"
             ],
             [
              0.1111111111111111,
              "#46039f"
             ],
             [
              0.2222222222222222,
              "#7201a8"
             ],
             [
              0.3333333333333333,
              "#9c179e"
             ],
             [
              0.4444444444444444,
              "#bd3786"
             ],
             [
              0.5555555555555556,
              "#d8576b"
             ],
             [
              0.6666666666666666,
              "#ed7953"
             ],
             [
              0.7777777777777778,
              "#fb9f3a"
             ],
             [
              0.8888888888888888,
              "#fdca26"
             ],
             [
              1,
              "#f0f921"
             ]
            ],
            "type": "heatmapgl"
           }
          ],
          "histogram": [
           {
            "marker": {
             "pattern": {
              "fillmode": "overlay",
              "size": 10,
              "solidity": 0.2
             }
            },
            "type": "histogram"
           }
          ],
          "histogram2d": [
           {
            "colorbar": {
             "outlinewidth": 0,
             "ticks": ""
            },
            "colorscale": [
             [
              0,
              "#0d0887"
             ],
             [
              0.1111111111111111,
              "#46039f"
             ],
             [
              0.2222222222222222,
              "#7201a8"
             ],
             [
              0.3333333333333333,
              "#9c179e"
             ],
             [
              0.4444444444444444,
              "#bd3786"
             ],
             [
              0.5555555555555556,
              "#d8576b"
             ],
             [
              0.6666666666666666,
              "#ed7953"
             ],
             [
              0.7777777777777778,
              "#fb9f3a"
             ],
             [
              0.8888888888888888,
              "#fdca26"
             ],
             [
              1,
              "#f0f921"
             ]
            ],
            "type": "histogram2d"
           }
          ],
          "histogram2dcontour": [
           {
            "colorbar": {
             "outlinewidth": 0,
             "ticks": ""
            },
            "colorscale": [
             [
              0,
              "#0d0887"
             ],
             [
              0.1111111111111111,
              "#46039f"
             ],
             [
              0.2222222222222222,
              "#7201a8"
             ],
             [
              0.3333333333333333,
              "#9c179e"
             ],
             [
              0.4444444444444444,
              "#bd3786"
             ],
             [
              0.5555555555555556,
              "#d8576b"
             ],
             [
              0.6666666666666666,
              "#ed7953"
             ],
             [
              0.7777777777777778,
              "#fb9f3a"
             ],
             [
              0.8888888888888888,
              "#fdca26"
             ],
             [
              1,
              "#f0f921"
             ]
            ],
            "type": "histogram2dcontour"
           }
          ],
          "mesh3d": [
           {
            "colorbar": {
             "outlinewidth": 0,
             "ticks": ""
            },
            "type": "mesh3d"
           }
          ],
          "parcoords": [
           {
            "line": {
             "colorbar": {
              "outlinewidth": 0,
              "ticks": ""
             }
            },
            "type": "parcoords"
           }
          ],
          "pie": [
           {
            "automargin": true,
            "type": "pie"
           }
          ],
          "scatter": [
           {
            "marker": {
             "colorbar": {
              "outlinewidth": 0,
              "ticks": ""
             }
            },
            "type": "scatter"
           }
          ],
          "scatter3d": [
           {
            "line": {
             "colorbar": {
              "outlinewidth": 0,
              "ticks": ""
             }
            },
            "marker": {
             "colorbar": {
              "outlinewidth": 0,
              "ticks": ""
             }
            },
            "type": "scatter3d"
           }
          ],
          "scattercarpet": [
           {
            "marker": {
             "colorbar": {
              "outlinewidth": 0,
              "ticks": ""
             }
            },
            "type": "scattercarpet"
           }
          ],
          "scattergeo": [
           {
            "marker": {
             "colorbar": {
              "outlinewidth": 0,
              "ticks": ""
             }
            },
            "type": "scattergeo"
           }
          ],
          "scattergl": [
           {
            "marker": {
             "colorbar": {
              "outlinewidth": 0,
              "ticks": ""
             }
            },
            "type": "scattergl"
           }
          ],
          "scattermapbox": [
           {
            "marker": {
             "colorbar": {
              "outlinewidth": 0,
              "ticks": ""
             }
            },
            "type": "scattermapbox"
           }
          ],
          "scatterpolar": [
           {
            "marker": {
             "colorbar": {
              "outlinewidth": 0,
              "ticks": ""
             }
            },
            "type": "scatterpolar"
           }
          ],
          "scatterpolargl": [
           {
            "marker": {
             "colorbar": {
              "outlinewidth": 0,
              "ticks": ""
             }
            },
            "type": "scatterpolargl"
           }
          ],
          "scatterternary": [
           {
            "marker": {
             "colorbar": {
              "outlinewidth": 0,
              "ticks": ""
             }
            },
            "type": "scatterternary"
           }
          ],
          "surface": [
           {
            "colorbar": {
             "outlinewidth": 0,
             "ticks": ""
            },
            "colorscale": [
             [
              0,
              "#0d0887"
             ],
             [
              0.1111111111111111,
              "#46039f"
             ],
             [
              0.2222222222222222,
              "#7201a8"
             ],
             [
              0.3333333333333333,
              "#9c179e"
             ],
             [
              0.4444444444444444,
              "#bd3786"
             ],
             [
              0.5555555555555556,
              "#d8576b"
             ],
             [
              0.6666666666666666,
              "#ed7953"
             ],
             [
              0.7777777777777778,
              "#fb9f3a"
             ],
             [
              0.8888888888888888,
              "#fdca26"
             ],
             [
              1,
              "#f0f921"
             ]
            ],
            "type": "surface"
           }
          ],
          "table": [
           {
            "cells": {
             "fill": {
              "color": "#EBF0F8"
             },
             "line": {
              "color": "white"
             }
            },
            "header": {
             "fill": {
              "color": "#C8D4E3"
             },
             "line": {
              "color": "white"
             }
            },
            "type": "table"
           }
          ]
         },
         "layout": {
          "annotationdefaults": {
           "arrowcolor": "#2a3f5f",
           "arrowhead": 0,
           "arrowwidth": 1
          },
          "autotypenumbers": "strict",
          "coloraxis": {
           "colorbar": {
            "outlinewidth": 0,
            "ticks": ""
           }
          },
          "colorscale": {
           "diverging": [
            [
             0,
             "#8e0152"
            ],
            [
             0.1,
             "#c51b7d"
            ],
            [
             0.2,
             "#de77ae"
            ],
            [
             0.3,
             "#f1b6da"
            ],
            [
             0.4,
             "#fde0ef"
            ],
            [
             0.5,
             "#f7f7f7"
            ],
            [
             0.6,
             "#e6f5d0"
            ],
            [
             0.7,
             "#b8e186"
            ],
            [
             0.8,
             "#7fbc41"
            ],
            [
             0.9,
             "#4d9221"
            ],
            [
             1,
             "#276419"
            ]
           ],
           "sequential": [
            [
             0,
             "#0d0887"
            ],
            [
             0.1111111111111111,
             "#46039f"
            ],
            [
             0.2222222222222222,
             "#7201a8"
            ],
            [
             0.3333333333333333,
             "#9c179e"
            ],
            [
             0.4444444444444444,
             "#bd3786"
            ],
            [
             0.5555555555555556,
             "#d8576b"
            ],
            [
             0.6666666666666666,
             "#ed7953"
            ],
            [
             0.7777777777777778,
             "#fb9f3a"
            ],
            [
             0.8888888888888888,
             "#fdca26"
            ],
            [
             1,
             "#f0f921"
            ]
           ],
           "sequentialminus": [
            [
             0,
             "#0d0887"
            ],
            [
             0.1111111111111111,
             "#46039f"
            ],
            [
             0.2222222222222222,
             "#7201a8"
            ],
            [
             0.3333333333333333,
             "#9c179e"
            ],
            [
             0.4444444444444444,
             "#bd3786"
            ],
            [
             0.5555555555555556,
             "#d8576b"
            ],
            [
             0.6666666666666666,
             "#ed7953"
            ],
            [
             0.7777777777777778,
             "#fb9f3a"
            ],
            [
             0.8888888888888888,
             "#fdca26"
            ],
            [
             1,
             "#f0f921"
            ]
           ]
          },
          "colorway": [
           "#636efa",
           "#EF553B",
           "#00cc96",
           "#ab63fa",
           "#FFA15A",
           "#19d3f3",
           "#FF6692",
           "#B6E880",
           "#FF97FF",
           "#FECB52"
          ],
          "font": {
           "color": "#2a3f5f"
          },
          "geo": {
           "bgcolor": "white",
           "lakecolor": "white",
           "landcolor": "#E5ECF6",
           "showlakes": true,
           "showland": true,
           "subunitcolor": "white"
          },
          "hoverlabel": {
           "align": "left"
          },
          "hovermode": "closest",
          "mapbox": {
           "style": "light"
          },
          "paper_bgcolor": "white",
          "plot_bgcolor": "#E5ECF6",
          "polar": {
           "angularaxis": {
            "gridcolor": "white",
            "linecolor": "white",
            "ticks": ""
           },
           "bgcolor": "#E5ECF6",
           "radialaxis": {
            "gridcolor": "white",
            "linecolor": "white",
            "ticks": ""
           }
          },
          "scene": {
           "xaxis": {
            "backgroundcolor": "#E5ECF6",
            "gridcolor": "white",
            "gridwidth": 2,
            "linecolor": "white",
            "showbackground": true,
            "ticks": "",
            "zerolinecolor": "white"
           },
           "yaxis": {
            "backgroundcolor": "#E5ECF6",
            "gridcolor": "white",
            "gridwidth": 2,
            "linecolor": "white",
            "showbackground": true,
            "ticks": "",
            "zerolinecolor": "white"
           },
           "zaxis": {
            "backgroundcolor": "#E5ECF6",
            "gridcolor": "white",
            "gridwidth": 2,
            "linecolor": "white",
            "showbackground": true,
            "ticks": "",
            "zerolinecolor": "white"
           }
          },
          "shapedefaults": {
           "line": {
            "color": "#2a3f5f"
           }
          },
          "ternary": {
           "aaxis": {
            "gridcolor": "white",
            "linecolor": "white",
            "ticks": ""
           },
           "baxis": {
            "gridcolor": "white",
            "linecolor": "white",
            "ticks": ""
           },
           "bgcolor": "#E5ECF6",
           "caxis": {
            "gridcolor": "white",
            "linecolor": "white",
            "ticks": ""
           }
          },
          "title": {
           "x": 0.05
          },
          "xaxis": {
           "automargin": true,
           "gridcolor": "white",
           "linecolor": "white",
           "ticks": "",
           "title": {
            "standoff": 15
           },
           "zerolinecolor": "white",
           "zerolinewidth": 2
          },
          "yaxis": {
           "automargin": true,
           "gridcolor": "white",
           "linecolor": "white",
           "ticks": "",
           "title": {
            "standoff": 15
           },
           "zerolinecolor": "white",
           "zerolinewidth": 2
          }
         }
        },
        "title": {
         "text": "Comparativo entre jogadores com valores preditos"
        },
        "xaxis": {
         "tickfont": {
          "size": 14
         }
        },
        "yaxis": {
         "tickfont": {
          "size": 14
         },
         "title": {
          "font": {
           "size": 16
          },
          "text": "Pontos"
         }
        }
       }
      },
      "text/html": [
       "<div>                            <div id=\"c004d032-9071-4bd9-98e5-ef20bb4a03e6\" class=\"plotly-graph-div\" style=\"height:525px; width:100%;\"></div>            <script type=\"text/javascript\">                require([\"plotly\"], function(Plotly) {                    window.PLOTLYENV=window.PLOTLYENV || {};                                    if (document.getElementById(\"c004d032-9071-4bd9-98e5-ef20bb4a03e6\")) {                    Plotly.newPlot(                        \"c004d032-9071-4bd9-98e5-ef20bb4a03e6\",                        [{\"marker\":{\"color\":\"rgb(55, 83, 109)\"},\"name\":\"Kareem Abdul-Jabbar\",\"x\":[23.0,24.0,25.0,26.0,27.0,28.0,29.0,30.0,31.0,32.0,33.0,34.0,35.0,36.0,37.0,38.0,39.0,40.0,41.0,42.0],\"y\":[2361,4957,7779,10071,12262,14211,16486,18638,20238,22141,24175,26270,28088,29810,31527,33262,35108,36474,37639,38387],\"type\":\"bar\"},{\"marker\":{\"color\":\"rgb(26, 118, 255)\"},\"name\":\"Lebron James\",\"x\":[19,20,21,22,23,24,25,26,27,28,29,30,31,32,33,34,35,36,37,38,39,40,41,42],\"y\":[3704,5689,7589,9408,12766,14689,16372,17851,20869,22514,24074,25604,28674,30372,31734,32738,35278,36448,37532,38535,41075,42245,43329,44332],\"type\":\"bar\"}],                        {\"template\":{\"data\":{\"bar\":[{\"error_x\":{\"color\":\"#2a3f5f\"},\"error_y\":{\"color\":\"#2a3f5f\"},\"marker\":{\"line\":{\"color\":\"#E5ECF6\",\"width\":0.5},\"pattern\":{\"fillmode\":\"overlay\",\"size\":10,\"solidity\":0.2}},\"type\":\"bar\"}],\"barpolar\":[{\"marker\":{\"line\":{\"color\":\"#E5ECF6\",\"width\":0.5},\"pattern\":{\"fillmode\":\"overlay\",\"size\":10,\"solidity\":0.2}},\"type\":\"barpolar\"}],\"carpet\":[{\"aaxis\":{\"endlinecolor\":\"#2a3f5f\",\"gridcolor\":\"white\",\"linecolor\":\"white\",\"minorgridcolor\":\"white\",\"startlinecolor\":\"#2a3f5f\"},\"baxis\":{\"endlinecolor\":\"#2a3f5f\",\"gridcolor\":\"white\",\"linecolor\":\"white\",\"minorgridcolor\":\"white\",\"startlinecolor\":\"#2a3f5f\"},\"type\":\"carpet\"}],\"choropleth\":[{\"colorbar\":{\"outlinewidth\":0,\"ticks\":\"\"},\"type\":\"choropleth\"}],\"contour\":[{\"colorbar\":{\"outlinewidth\":0,\"ticks\":\"\"},\"colorscale\":[[0.0,\"#0d0887\"],[0.1111111111111111,\"#46039f\"],[0.2222222222222222,\"#7201a8\"],[0.3333333333333333,\"#9c179e\"],[0.4444444444444444,\"#bd3786\"],[0.5555555555555556,\"#d8576b\"],[0.6666666666666666,\"#ed7953\"],[0.7777777777777778,\"#fb9f3a\"],[0.8888888888888888,\"#fdca26\"],[1.0,\"#f0f921\"]],\"type\":\"contour\"}],\"contourcarpet\":[{\"colorbar\":{\"outlinewidth\":0,\"ticks\":\"\"},\"type\":\"contourcarpet\"}],\"heatmap\":[{\"colorbar\":{\"outlinewidth\":0,\"ticks\":\"\"},\"colorscale\":[[0.0,\"#0d0887\"],[0.1111111111111111,\"#46039f\"],[0.2222222222222222,\"#7201a8\"],[0.3333333333333333,\"#9c179e\"],[0.4444444444444444,\"#bd3786\"],[0.5555555555555556,\"#d8576b\"],[0.6666666666666666,\"#ed7953\"],[0.7777777777777778,\"#fb9f3a\"],[0.8888888888888888,\"#fdca26\"],[1.0,\"#f0f921\"]],\"type\":\"heatmap\"}],\"heatmapgl\":[{\"colorbar\":{\"outlinewidth\":0,\"ticks\":\"\"},\"colorscale\":[[0.0,\"#0d0887\"],[0.1111111111111111,\"#46039f\"],[0.2222222222222222,\"#7201a8\"],[0.3333333333333333,\"#9c179e\"],[0.4444444444444444,\"#bd3786\"],[0.5555555555555556,\"#d8576b\"],[0.6666666666666666,\"#ed7953\"],[0.7777777777777778,\"#fb9f3a\"],[0.8888888888888888,\"#fdca26\"],[1.0,\"#f0f921\"]],\"type\":\"heatmapgl\"}],\"histogram\":[{\"marker\":{\"pattern\":{\"fillmode\":\"overlay\",\"size\":10,\"solidity\":0.2}},\"type\":\"histogram\"}],\"histogram2d\":[{\"colorbar\":{\"outlinewidth\":0,\"ticks\":\"\"},\"colorscale\":[[0.0,\"#0d0887\"],[0.1111111111111111,\"#46039f\"],[0.2222222222222222,\"#7201a8\"],[0.3333333333333333,\"#9c179e\"],[0.4444444444444444,\"#bd3786\"],[0.5555555555555556,\"#d8576b\"],[0.6666666666666666,\"#ed7953\"],[0.7777777777777778,\"#fb9f3a\"],[0.8888888888888888,\"#fdca26\"],[1.0,\"#f0f921\"]],\"type\":\"histogram2d\"}],\"histogram2dcontour\":[{\"colorbar\":{\"outlinewidth\":0,\"ticks\":\"\"},\"colorscale\":[[0.0,\"#0d0887\"],[0.1111111111111111,\"#46039f\"],[0.2222222222222222,\"#7201a8\"],[0.3333333333333333,\"#9c179e\"],[0.4444444444444444,\"#bd3786\"],[0.5555555555555556,\"#d8576b\"],[0.6666666666666666,\"#ed7953\"],[0.7777777777777778,\"#fb9f3a\"],[0.8888888888888888,\"#fdca26\"],[1.0,\"#f0f921\"]],\"type\":\"histogram2dcontour\"}],\"mesh3d\":[{\"colorbar\":{\"outlinewidth\":0,\"ticks\":\"\"},\"type\":\"mesh3d\"}],\"parcoords\":[{\"line\":{\"colorbar\":{\"outlinewidth\":0,\"ticks\":\"\"}},\"type\":\"parcoords\"}],\"pie\":[{\"automargin\":true,\"type\":\"pie\"}],\"scatter\":[{\"marker\":{\"colorbar\":{\"outlinewidth\":0,\"ticks\":\"\"}},\"type\":\"scatter\"}],\"scatter3d\":[{\"line\":{\"colorbar\":{\"outlinewidth\":0,\"ticks\":\"\"}},\"marker\":{\"colorbar\":{\"outlinewidth\":0,\"ticks\":\"\"}},\"type\":\"scatter3d\"}],\"scattercarpet\":[{\"marker\":{\"colorbar\":{\"outlinewidth\":0,\"ticks\":\"\"}},\"type\":\"scattercarpet\"}],\"scattergeo\":[{\"marker\":{\"colorbar\":{\"outlinewidth\":0,\"ticks\":\"\"}},\"type\":\"scattergeo\"}],\"scattergl\":[{\"marker\":{\"colorbar\":{\"outlinewidth\":0,\"ticks\":\"\"}},\"type\":\"scattergl\"}],\"scattermapbox\":[{\"marker\":{\"colorbar\":{\"outlinewidth\":0,\"ticks\":\"\"}},\"type\":\"scattermapbox\"}],\"scatterpolar\":[{\"marker\":{\"colorbar\":{\"outlinewidth\":0,\"ticks\":\"\"}},\"type\":\"scatterpolar\"}],\"scatterpolargl\":[{\"marker\":{\"colorbar\":{\"outlinewidth\":0,\"ticks\":\"\"}},\"type\":\"scatterpolargl\"}],\"scatterternary\":[{\"marker\":{\"colorbar\":{\"outlinewidth\":0,\"ticks\":\"\"}},\"type\":\"scatterternary\"}],\"surface\":[{\"colorbar\":{\"outlinewidth\":0,\"ticks\":\"\"},\"colorscale\":[[0.0,\"#0d0887\"],[0.1111111111111111,\"#46039f\"],[0.2222222222222222,\"#7201a8\"],[0.3333333333333333,\"#9c179e\"],[0.4444444444444444,\"#bd3786\"],[0.5555555555555556,\"#d8576b\"],[0.6666666666666666,\"#ed7953\"],[0.7777777777777778,\"#fb9f3a\"],[0.8888888888888888,\"#fdca26\"],[1.0,\"#f0f921\"]],\"type\":\"surface\"}],\"table\":[{\"cells\":{\"fill\":{\"color\":\"#EBF0F8\"},\"line\":{\"color\":\"white\"}},\"header\":{\"fill\":{\"color\":\"#C8D4E3\"},\"line\":{\"color\":\"white\"}},\"type\":\"table\"}]},\"layout\":{\"annotationdefaults\":{\"arrowcolor\":\"#2a3f5f\",\"arrowhead\":0,\"arrowwidth\":1},\"autotypenumbers\":\"strict\",\"coloraxis\":{\"colorbar\":{\"outlinewidth\":0,\"ticks\":\"\"}},\"colorscale\":{\"diverging\":[[0,\"#8e0152\"],[0.1,\"#c51b7d\"],[0.2,\"#de77ae\"],[0.3,\"#f1b6da\"],[0.4,\"#fde0ef\"],[0.5,\"#f7f7f7\"],[0.6,\"#e6f5d0\"],[0.7,\"#b8e186\"],[0.8,\"#7fbc41\"],[0.9,\"#4d9221\"],[1,\"#276419\"]],\"sequential\":[[0.0,\"#0d0887\"],[0.1111111111111111,\"#46039f\"],[0.2222222222222222,\"#7201a8\"],[0.3333333333333333,\"#9c179e\"],[0.4444444444444444,\"#bd3786\"],[0.5555555555555556,\"#d8576b\"],[0.6666666666666666,\"#ed7953\"],[0.7777777777777778,\"#fb9f3a\"],[0.8888888888888888,\"#fdca26\"],[1.0,\"#f0f921\"]],\"sequentialminus\":[[0.0,\"#0d0887\"],[0.1111111111111111,\"#46039f\"],[0.2222222222222222,\"#7201a8\"],[0.3333333333333333,\"#9c179e\"],[0.4444444444444444,\"#bd3786\"],[0.5555555555555556,\"#d8576b\"],[0.6666666666666666,\"#ed7953\"],[0.7777777777777778,\"#fb9f3a\"],[0.8888888888888888,\"#fdca26\"],[1.0,\"#f0f921\"]]},\"colorway\":[\"#636efa\",\"#EF553B\",\"#00cc96\",\"#ab63fa\",\"#FFA15A\",\"#19d3f3\",\"#FF6692\",\"#B6E880\",\"#FF97FF\",\"#FECB52\"],\"font\":{\"color\":\"#2a3f5f\"},\"geo\":{\"bgcolor\":\"white\",\"lakecolor\":\"white\",\"landcolor\":\"#E5ECF6\",\"showlakes\":true,\"showland\":true,\"subunitcolor\":\"white\"},\"hoverlabel\":{\"align\":\"left\"},\"hovermode\":\"closest\",\"mapbox\":{\"style\":\"light\"},\"paper_bgcolor\":\"white\",\"plot_bgcolor\":\"#E5ECF6\",\"polar\":{\"angularaxis\":{\"gridcolor\":\"white\",\"linecolor\":\"white\",\"ticks\":\"\"},\"bgcolor\":\"#E5ECF6\",\"radialaxis\":{\"gridcolor\":\"white\",\"linecolor\":\"white\",\"ticks\":\"\"}},\"scene\":{\"xaxis\":{\"backgroundcolor\":\"#E5ECF6\",\"gridcolor\":\"white\",\"gridwidth\":2,\"linecolor\":\"white\",\"showbackground\":true,\"ticks\":\"\",\"zerolinecolor\":\"white\"},\"yaxis\":{\"backgroundcolor\":\"#E5ECF6\",\"gridcolor\":\"white\",\"gridwidth\":2,\"linecolor\":\"white\",\"showbackground\":true,\"ticks\":\"\",\"zerolinecolor\":\"white\"},\"zaxis\":{\"backgroundcolor\":\"#E5ECF6\",\"gridcolor\":\"white\",\"gridwidth\":2,\"linecolor\":\"white\",\"showbackground\":true,\"ticks\":\"\",\"zerolinecolor\":\"white\"}},\"shapedefaults\":{\"line\":{\"color\":\"#2a3f5f\"}},\"ternary\":{\"aaxis\":{\"gridcolor\":\"white\",\"linecolor\":\"white\",\"ticks\":\"\"},\"baxis\":{\"gridcolor\":\"white\",\"linecolor\":\"white\",\"ticks\":\"\"},\"bgcolor\":\"#E5ECF6\",\"caxis\":{\"gridcolor\":\"white\",\"linecolor\":\"white\",\"ticks\":\"\"}},\"title\":{\"x\":0.05},\"xaxis\":{\"automargin\":true,\"gridcolor\":\"white\",\"linecolor\":\"white\",\"ticks\":\"\",\"title\":{\"standoff\":15},\"zerolinecolor\":\"white\",\"zerolinewidth\":2},\"yaxis\":{\"automargin\":true,\"gridcolor\":\"white\",\"linecolor\":\"white\",\"ticks\":\"\",\"title\":{\"standoff\":15},\"zerolinecolor\":\"white\",\"zerolinewidth\":2}}},\"xaxis\":{\"tickfont\":{\"size\":14}},\"yaxis\":{\"title\":{\"text\":\"Pontos\",\"font\":{\"size\":16}},\"tickfont\":{\"size\":14}},\"legend\":{\"x\":0,\"y\":1.0,\"bgcolor\":\"rgba(255, 255, 255, 0)\",\"bordercolor\":\"rgba(255, 255, 255, 0)\"},\"title\":{\"text\":\"Comparativo entre jogadores com valores preditos\"},\"barmode\":\"group\",\"bargap\":0.15,\"bargroupgap\":0.1},                        {\"responsive\": true}                    ).then(function(){\n",
       "                            \n",
       "var gd = document.getElementById('c004d032-9071-4bd9-98e5-ef20bb4a03e6');\n",
       "var x = new MutationObserver(function (mutations, observer) {{\n",
       "        var display = window.getComputedStyle(gd).display;\n",
       "        if (!display || display === 'none') {{\n",
       "            console.log([gd, 'removed!']);\n",
       "            Plotly.purge(gd);\n",
       "            observer.disconnect();\n",
       "        }}\n",
       "}});\n",
       "\n",
       "// Listen for the removal of the full notebook cells\n",
       "var notebookContainer = gd.closest('#notebook-container');\n",
       "if (notebookContainer) {{\n",
       "    x.observe(notebookContainer, {childList: true});\n",
       "}}\n",
       "\n",
       "// Listen for the clearing of the current output cell\n",
       "var outputEl = gd.closest('.output');\n",
       "if (outputEl) {{\n",
       "    x.observe(outputEl, {childList: true});\n",
       "}}\n",
       "\n",
       "                        })                };                });            </script>        </div>"
      ]
     },
     "metadata": {},
     "output_type": "display_data"
    }
   ],
   "source": [
    "fig = go.Figure ()\n",
    "\n",
    "# Dados de Kareem\n",
    "fig.add_trace (go.Bar(\n",
    "    x = kareemCarreira.PLAYER_AGE,\n",
    "    y = kareemCarreira.SUM_PTS,\n",
    "    name = 'Kareem Abdul-Jabbar',\n",
    "    marker_color='rgb(55, 83, 109)'\n",
    "))\n",
    "\n",
    "# Dados de Lebron\n",
    "fig.add_trace (go.Bar(\n",
    "    x = lebron_predito.age,\n",
    "    y = lebron_predito.yhat,\n",
    "    name = 'Lebron James',\n",
    "    marker_color='rgb(26, 118, 255)'\n",
    "))\n",
    "\n",
    "fig.update_layout(\n",
    "    title='Comparativo entre jogadores com valores preditos',\n",
    "    xaxis_tickfont_size=14,\n",
    "    yaxis=dict(\n",
    "        title='Pontos',\n",
    "        titlefont_size=16,\n",
    "        tickfont_size=14,\n",
    "    ),\n",
    "    legend=dict(\n",
    "        x=0,\n",
    "        y=1.0,\n",
    "        bgcolor='rgba(255, 255, 255, 0)',\n",
    "        bordercolor='rgba(255, 255, 255, 0)'\n",
    "    ),\n",
    "    barmode='group',\n",
    "    bargap=0.15, # adjacent location coordinates.\n",
    "    bargroupgap=0.1 # same location coordinate.\n",
    ")\n",
    "\n",
    "fig.show()"
   ]
  }
 ],
 "metadata": {
  "kernelspec": {
   "display_name": "Python 3 (ipykernel)",
   "language": "python",
   "name": "python3"
  },
  "language_info": {
   "codemirror_mode": {
    "name": "ipython",
    "version": 3
   },
   "file_extension": ".py",
   "mimetype": "text/x-python",
   "name": "python",
   "nbconvert_exporter": "python",
   "pygments_lexer": "ipython3",
   "version": "3.9.12"
  }
 },
 "nbformat": 4,
 "nbformat_minor": 5
}
